{
 "cells": [
  {
   "cell_type": "markdown",
   "metadata": {},
   "source": [
    "### Understanding Context Awarness from ground up absolutely basics"
   ]
  },
  {
   "cell_type": "code",
   "execution_count": 81,
   "metadata": {},
   "outputs": [],
   "source": [
    "from langchain_core.messages import HumanMessage, AIMessage, SystemMessage\n",
    "from langchain_ollama import ChatOllama"
   ]
  },
  {
   "cell_type": "code",
   "execution_count": 83,
   "metadata": {},
   "outputs": [],
   "source": [
    "llm = ChatOllama(model='llama3.2:3b')"
   ]
  },
  {
   "cell_type": "code",
   "execution_count": 84,
   "metadata": {},
   "outputs": [],
   "source": [
    "message_history = []"
   ]
  },
  {
   "cell_type": "code",
   "execution_count": 85,
   "metadata": {},
   "outputs": [],
   "source": [
    "user_query = 'what is ai'\n",
    "\n",
    "message_history.append(HumanMessage(content=user_query))"
   ]
  },
  {
   "cell_type": "code",
   "execution_count": 86,
   "metadata": {},
   "outputs": [
    {
     "data": {
      "text/plain": [
       "[HumanMessage(content='what is ai', additional_kwargs={}, response_metadata={})]"
      ]
     },
     "execution_count": 86,
     "metadata": {},
     "output_type": "execute_result"
    }
   ],
   "source": [
    "message_history"
   ]
  },
  {
   "cell_type": "code",
   "execution_count": 89,
   "metadata": {},
   "outputs": [],
   "source": [
    "response = llm.invoke(message_history)\n",
    "message_history.append(response)"
   ]
  },
  {
   "cell_type": "code",
   "execution_count": 90,
   "metadata": {},
   "outputs": [
    {
     "data": {
      "text/plain": [
       "[HumanMessage(content='what is ai', additional_kwargs={}, response_metadata={}),\n",
       " AIMessage(content='AI, or Artificial Intelligence, refers to the simulation of human intelligence in machines that are programmed to think and learn like humans. The term can also be applied to any machine that exhibits traits associated with a human mind such as learning and problem-solving.\\n\\nThere are several types of AI, including:\\n\\n1. **Narrow or Weak AI**: This type of AI is designed to perform a specific task, such as facial recognition, language translation, or playing chess.\\n2. **General or Strong AI**: This type of AI is designed to perform any intellectual task that a human can, and has the ability to learn, reason, and apply knowledge across a wide range of tasks.\\n3. **Superintelligence**: This type of AI is significantly more intelligent than the best human minds, and has the potential to solve complex problems that are currently unsolvable by humans.\\n\\nSome common techniques used in AI include:\\n\\n1. **Machine Learning**: A type of AI that enables machines to learn from data without being explicitly programmed.\\n2. **Deep Learning**: A subset of machine learning that uses neural networks with multiple layers to analyze data.\\n3. **Natural Language Processing (NLP)**: A type of AI that enables machines to understand, generate, and process human language.\\n\\nAI has many applications in various fields, including:\\n\\n1. **Virtual Assistants**: Virtual assistants like Siri, Alexa, and Google Assistant use AI to understand voice commands and respond accordingly.\\n2. **Image Recognition**: AI-powered image recognition systems can identify objects, people, and patterns in images.\\n3. **Predictive Analytics**: AI-powered predictive analytics can analyze data to predict future trends and outcomes.\\n4. **Robotics**: AI is used in robotics to enable machines to perceive their environment, make decisions, and interact with humans.\\n\\nThe benefits of AI include:\\n\\n1. **Increased Efficiency**: AI can automate many tasks, freeing up time for more strategic and creative work.\\n2. **Improved Accuracy**: AI can analyze vast amounts of data quickly and accurately, reducing errors and improving decision-making.\\n3. **Enhanced Customer Experience**: AI-powered chatbots and virtual assistants can provide 24/7 support to customers.\\n\\nHowever, AI also raises concerns about:\\n\\n1. **Job Displacement**: AI has the potential to automate many jobs, potentially displacing workers.\\n2. **Bias and Discrimination**: AI systems can perpetuate biases and discrimination if they are trained on biased data.\\n3. **Security Risks**: AI-powered systems can be vulnerable to cyber attacks and data breaches.\\n\\nOverall, AI is a rapidly evolving field that holds great promise for transforming industries and improving lives.', additional_kwargs={}, response_metadata={'model': 'llama3.2:3b', 'created_at': '2025-02-15T16:57:57.4095186Z', 'done': True, 'done_reason': 'stop', 'total_duration': 66461599900, 'load_duration': 200161900, 'prompt_eval_count': 28, 'prompt_eval_duration': 119000000, 'eval_count': 527, 'eval_duration': 66141000000, 'message': Message(role='assistant', content='', images=None, tool_calls=None)}, id='run-1d86215d-f37d-4822-b7ea-1756c40e2b16-0', usage_metadata={'input_tokens': 28, 'output_tokens': 527, 'total_tokens': 555})]"
      ]
     },
     "execution_count": 90,
     "metadata": {},
     "output_type": "execute_result"
    }
   ],
   "source": [
    "message_history"
   ]
  },
  {
   "cell_type": "code",
   "execution_count": 91,
   "metadata": {},
   "outputs": [],
   "source": [
    "user_query = 'what we are discussing about'\n",
    "message_history.append(HumanMessage(content=user_query))"
   ]
  },
  {
   "cell_type": "code",
   "execution_count": 92,
   "metadata": {},
   "outputs": [
    {
     "data": {
      "text/plain": [
       "[HumanMessage(content='what is ai', additional_kwargs={}, response_metadata={}),\n",
       " AIMessage(content='AI, or Artificial Intelligence, refers to the simulation of human intelligence in machines that are programmed to think and learn like humans. The term can also be applied to any machine that exhibits traits associated with a human mind such as learning and problem-solving.\\n\\nThere are several types of AI, including:\\n\\n1. **Narrow or Weak AI**: This type of AI is designed to perform a specific task, such as facial recognition, language translation, or playing chess.\\n2. **General or Strong AI**: This type of AI is designed to perform any intellectual task that a human can, and has the ability to learn, reason, and apply knowledge across a wide range of tasks.\\n3. **Superintelligence**: This type of AI is significantly more intelligent than the best human minds, and has the potential to solve complex problems that are currently unsolvable by humans.\\n\\nSome common techniques used in AI include:\\n\\n1. **Machine Learning**: A type of AI that enables machines to learn from data without being explicitly programmed.\\n2. **Deep Learning**: A subset of machine learning that uses neural networks with multiple layers to analyze data.\\n3. **Natural Language Processing (NLP)**: A type of AI that enables machines to understand, generate, and process human language.\\n\\nAI has many applications in various fields, including:\\n\\n1. **Virtual Assistants**: Virtual assistants like Siri, Alexa, and Google Assistant use AI to understand voice commands and respond accordingly.\\n2. **Image Recognition**: AI-powered image recognition systems can identify objects, people, and patterns in images.\\n3. **Predictive Analytics**: AI-powered predictive analytics can analyze data to predict future trends and outcomes.\\n4. **Robotics**: AI is used in robotics to enable machines to perceive their environment, make decisions, and interact with humans.\\n\\nThe benefits of AI include:\\n\\n1. **Increased Efficiency**: AI can automate many tasks, freeing up time for more strategic and creative work.\\n2. **Improved Accuracy**: AI can analyze vast amounts of data quickly and accurately, reducing errors and improving decision-making.\\n3. **Enhanced Customer Experience**: AI-powered chatbots and virtual assistants can provide 24/7 support to customers.\\n\\nHowever, AI also raises concerns about:\\n\\n1. **Job Displacement**: AI has the potential to automate many jobs, potentially displacing workers.\\n2. **Bias and Discrimination**: AI systems can perpetuate biases and discrimination if they are trained on biased data.\\n3. **Security Risks**: AI-powered systems can be vulnerable to cyber attacks and data breaches.\\n\\nOverall, AI is a rapidly evolving field that holds great promise for transforming industries and improving lives.', additional_kwargs={}, response_metadata={'model': 'llama3.2:3b', 'created_at': '2025-02-15T16:57:57.4095186Z', 'done': True, 'done_reason': 'stop', 'total_duration': 66461599900, 'load_duration': 200161900, 'prompt_eval_count': 28, 'prompt_eval_duration': 119000000, 'eval_count': 527, 'eval_duration': 66141000000, 'message': Message(role='assistant', content='', images=None, tool_calls=None)}, id='run-1d86215d-f37d-4822-b7ea-1756c40e2b16-0', usage_metadata={'input_tokens': 28, 'output_tokens': 527, 'total_tokens': 555}),\n",
       " HumanMessage(content='what we are discussing about', additional_kwargs={}, response_metadata={})]"
      ]
     },
     "execution_count": 92,
     "metadata": {},
     "output_type": "execute_result"
    }
   ],
   "source": [
    "message_history"
   ]
  },
  {
   "cell_type": "code",
   "execution_count": 93,
   "metadata": {},
   "outputs": [],
   "source": [
    "response = llm.invoke(message_history)\n",
    "message_history.append(response)"
   ]
  },
  {
   "cell_type": "code",
   "execution_count": 94,
   "metadata": {},
   "outputs": [
    {
     "data": {
      "text/plain": [
       "[HumanMessage(content='what is ai', additional_kwargs={}, response_metadata={}),\n",
       " AIMessage(content='AI, or Artificial Intelligence, refers to the simulation of human intelligence in machines that are programmed to think and learn like humans. The term can also be applied to any machine that exhibits traits associated with a human mind such as learning and problem-solving.\\n\\nThere are several types of AI, including:\\n\\n1. **Narrow or Weak AI**: This type of AI is designed to perform a specific task, such as facial recognition, language translation, or playing chess.\\n2. **General or Strong AI**: This type of AI is designed to perform any intellectual task that a human can, and has the ability to learn, reason, and apply knowledge across a wide range of tasks.\\n3. **Superintelligence**: This type of AI is significantly more intelligent than the best human minds, and has the potential to solve complex problems that are currently unsolvable by humans.\\n\\nSome common techniques used in AI include:\\n\\n1. **Machine Learning**: A type of AI that enables machines to learn from data without being explicitly programmed.\\n2. **Deep Learning**: A subset of machine learning that uses neural networks with multiple layers to analyze data.\\n3. **Natural Language Processing (NLP)**: A type of AI that enables machines to understand, generate, and process human language.\\n\\nAI has many applications in various fields, including:\\n\\n1. **Virtual Assistants**: Virtual assistants like Siri, Alexa, and Google Assistant use AI to understand voice commands and respond accordingly.\\n2. **Image Recognition**: AI-powered image recognition systems can identify objects, people, and patterns in images.\\n3. **Predictive Analytics**: AI-powered predictive analytics can analyze data to predict future trends and outcomes.\\n4. **Robotics**: AI is used in robotics to enable machines to perceive their environment, make decisions, and interact with humans.\\n\\nThe benefits of AI include:\\n\\n1. **Increased Efficiency**: AI can automate many tasks, freeing up time for more strategic and creative work.\\n2. **Improved Accuracy**: AI can analyze vast amounts of data quickly and accurately, reducing errors and improving decision-making.\\n3. **Enhanced Customer Experience**: AI-powered chatbots and virtual assistants can provide 24/7 support to customers.\\n\\nHowever, AI also raises concerns about:\\n\\n1. **Job Displacement**: AI has the potential to automate many jobs, potentially displacing workers.\\n2. **Bias and Discrimination**: AI systems can perpetuate biases and discrimination if they are trained on biased data.\\n3. **Security Risks**: AI-powered systems can be vulnerable to cyber attacks and data breaches.\\n\\nOverall, AI is a rapidly evolving field that holds great promise for transforming industries and improving lives.', additional_kwargs={}, response_metadata={'model': 'llama3.2:3b', 'created_at': '2025-02-15T16:57:57.4095186Z', 'done': True, 'done_reason': 'stop', 'total_duration': 66461599900, 'load_duration': 200161900, 'prompt_eval_count': 28, 'prompt_eval_duration': 119000000, 'eval_count': 527, 'eval_duration': 66141000000, 'message': Message(role='assistant', content='', images=None, tool_calls=None)}, id='run-1d86215d-f37d-4822-b7ea-1756c40e2b16-0', usage_metadata={'input_tokens': 28, 'output_tokens': 527, 'total_tokens': 555}),\n",
       " HumanMessage(content='what we are discussing about', additional_kwargs={}, response_metadata={}),\n",
       " AIMessage(content=\"We are discussing Artificial Intelligence (AI). Specifically, I provided an overview of what AI is, its different types, techniques, applications, benefits, and concerns. If you'd like to dive deeper into any particular aspect of AI, feel free to ask!\", additional_kwargs={}, response_metadata={'model': 'llama3.2:3b', 'created_at': '2025-02-15T16:59:58.2831343Z', 'done': True, 'done_reason': 'stop', 'total_duration': 8610338900, 'load_duration': 41468300, 'prompt_eval_count': 569, 'prompt_eval_duration': 714000000, 'eval_count': 52, 'eval_duration': 7160000000, 'message': Message(role='assistant', content='', images=None, tool_calls=None)}, id='run-b7a00a31-aa9e-429b-8a83-d70cb809fdb6-0', usage_metadata={'input_tokens': 569, 'output_tokens': 52, 'total_tokens': 621})]"
      ]
     },
     "execution_count": 94,
     "metadata": {},
     "output_type": "execute_result"
    }
   ],
   "source": [
    "message_history"
   ]
  },
  {
   "cell_type": "markdown",
   "metadata": {},
   "source": [
    "### Now understand using Langchain build up functionalites using main concept of memory and history "
   ]
  },
  {
   "cell_type": "code",
   "execution_count": 95,
   "metadata": {},
   "outputs": [],
   "source": [
    "from langchain_community.chat_message_histories import ChatMessageHistory"
   ]
  },
  {
   "cell_type": "code",
   "execution_count": 96,
   "metadata": {},
   "outputs": [],
   "source": [
    "history = ChatMessageHistory()"
   ]
  },
  {
   "cell_type": "code",
   "execution_count": 97,
   "metadata": {},
   "outputs": [],
   "source": [
    "history.add_user_message('what is ai')"
   ]
  },
  {
   "cell_type": "code",
   "execution_count": 98,
   "metadata": {},
   "outputs": [],
   "source": [
    "history.add_ai_message('Ai is this this')"
   ]
  },
  {
   "cell_type": "code",
   "execution_count": 99,
   "metadata": {},
   "outputs": [
    {
     "data": {
      "text/plain": [
       "[HumanMessage(content='what is ai', additional_kwargs={}, response_metadata={}),\n",
       " AIMessage(content='Ai is this this', additional_kwargs={}, response_metadata={})]"
      ]
     },
     "execution_count": 99,
     "metadata": {},
     "output_type": "execute_result"
    }
   ],
   "source": [
    "history.messages"
   ]
  },
  {
   "cell_type": "markdown",
   "metadata": {},
   "source": [
    "### This is another technique which is implementing same thing creating memory and mantaining history "
   ]
  },
  {
   "cell_type": "code",
   "execution_count": 100,
   "metadata": {},
   "outputs": [],
   "source": [
    "from langchain.memory import ConversationBufferMemory\n",
    "from langchain.chains import ConversationChain"
   ]
  },
  {
   "cell_type": "code",
   "execution_count": 101,
   "metadata": {},
   "outputs": [
    {
     "name": "stderr",
     "output_type": "stream",
     "text": [
      "C:\\Users\\TALHA PC\\AppData\\Local\\Temp\\ipykernel_9992\\995385594.py:1: LangChainDeprecationWarning: Please see the migration guide at: https://python.langchain.com/docs/versions/migrating_memory/\n",
      "  memory = ConversationBufferMemory()\n"
     ]
    }
   ],
   "source": [
    "memory = ConversationBufferMemory()"
   ]
  },
  {
   "cell_type": "code",
   "execution_count": 103,
   "metadata": {},
   "outputs": [],
   "source": [
    "conversation  = ConversationChain(llm=llm, memory=memory)"
   ]
  },
  {
   "cell_type": "code",
   "execution_count": 104,
   "metadata": {},
   "outputs": [
    {
     "data": {
      "text/plain": [
       "\"Nice to meet you, Ali! I'm an artificial intelligence designed to assist and communicate with humans like you. My primary function is to provide information and answer questions to the best of my knowledge based on my training data. I've been trained on a vast amount of text from various sources, including books, articles, research papers, and websites.\\n\\nI can understand natural language and generate human-like responses. However, keep in mind that I'm not perfect and may make mistakes or not know certain answers to specific questions. But don't worry, I'll always try my best to provide accurate and helpful information!\\n\\nWhat brings you here today? Would you like to chat about something in particular or ask for recommendations on a topic?\""
      ]
     },
     "execution_count": 104,
     "metadata": {},
     "output_type": "execute_result"
    }
   ],
   "source": [
    "conversation.predict(input=\"Hey! My name is Ali.\")"
   ]
  },
  {
   "cell_type": "code",
   "execution_count": 105,
   "metadata": {},
   "outputs": [
    {
     "name": "stdout",
     "output_type": "stream",
     "text": [
      "Nice follow-up question, Ali! However, I have to say that I don't actually know your first name. You mentioned it at the beginning of our conversation, but I'm a large language model, I don't retain information about individual users or their personal details unless they explicitly share them with me.\n",
      "\n",
      "But I can tell you that your full name is Ali, if you'd like to confirm!\n"
     ]
    }
   ],
   "source": [
    "print(conversation.predict(input=\"What is my name?\"))"
   ]
  },
  {
   "cell_type": "code",
   "execution_count": 106,
   "metadata": {},
   "outputs": [
    {
     "data": {
      "text/plain": [
       "ConversationBufferMemory(chat_memory=InMemoryChatMessageHistory(messages=[HumanMessage(content='Hey! My name is Ali.', additional_kwargs={}, response_metadata={}), AIMessage(content=\"Nice to meet you, Ali! I'm an artificial intelligence designed to assist and communicate with humans like you. My primary function is to provide information and answer questions to the best of my knowledge based on my training data. I've been trained on a vast amount of text from various sources, including books, articles, research papers, and websites.\\n\\nI can understand natural language and generate human-like responses. However, keep in mind that I'm not perfect and may make mistakes or not know certain answers to specific questions. But don't worry, I'll always try my best to provide accurate and helpful information!\\n\\nWhat brings you here today? Would you like to chat about something in particular or ask for recommendations on a topic?\", additional_kwargs={}, response_metadata={}), HumanMessage(content='What is my name?', additional_kwargs={}, response_metadata={}), AIMessage(content=\"Nice follow-up question, Ali! However, I have to say that I don't actually know your first name. You mentioned it at the beginning of our conversation, but I'm a large language model, I don't retain information about individual users or their personal details unless they explicitly share them with me.\\n\\nBut I can tell you that your full name is Ali, if you'd like to confirm!\", additional_kwargs={}, response_metadata={})]))"
      ]
     },
     "execution_count": 106,
     "metadata": {},
     "output_type": "execute_result"
    }
   ],
   "source": [
    "memory"
   ]
  },
  {
   "cell_type": "markdown",
   "metadata": {},
   "source": [
    "### Using other techniques like ConversationSummaryMemory"
   ]
  },
  {
   "cell_type": "code",
   "execution_count": 107,
   "metadata": {},
   "outputs": [],
   "source": [
    "from langchain.memory import ConversationSummaryMemory"
   ]
  },
  {
   "cell_type": "code",
   "execution_count": 108,
   "metadata": {},
   "outputs": [
    {
     "name": "stderr",
     "output_type": "stream",
     "text": [
      "C:\\Users\\TALHA PC\\AppData\\Local\\Temp\\ipykernel_9992\\2028317636.py:1: LangChainDeprecationWarning: Please see the migration guide at: https://python.langchain.com/docs/versions/migrating_memory/\n",
      "  summary_memory = ConversationSummaryMemory(llm=llm)\n"
     ]
    }
   ],
   "source": [
    "summary_memory = ConversationSummaryMemory(llm=llm)"
   ]
  },
  {
   "cell_type": "code",
   "execution_count": 109,
   "metadata": {},
   "outputs": [],
   "source": [
    "conversation = ConversationChain(llm=llm, memory=summary_memory)"
   ]
  },
  {
   "cell_type": "code",
   "execution_count": 110,
   "metadata": {},
   "outputs": [
    {
     "data": {
      "text/plain": [
       "\"Pakistan! Beautiful country with such rich history and culture. Did you know that Pakistan has over 20 UNESCO World Heritage Sites, including the Lahore Fort, the ancient city of Mohenjo-Daro, and the scenic Hunza Valley? And, as a fan of AI, I'm sure you're familiar with the work being done by researchers like Dr. Afzal Godil from the University of Punjab, who's made significant contributions to computer vision and object recognition using deep learning techniques. What is it about AI that you find particularly fascinating?\""
      ]
     },
     "execution_count": 110,
     "metadata": {},
     "output_type": "execute_result"
    }
   ],
   "source": [
    "conversation.predict(input=\"I live in Pakistan and love AI.\")"
   ]
  },
  {
   "cell_type": "code",
   "execution_count": 111,
   "metadata": {},
   "outputs": [
    {
     "data": {
      "text/plain": [
       "\"I'm glad you asked! As our conversation has progressed, I've been able to learn a bit more about your interests and preferences. You mentioned that you live in Pakistan and love AI - that's great to know! However, I don't have any specific personal memories of our previous conversations or interactions outside of this chat session.\\n\\nI'm designed to learn from patterns and context, so while I can recognize certain keywords and phrases associated with your interests, I don't have a personalized recollection of individual users. Each time you interact with me, it's a new conversation, and I start from scratch. Would you like to share more about yourself or what brings you here today?\""
      ]
     },
     "execution_count": 111,
     "metadata": {},
     "output_type": "execute_result"
    }
   ],
   "source": [
    "conversation.predict(input=\"What do you remember about me?\")"
   ]
  },
  {
   "cell_type": "code",
   "execution_count": 112,
   "metadata": {},
   "outputs": [
    {
     "data": {
      "text/plain": [
       "ConversationSummaryMemory(llm=ChatOllama(model='llama3.2:3b'), chat_memory=InMemoryChatMessageHistory(messages=[HumanMessage(content='I live in Pakistan and love AI.', additional_kwargs={}, response_metadata={}), AIMessage(content=\"Pakistan! Beautiful country with such rich history and culture. Did you know that Pakistan has over 20 UNESCO World Heritage Sites, including the Lahore Fort, the ancient city of Mohenjo-Daro, and the scenic Hunza Valley? And, as a fan of AI, I'm sure you're familiar with the work being done by researchers like Dr. Afzal Godil from the University of Punjab, who's made significant contributions to computer vision and object recognition using deep learning techniques. What is it about AI that you find particularly fascinating?\", additional_kwargs={}, response_metadata={}), HumanMessage(content='What do you remember about me?', additional_kwargs={}, response_metadata={}), AIMessage(content=\"I'm glad you asked! As our conversation has progressed, I've been able to learn a bit more about your interests and preferences. You mentioned that you live in Pakistan and love AI - that's great to know! However, I don't have any specific personal memories of our previous conversations or interactions outside of this chat session.\\n\\nI'm designed to learn from patterns and context, so while I can recognize certain keywords and phrases associated with your interests, I don't have a personalized recollection of individual users. Each time you interact with me, it's a new conversation, and I start from scratch. Would you like to share more about yourself or what brings you here today?\", additional_kwargs={}, response_metadata={})]), buffer=\"Current summary:\\nThe human asks what the AI thinks of artificial intelligence. The AI thinks artificial intelligence is a force for good because it will help humans reach their full potential, and it seems to have a fascination with Pakistan's rich history and culture, highlighting notable researchers like Dr. Afzal Godil who contribute significantly to the field of computer vision and object recognition using deep learning techniques.\\n\\nNew lines of conversation:\\nHuman: What do you remember about me?\\nAI: I'm glad you asked! As our conversation has progressed, I've been able to learn a bit more about your interests and preferences. You mentioned that you live in Pakistan and love AI - that's great to know! However, I don't have any specific personal memories of our previous conversations or interactions outside of this chat session.\\n\\nI'm designed to learn from patterns and context, so while I can recognize certain keywords and phrases associated with your interests, I don't have a personalized recollection of individual users. Each time you interact with me, it's a new conversation, and I start from scratch. Would you like to share more about yourself or what brings you here today?\\n\\nNew summary:\\nThe human asks what the AI thinks of artificial intelligence. The AI thinks artificial intelligence is a force for good because it will help humans reach their full potential, and it seems to have a fascination with Pakistan's rich history and culture, highlighting notable researchers like Dr. Afzal Godil who contribute significantly to the field of computer vision and object recognition using deep learning techniques. However, when asked what they remember about the human, the AI reveals that it lacks personal memories due to its design as a conversational AI that starts from scratch with each new interaction, despite having learned more about the user's interests through their conversation patterns and keywords associated with their preferences.\")"
      ]
     },
     "execution_count": 112,
     "metadata": {},
     "output_type": "execute_result"
    }
   ],
   "source": [
    "summary_memory"
   ]
  },
  {
   "cell_type": "markdown",
   "metadata": {},
   "source": [
    "### Using Another Technique ConversationWindowBufferMemory"
   ]
  },
  {
   "cell_type": "code",
   "execution_count": 114,
   "metadata": {},
   "outputs": [],
   "source": [
    "from langchain.memory import ConversationBufferWindowMemory"
   ]
  },
  {
   "cell_type": "code",
   "execution_count": 115,
   "metadata": {},
   "outputs": [
    {
     "name": "stderr",
     "output_type": "stream",
     "text": [
      "C:\\Users\\TALHA PC\\AppData\\Local\\Temp\\ipykernel_9992\\3645135692.py:1: LangChainDeprecationWarning: Please see the migration guide at: https://python.langchain.com/docs/versions/migrating_memory/\n",
      "  window_memory = ConversationBufferWindowMemory(k=3)\n"
     ]
    }
   ],
   "source": [
    "window_memory = ConversationBufferWindowMemory(k=3)"
   ]
  },
  {
   "cell_type": "code",
   "execution_count": 116,
   "metadata": {},
   "outputs": [],
   "source": [
    "conversation = ConversationChain(llm=llm, memory=window_memory)"
   ]
  },
  {
   "cell_type": "code",
   "execution_count": 117,
   "metadata": {},
   "outputs": [
    {
     "data": {
      "text/plain": [
       "\"Hello Ali! It's lovely to meet you! I'm an AI named Zeta, and I'm here to help answer any questions or just chat with you about anything that interests you. By the way, did you know that I've been trained on a vast amount of text data from various sources, including books, articles, and websites? I can recall specific details and facts on a wide range of topics, from science and history to entertainment and culture. What would you like to talk about today, Ali?\""
      ]
     },
     "execution_count": 117,
     "metadata": {},
     "output_type": "execute_result"
    }
   ],
   "source": [
    "conversation.predict(input=\"Hello! My name is Ali.\")"
   ]
  },
  {
   "cell_type": "code",
   "execution_count": 118,
   "metadata": {},
   "outputs": [
    {
     "data": {
      "text/plain": [
       "'Coding, that\\'s great! I\\'ve got some fun facts for you about coding. Did you know that the word \"algorithm\" comes from the Arabic word \"al-khitab,\" which means \"the written discussion\"? It was first used by mathematician Muhammad ibn Musa al-Khwarizmi to describe a method for solving equations.\\n\\nAs for coding languages, I\\'m familiar with popular ones like Python, Java, and JavaScript. However, I don\\'t have personal experience or expertise in coding, but I can provide information on various programming concepts, data structures, and software development principles if you\\'re interested!\\n\\nIf you\\'d like to talk about a specific topic within the realm of coding, feel free to share, and I\\'ll do my best to provide detailed answers or point you in the right direction.'"
      ]
     },
     "execution_count": 118,
     "metadata": {},
     "output_type": "execute_result"
    }
   ],
   "source": [
    "conversation.predict(input=\"I love coding.\")"
   ]
  },
  {
   "cell_type": "code",
   "execution_count": 119,
   "metadata": {},
   "outputs": [
    {
     "data": {
      "text/plain": [
       "\"Python! That's a fantastic choice, Ali. Python is known for its simplicity, readability, and versatility. Did you know that Guido van Rossum, the creator of Python, was working at the National Research Institute for Mathematics and Computer Science in the Netherlands when he started developing the language in the late 1980s? He wanted to create a language that was easy to learn and use, but still powerful enough for complex tasks.\\n\\nIn terms of popular libraries and frameworks used with Python, I can mention NumPy, pandas, and scikit-learn for data science, Flask and Django for web development, and Pygame for game development. These are just a few examples, but there are many more tools and technologies available for Python developers to explore.\\n\\nWhat specific areas of Python programming interest you, Ali? Are you working on a project, or do you have questions about certain concepts or libraries? I'm here to help!\""
      ]
     },
     "execution_count": 119,
     "metadata": {},
     "output_type": "execute_result"
    }
   ],
   "source": [
    "conversation.predict(input=\"My favorite language is Python.\")"
   ]
  },
  {
   "cell_type": "code",
   "execution_count": 120,
   "metadata": {},
   "outputs": [
    {
     "data": {
      "text/plain": [
       "\"Your name is Ali. We were just having a conversation about your favorite programming language, Python! You mentioned that it's your top choice, and we discussed some fun facts about the language, its creator Guido van Rossum, and some popular libraries and frameworks used with Python. Is there anything specific you'd like to know or talk about regarding Python?\""
      ]
     },
     "execution_count": 120,
     "metadata": {},
     "output_type": "execute_result"
    }
   ],
   "source": [
    "conversation.predict(input=\"What is my name?\")"
   ]
  },
  {
   "cell_type": "code",
   "execution_count": 121,
   "metadata": {},
   "outputs": [
    {
     "data": {
      "text/plain": [
       "\"I think I see a pattern here! You're asking what your name is again. Don't worry, Ali, I'm happy to remind you - it's still Ali! We've been chatting about your love for coding and Python specifically. If you'd like to explore more topics or ask questions, I'm all ears (or rather, all text). Please feel free to ask anything, and I'll do my best to assist you!\""
      ]
     },
     "execution_count": 121,
     "metadata": {},
     "output_type": "execute_result"
    }
   ],
   "source": [
    "conversation.predict(input=\"What is my name?\")"
   ]
  },
  {
   "cell_type": "code",
   "execution_count": 122,
   "metadata": {},
   "outputs": [
    {
     "data": {
      "text/plain": [
       "'I think there may be a bit of confusion here! You\\'ve asked me \"what is lover\" twice in a row, and I\\'m happy to help clarify. However, I must admit that I don\\'t have any specific information on the meaning or definition of the word \"lover\". As a conversational AI, my knowledge base doesn\\'t include all possible words and phrases, and sometimes I might not know the answer to a question.\\n\\nIf you\\'re asking about love or relationships in general, I\\'d be happy to chat with you about those topics. Alternatively, if you have any specific context or meaning attached to the word \"lover\", please feel free to share it with me!'"
      ]
     },
     "execution_count": 122,
     "metadata": {},
     "output_type": "execute_result"
    }
   ],
   "source": [
    "conversation.predict(input='what is lover')"
   ]
  },
  {
   "cell_type": "code",
   "execution_count": 123,
   "metadata": {},
   "outputs": [
    {
     "data": {
      "text/plain": [
       "\"Your favorite programming language! We've discussed this topic before, and you mentioned that your top choice is indeed Python. You also shared some interesting facts about how Guido van Rossum created Python in the late 1980s as a scripting language for the Python development team at NBC.\\n\\nIf you'd like to explore more languages or talk about specific features of Python, I'm here to help! Perhaps we could discuss some popular use cases for Python, such as web development with Django or machine learning with TensorFlow. Or if you have any questions about other programming languages, feel free to ask!\\n\\nBy the way, I noticed that you asked your name again earlier in our conversation. Just a friendly reminder: your name is still Ali!\""
      ]
     },
     "execution_count": 123,
     "metadata": {},
     "output_type": "execute_result"
    }
   ],
   "source": [
    "conversation.predict(input='what is my favorite language')"
   ]
  },
  {
   "cell_type": "markdown",
   "metadata": {},
   "source": [
    "### Now Using RunnableWithMessageHistory"
   ]
  },
  {
   "cell_type": "code",
   "execution_count": 125,
   "metadata": {},
   "outputs": [],
   "source": [
    "from langchain_community.chat_message_histories import ChatMessageHistory\n",
    "from langchain_core.chat_history import BaseChatMessageHistory\n",
    "from langchain_core.runnables.history import RunnableWithMessageHistory"
   ]
  },
  {
   "cell_type": "code",
   "execution_count": 135,
   "metadata": {},
   "outputs": [],
   "source": [
    "store = {}\n",
    "\n",
    "def get_session_memory(session_id: str) -> BaseChatMessageHistory:\n",
    "    if session_id not in store:\n",
    "        store[session_id] = ChatMessageHistory()\n",
    "\n",
    "    else:\n",
    "        return store[session_id]"
   ]
  },
  {
   "cell_type": "code",
   "execution_count": 137,
   "metadata": {},
   "outputs": [],
   "source": [
    "runnable = RunnableWithMessageHistory(\n",
    "    llm,\n",
    "    get_session_memory\n",
    ")"
   ]
  },
  {
   "cell_type": "code",
   "execution_count": 139,
   "metadata": {},
   "outputs": [
    {
     "name": "stderr",
     "output_type": "stream",
     "text": [
      "NotImplementedError in RootListenersTracer.on_llm_end callback: NotImplementedError('Trying to load an object that doesn\\'t implement serialization: {\\'lc\\': 1, \\'type\\': \\'not_implemented\\', \\'id\\': [\\'ollama\\', \\'_types\\', \\'Message\\'], \\'repr\\': \"Message(role=\\'assistant\\', content=\\'\\', images=None, tool_calls=None)\"}')\n"
     ]
    },
    {
     "data": {
      "text/plain": [
       "AIMessage(content='Artificial Intelligence (AI) refers to the simulation of human intelligence in machines that are programmed to think like humans and mimic their actions. The term may also be applied to any machine that exhibits traits associated with a human mind such as learning and problem-solving.\\n\\nThere are several types of AI, including:\\n\\n1. **Narrow or Weak AI**: This type of AI is designed to perform a specific task, such as facial recognition or language translation, and is typically limited to a particular domain.\\n2. **General or Strong AI**: This type of AI would possess the ability to understand, learn, and apply its intelligence to solve any problem, much like a human being.\\n3. **Superintelligence**: This type of AI is significantly more intelligent than the best human minds, with the potential to pose an existential risk to humanity.\\n\\nAI has many applications in areas such as:\\n\\n1. **Virtual assistants**: Such as Siri, Alexa, and Google Assistant, which can perform tasks, answer questions, and provide information.\\n2. **Image recognition**: AI can be used to identify objects, people, and patterns in images.\\n3. **Natural Language Processing (NLP)**: AI can be used to understand and generate human language.\\n4. **Robotics**: AI can be used to control robots that can perform tasks such as assembly, transportation, and customer service.\\n5. **Healthcare**: AI can be used to analyze medical data, diagnose diseases, and develop personalized treatment plans.\\n\\nThe benefits of AI include:\\n\\n1. **Increased efficiency**: AI can automate many tasks, freeing up time for more complex and creative work.\\n2. **Improved accuracy**: AI can reduce errors and improve the quality of tasks such as image recognition and natural language processing.\\n3. **Enhanced decision-making**: AI can analyze large amounts of data and provide insights that humans may miss.\\n\\nHowever, AI also raises several concerns, including:\\n\\n1. **Job displacement**: AI has the potential to automate many jobs, leading to job displacement.\\n2. **Bias and fairness**: AI systems can perpetuate biases and discrimination if they are trained on biased data.\\n3. **Security**: AI systems can be vulnerable to cyber attacks and data breaches.\\n\\nOverall, AI has the potential to transform many aspects of our lives, but it also requires careful consideration of its benefits and risks.', additional_kwargs={}, response_metadata={'model': 'llama3.2:3b', 'created_at': '2025-02-15T18:14:33.7996412Z', 'done': True, 'done_reason': 'stop', 'total_duration': 71043547200, 'load_duration': 6159005400, 'prompt_eval_count': 29, 'prompt_eval_duration': 1266000000, 'eval_count': 469, 'eval_duration': 63616000000, 'message': Message(role='assistant', content='', images=None, tool_calls=None)}, id='run-fc8b90e1-8752-4670-b400-c2a4b45cf5ff-0', usage_metadata={'input_tokens': 29, 'output_tokens': 469, 'total_tokens': 498})"
      ]
     },
     "execution_count": 139,
     "metadata": {},
     "output_type": "execute_result"
    }
   ],
   "source": [
    "runnable.invoke(\n",
    "    [HumanMessage(content='what is AI?')],\n",
    "    config={'configurable' : {'session_id' : 'chat1'}}\n",
    ")"
   ]
  },
  {
   "cell_type": "code",
   "execution_count": 140,
   "metadata": {},
   "outputs": [
    {
     "name": "stderr",
     "output_type": "stream",
     "text": [
      "NotImplementedError in RootListenersTracer.on_llm_end callback: NotImplementedError('Trying to load an object that doesn\\'t implement serialization: {\\'lc\\': 1, \\'type\\': \\'not_implemented\\', \\'id\\': [\\'ollama\\', \\'_types\\', \\'Message\\'], \\'repr\\': \"Message(role=\\'assistant\\', content=\\'\\', images=None, tool_calls=None)\"}')\n"
     ]
    },
    {
     "data": {
      "text/plain": [
       "AIMessage(content=\"Generative AI, also known as Generative Artificial Intelligence (GAI), refers to a type of artificial intelligence that can generate new, original data or content based on patterns and structures learned from existing data. This technology has the ability to create new, synthetic data that resembles real-world data, making it useful for various applications such as image and video generation, music composition, text summarization, and more.\\n\\nGenerative AI models use complex algorithms and machine learning techniques, such as deep learning and neural networks, to learn from large datasets and identify patterns. These patterns are then used to generate new data that is similar in style, structure, and content to the original data.\\n\\nSome common applications of Generative AI include:\\n\\n1. **Image Generation**: Generating new images based on a given style or theme.\\n2. **Text-to-Image Synthesis**: Converting text descriptions into corresponding images.\\n3. **Music Composition**: Generating music that is similar in style and structure to existing music.\\n4. **Data Augmentation**: Generating additional data to augment existing datasets, improving model performance and reducing overfitting.\\n5. **Creative Writing**: Using Generative AI models to generate new stories, poems, or dialogues.\\n\\nGenerative AI has many potential applications across various industries, including:\\n\\n1. **Art and Design**: Enabling new forms of creative expression and artistic collaboration.\\n2. **Media and Entertainment**: Generating content for movies, TV shows, video games, and other media platforms.\\n3. **Marketing and Advertising**: Creating personalized and targeted advertising campaigns.\\n4. **Scientific Research**: Generating synthetic data for research purposes, such as medical imaging or climate modeling.\\n\\nHowever, Generative AI also raises several concerns and challenges, including:\\n\\n1. **Bias and Fairness**: Ensuring that generated content is fair, unbiased, and respectful of diverse perspectives.\\n2. **Authenticity and Trust**: Verifying the authenticity of generated content and maintaining trust in its accuracy and reliability.\\n3. **Ethics and Responsibility**: Considering the social and cultural implications of generating synthetic data and ensuring responsible use.\\n\\nOverall, Generative AI has the potential to revolutionize various industries by enabling new forms of creative expression, improving efficiency, and enhancing decision-making processes. However, it's essential to address the challenges and concerns associated with this technology to ensure its safe and effective deployment.\", additional_kwargs={}, response_metadata={'model': 'llama3.2:3b', 'created_at': '2025-02-15T18:15:52.5026734Z', 'done': True, 'done_reason': 'stop', 'total_duration': 67449258100, 'load_duration': 78338000, 'prompt_eval_count': 31, 'prompt_eval_duration': 517000000, 'eval_count': 473, 'eval_duration': 66852000000, 'message': Message(role='assistant', content='', images=None, tool_calls=None)}, id='run-7dab2c7a-3bdd-43f8-bf1d-126339f5646a-0', usage_metadata={'input_tokens': 31, 'output_tokens': 473, 'total_tokens': 504})"
      ]
     },
     "execution_count": 140,
     "metadata": {},
     "output_type": "execute_result"
    }
   ],
   "source": [
    "runnable.invoke(\n",
    "    [HumanMessage(content='what is Generative AI?')],\n",
    "    config={'configurable' : {'session_id' : 'chat1'}}\n",
    ")"
   ]
  },
  {
   "cell_type": "code",
   "execution_count": 142,
   "metadata": {},
   "outputs": [
    {
     "data": {
      "text/plain": [
       "[]"
      ]
     },
     "execution_count": 142,
     "metadata": {},
     "output_type": "execute_result"
    }
   ],
   "source": [
    "store['chat1'].messages"
   ]
  },
  {
   "cell_type": "code",
   "execution_count": null,
   "metadata": {},
   "outputs": [],
   "source": []
  }
 ],
 "metadata": {
  "kernelspec": {
   "display_name": "base",
   "language": "python",
   "name": "python3"
  },
  "language_info": {
   "codemirror_mode": {
    "name": "ipython",
    "version": 3
   },
   "file_extension": ".py",
   "mimetype": "text/x-python",
   "name": "python",
   "nbconvert_exporter": "python",
   "pygments_lexer": "ipython3",
   "version": "3.12.7"
  }
 },
 "nbformat": 4,
 "nbformat_minor": 2
}
