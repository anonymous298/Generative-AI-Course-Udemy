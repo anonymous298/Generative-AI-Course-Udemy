{
 "cells": [
  {
   "cell_type": "markdown",
   "metadata": {},
   "source": [
    "# Fundamentals Of Langchain"
   ]
  },
  {
   "cell_type": "code",
   "execution_count": 1,
   "metadata": {},
   "outputs": [],
   "source": [
    "# Importing Necessary Dependencies\n",
    "from langchain.chat_models import ChatOllama\n",
    "from langchain.prompts.chat import ChatPromptTemplate\n",
    "from langchain_core.output_parsers import StrOutputParser"
   ]
  },
  {
   "cell_type": "code",
   "execution_count": 2,
   "metadata": {},
   "outputs": [
    {
     "data": {
      "text/plain": [
       "True"
      ]
     },
     "execution_count": 2,
     "metadata": {},
     "output_type": "execute_result"
    }
   ],
   "source": [
    "import os\n",
    "\n",
    "from dotenv import load_dotenv\n",
    "\n",
    "load_dotenv()"
   ]
  },
  {
   "cell_type": "code",
   "execution_count": 3,
   "metadata": {},
   "outputs": [
    {
     "name": "stderr",
     "output_type": "stream",
     "text": [
      "C:\\Users\\TALHA PC\\AppData\\Local\\Temp\\ipykernel_5812\\105540806.py:1: LangChainDeprecationWarning: The class `ChatOllama` was deprecated in LangChain 0.3.1 and will be removed in 1.0.0. An updated version of the class exists in the :class:`~langchain-ollama package and should be used instead. To use it run `pip install -U :class:`~langchain-ollama` and import as `from :class:`~langchain_ollama import ChatOllama``.\n",
      "  llm = ChatOllama(model='deepseek-r1:1.5b')\n"
     ]
    }
   ],
   "source": [
    "llm = ChatOllama(model='deepseek-r1:1.5b')"
   ]
  },
  {
   "cell_type": "code",
   "execution_count": 4,
   "metadata": {},
   "outputs": [],
   "source": [
    "prompt = ChatPromptTemplate.from_messages(\n",
    "    [\n",
    "        ('system', 'You are an helpful assistant'),\n",
    "        ('user', 'Question: {question}')\n",
    "    ]\n",
    ")"
   ]
  },
  {
   "cell_type": "code",
   "execution_count": 5,
   "metadata": {},
   "outputs": [],
   "source": [
    "chain = prompt | llm | StrOutputParser()"
   ]
  },
  {
   "cell_type": "code",
   "execution_count": 6,
   "metadata": {},
   "outputs": [
    {
     "data": {
      "text/plain": [
       "\"<think>\\nAlright, I need to explain what LangChain is. I know it's related to AI and language models, but I'm not exactly sure about the specifics. Let me break this down.\\n\\nFirst, the basic terms might be a good start. AI stands for Artificial Intelligence, which refers to systems that mimic human intelligence. Language models are these AI systems designed to understand and generate human language. So LangChain is an AI system that's specifically focused on generating text, probably in a way that mimics or exceeds what human language models can do.\\n\\nI should mention how it works. It likely uses something called language models because those are the core of any language-based AI. These models have been trained on vast amounts of text data to understand patterns and structures in language.\\n\\nThen, there's the part about pipelines. I remember that when you process data through a system, especially one designed for NLP tasks like language modeling, it goes through a pipeline. So LangChain probably has a series of steps or modules within this pipeline where the text is processed, maybe through various layers like tokenization (breaking text into words), encoding (converting text into numerical representations), generation (turning numerical data back into text), and perhaps evaluation to assess performance.\\n\\nNext, why is LangChain considered advanced? I think it's because it uses cutting-edge neural networks. Neural networks in AI are powerful because they can learn complex patterns from data without being explicitly programmed. So LangChain might have models that are among the best at understanding context, handling ambiguity, and generating coherent responses. Also, integrating multiple components like tokenization and encoding could make it more efficient and accurate.\\n\\nI should also mention its applications beyond just text generation. Maybe in summarizing large texts, automating tasks like writing or editing documents, or even in creative fields where precise language is needed, such as law, literature, or scientific research.\\n\\nPutting it all together, I want to explain the concept clearly so someone can understand how LangChain works and why it's useful. It needs to cover the basics of AI and NLP, introduce the idea of a specialized model for text generation, describe its internal components and architecture, highlight its advanced features, and touch on its real-world applications.\\n\\nI should make sure the language is clear and not too technical, so that even someone without deep expertise in AI can grasp the concept. Also, avoiding jargon will help explain it more comprehensively.\\n</think>\\n\\nLangChain is an advanced artificial intelligence (AI) system specifically designed for generating text with high precision and relevance. Here's a structured explanation of what LangChain is:\\n\\n1. **Core Concepts**:\\n   - **Artificial Intelligence (AI)**: AI refers to systems that simulate human intelligence, capable of understanding and responding to complex patterns.\\n   - **Language Models**: These are AI models designed to understand and generate human language, often trained on vast amounts of text data.\\n\\n2. **Functionality**:\\n   - **Pipeline Integration**: LangChain operates within a pipeline that includes steps like tokenization (breaking text into words), encoding (converting text into numerical form), and generation (turning numerical data back into text).\\n   - **Advanced Neural Networks**: It leverages sophisticated neural networks trained on large datasets to handle context, ambiguity, and generate coherent responses efficiently.\\n\\n3. **Applications**:\\n   - **Text Generation**: Used for summarizing large texts, automating tasks like writing or editing documents.\\n   - **Creative Fields**: Applied in law, literature, science, and more, where precise language is essential.\\n\\n4. **Why Advanced?**\\n   - **Precision and Context**: Utilizes neural networks to handle context and ambiguity, producing more accurate and nuanced responses.\\n   - **Efficiency**: Combines tokenization and encoding steps within a single model for streamlined processing.\\n\\nIn summary, LangChain excels in text generation by utilizing advanced neural networks and efficient pipelines, offering applications across various fields requiring precise and context-aware language output.\""
      ]
     },
     "execution_count": 6,
     "metadata": {},
     "output_type": "execute_result"
    }
   ],
   "source": [
    "chain.invoke({'question' : 'What is LangChain?'})"
   ]
  },
  {
   "cell_type": "code",
   "execution_count": 7,
   "metadata": {},
   "outputs": [],
   "source": [
    "from langchain.schema import HumanMessage, SystemMessage"
   ]
  },
  {
   "cell_type": "code",
   "execution_count": 8,
   "metadata": {},
   "outputs": [],
   "source": [
    "llm = ChatOllama(model='gemma:2b')"
   ]
  },
  {
   "cell_type": "code",
   "execution_count": 9,
   "metadata": {},
   "outputs": [],
   "source": [
    "messages = [\n",
    "    SystemMessage(content='You are an helpful assistant'),\n",
    "    HumanMessage(content='Question: What is Generative AI?')\n",
    "]"
   ]
  },
  {
   "cell_type": "code",
   "execution_count": 11,
   "metadata": {},
   "outputs": [],
   "source": [
    "response = llm.invoke(messages)"
   ]
  },
  {
   "cell_type": "code",
   "execution_count": 12,
   "metadata": {},
   "outputs": [
    {
     "data": {
      "text/plain": [
       "\"Sure, here's a breakdown of Generative AI:\\n\\n**Generative AI** is a type of artificial intelligence that focuses on creating new content, such as text, images, music, and code, based on existing data. This differs from **discriminative AI**, which focuses on learning patterns and making predictions based on data.\\n\\n**Here's a simple analogy:**\\n\\nThink of **traditional AI** as an artist who uses brushes and paints to create a painting. They learn how to paint based on the data they're given and eventually can create something entirely new.\\n\\n**Generative AI** is similar to a child who draws or builds something based on their observation and imagination. They can create something entirely new, even if they haven't been explicitly shown how to do so.\\n\\n**Here are some key characteristics of Generative AI:**\\n\\n* **Unsupervised learning:** This means the AI is trained on unlabeled data, meaning the AI doesn't need explicit instructions to generate new content.\\n* **Generative models:** These models learn patterns in data and can use this knowledge to generate new content that resembles what was in the training data.\\n* **Creativity:** Generative AI can be used to create novel and original content, including poems, songs, and stories.\\n\\n**Here are some real-world applications of Generative AI:**\\n\\n* **Language models:** These models can be used to generate human-like text, translate languages, and answer questions.\\n* **Image generation:** Generative AI can create realistic images, from paintings to photos to 3D objects.\\n* **Music composition:** Generative AI can create music, including songs, instrumentals, and even entire albums.\\n* **Code generation:** Generative AI can be used to generate code in different programming languages.\\n\\nGenerative AI is a rapidly evolving field with the potential to revolutionize many industries, including:\\n\\n* **Content creation:** Generative AI can be used to create high-quality content, such as articles, videos, and music.\\n* **Drug discovery:** Generative AI can be used to identify new drug targets and develop new treatments.\\n* **Product design:** Generative AI can be used to create new product designs and concepts.\\n\\nOverall, Generative AI is a powerful technology that can be used to create new content and solve a variety of problems.\""
      ]
     },
     "execution_count": 12,
     "metadata": {},
     "output_type": "execute_result"
    }
   ],
   "source": [
    "parser = StrOutputParser()\n",
    "parser.invoke(response)"
   ]
  },
  {
   "cell_type": "code",
   "execution_count": null,
   "metadata": {},
   "outputs": [],
   "source": []
  }
 ],
 "metadata": {
  "kernelspec": {
   "display_name": "base",
   "language": "python",
   "name": "python3"
  },
  "language_info": {
   "codemirror_mode": {
    "name": "ipython",
    "version": 3
   },
   "file_extension": ".py",
   "mimetype": "text/x-python",
   "name": "python",
   "nbconvert_exporter": "python",
   "pygments_lexer": "ipython3",
   "version": "3.12.7"
  }
 },
 "nbformat": 4,
 "nbformat_minor": 2
}
