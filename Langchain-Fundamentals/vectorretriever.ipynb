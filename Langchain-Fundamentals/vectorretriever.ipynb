{
 "cells": [
  {
   "cell_type": "code",
   "execution_count": 22,
   "metadata": {},
   "outputs": [],
   "source": [
    "from langchain_community.document_loaders import WebBaseLoader\n",
    "from langchain.text_splitter import RecursiveCharacterTextSplitter\n",
    "from langchain_chroma import Chroma\n",
    "from langchain_ollama import OllamaEmbeddings, ChatOllama\n",
    "from langchain.prompts.chat import ChatPromptTemplate"
   ]
  },
  {
   "cell_type": "code",
   "execution_count": 3,
   "metadata": {},
   "outputs": [],
   "source": [
    "loader = WebBaseLoader('https://aws.amazon.com/what-is/ai-agents/')\n",
    "documents = loader.load()"
   ]
  },
  {
   "cell_type": "code",
   "execution_count": 6,
   "metadata": {},
   "outputs": [],
   "source": [
    "text_splitter = RecursiveCharacterTextSplitter(chunk_size=1000, chunk_overlap=200)\n",
    "documents = text_splitter.split_documents(documents)"
   ]
  },
  {
   "cell_type": "code",
   "execution_count": 7,
   "metadata": {},
   "outputs": [
    {
     "data": {
      "text/plain": [
       "[Document(metadata={'source': 'https://aws.amazon.com/what-is/ai-agents/', 'title': 'What are AI Agents?- Agents in Artificial Intelligence Explained - AWS', 'description': 'What is AI agents how and why businesses use AI agents, and how to use AI agents with AWS.', 'language': 'en-US'}, page_content='What are AI Agents?- Agents in Artificial Intelligence Explained - AWS\\n\\n\\n\\n\\n\\n\\n\\n\\n\\n\\n\\n\\n\\n\\n\\n\\n\\n\\n\\n\\n\\n\\n\\n\\n\\n\\n\\n\\n\\n\\n\\n\\n\\n\\n\\n\\n\\n\\n\\n\\n\\n\\n\\n\\n\\n\\n\\n\\n\\n\\n\\n\\n\\n\\n\\n\\n\\n\\n\\n\\n\\n\\n Skip to main content\\n\\n\\n\\n\\n\\nClick here to return to Amazon Web Services homepage\\n\\n\\n\\nAbout AWS\\nContact Us\\n Support \\xa0 \\n       \\n\\n \\n English \\xa0 \\n       \\n\\n \\n My Account \\xa0 \\n       \\n\\n \\n\\n\\n\\n\\n Sign In\\n\\n\\n  Create an AWS Account \\n\\n\\n\\n\\n\\n\\n\\n   \\n\\n\\n   \\n\\n\\n\\n Close \\n\\n            Profile \\n          \\n\\n            Your profile helps improve your interactions with select AWS experiences. \\n          \\n\\n\\n\\n Login\\n\\n\\n\\n\\n\\n Close \\n\\n            Profile \\n          \\n\\n            Your profile helps improve your interactions with select AWS experiences. \\n          \\n\\n\\n\\n View profile\\n\\n\\n\\n Log out\\n\\n\\n\\n\\n\\n\\n\\n\\n\\n\\n\\nAmazon Q\\nProducts\\nSolutions\\nPricing\\nDocumentation\\nLearn\\nPartner Network\\nAWS Marketplace\\nCustomer Enablement\\nEvents\\nExplore More \\n\\n\\n\\n\\n\\n\\n\\n \\n\\n\\n\\n\\n\\n\\n\\n\\n\\n\\n\\n\\n\\n Close \\n\\n\\n\\nعربي\\nBahasa Indonesia\\nDeutsch\\nEnglish\\nEspañol\\nFrançais\\nItaliano\\nPortuguês'),\n",
       " Document(metadata={'source': 'https://aws.amazon.com/what-is/ai-agents/', 'title': 'What are AI Agents?- Agents in Artificial Intelligence Explained - AWS', 'description': 'What is AI agents how and why businesses use AI agents, and how to use AI agents with AWS.', 'language': 'en-US'}, page_content='Close \\n\\n\\n\\nعربي\\nBahasa Indonesia\\nDeutsch\\nEnglish\\nEspañol\\nFrançais\\nItaliano\\nPortuguês\\n\\n\\n\\n\\nTiếng Việt\\nTürkçe\\nΡусский\\nไทย\\n日本語\\n한국어\\n中文 (简体)\\n中文 (繁體)\\n\\n\\n\\n\\n\\n Close \\n\\nMy Profile\\nSign out of AWS Builder ID\\nAWS Management Console\\nAccount Settings\\nBilling & Cost Management\\nSecurity Credentials\\nAWS Personal Health Dashboard\\n\\n\\n\\n Close \\n\\nSupport Center\\nExpert Help\\nKnowledge Center\\nAWS Support Overview\\nAWS re:Post\\n\\n\\n\\n\\n\\n\\n\\n\\n\\n\\n\\n\\nClick here to return to Amazon Web Services homepage\\n\\n\\n\\n\\n\\n\\n \\n\\n\\n\\n\\n\\n \\n\\n\\n\\n\\n   \\n\\n\\n   \\n\\n\\n Close \\n\\n            Profile \\n          \\n\\n            Your profile helps improve your interactions with select AWS experiences. \\n          \\n\\n\\n\\n Login\\n\\n\\n\\n\\n\\n Close \\n\\n            Profile \\n          \\n\\n            Your profile helps improve your interactions with select AWS experiences. \\n          \\n\\n\\n\\n View profile\\n\\n\\n\\n Log out\\n\\n\\n\\n\\n Close \\n\\n            Profile \\n          \\n\\n            Your profile helps improve your interactions with select AWS experiences.'),\n",
       " Document(metadata={'source': 'https://aws.amazon.com/what-is/ai-agents/', 'title': 'What are AI Agents?- Agents in Artificial Intelligence Explained - AWS', 'description': 'What is AI agents how and why businesses use AI agents, and how to use AI agents with AWS.', 'language': 'en-US'}, page_content='View profile\\n\\n\\n\\n Log out\\n\\n\\n\\n\\n Close \\n\\n            Profile \\n          \\n\\n            Your profile helps improve your interactions with select AWS experiences. \\n          \\n\\n\\n\\n View profile\\n\\n\\n\\n Log out\\n\\n\\n\\n\\n\\n\\n\\n\\n\\n  Get Started for Free \\n\\n\\n  Contact Us \\n\\n\\n\\n\\n\\n\\n\\n\\n\\n\\n\\n\\n  Products  \\n  Solutions  \\n  Pricing  \\n  Introduction to AWS  \\n  Getting Started  \\n  Documentation  \\n  Training and Certification  \\n  Developer Center  \\n  Customer Success  \\n  Partner Network  \\n  AWS Marketplace  \\n  Support  \\n  AWS re:Post  \\n  Log into Console  \\n  Download the Mobile App  \\n\\n\\n\\n\\n\\n\\n\\n\\n\\n\\n\\n\\n\\n\\n\\n\\n\\nWhat is Cloud Computing?\\nCloud Computing Concepts Hub\\nArtificial Intelligence\\n\\n\\nWhat are AI Agents?\\n\\n\\nCreate an AWS Account\\n\\n\\n\\n\\n\\n\\n\\n\\n\\n\\n\\n\\n\\n\\n\\n\\n\\n\\n\\n\\n\\n\\n\\n\\n\\n             Explore Free AI Offers \\n           \\n\\n             Build, deploy, and run artificial intelligence applications in the cloud for free \\n            \\n\\n\\n\\n\\n\\n\\n\\n\\n\\n\\n\\n             Check out Artificial Intelligence Services'),\n",
       " Document(metadata={'source': 'https://aws.amazon.com/what-is/ai-agents/', 'title': 'What are AI Agents?- Agents in Artificial Intelligence Explained - AWS', 'description': 'What is AI agents how and why businesses use AI agents, and how to use AI agents with AWS.', 'language': 'en-US'}, page_content='Build, deploy, and run artificial intelligence applications in the cloud for free \\n            \\n\\n\\n\\n\\n\\n\\n\\n\\n\\n\\n\\n             Check out Artificial Intelligence Services \\n           \\n\\n             Innovate faster with the most comprehensive set of AI services \\n            \\n\\n\\n\\n\\n\\n\\n\\n\\n\\n\\n\\n             Browse AI Trainings \\n           \\n\\n             Build in-demand AI skills with course, tutorial, and resources \\n            \\n\\n\\n\\n\\n\\n\\n\\n\\n\\n\\n\\n             Read AI & Machine Learning Blogs \\n           \\n\\n             Read about the latest AWS AI & ML product news and best practices \\n            \\n\\n\\n\\n\\n\\n\\n\\n\\n\\n\\n\\n\\n\\n\\n\\n\\n\\n\\n\\nWhat are AI Agents?\\nWhat are the key principles that define AI agents? \\nWhat are the benefits of using AI agents? \\nWhat are the key components of AI agent architecture? \\nHow does an AI agent work? \\nWhat are the challenges of using AI agents? \\nWhat are the types of AI agents? \\nHow can AWS help with your AI agent requirements? \\n\\n\\n\\n\\n\\n\\n\\nWhat are AI Agents?'),\n",
       " Document(metadata={'source': 'https://aws.amazon.com/what-is/ai-agents/', 'title': 'What are AI Agents?- Agents in Artificial Intelligence Explained - AWS', 'description': 'What is AI agents how and why businesses use AI agents, and how to use AI agents with AWS.', 'language': 'en-US'}, page_content='What are AI Agents?\\n\\nAn artificial intelligence (AI) agent is a software program that can interact with its environment, collect data, and use the data to perform self-determined tasks to meet predetermined goals. Humans set goals, but an AI agent independently chooses the best actions it needs to perform to achieve those goals. For example, consider a contact center AI agent that wants to resolves customer queries. The agent will automatically ask the customer different questions, look up information in internal documents, and respond with a solution. Based on the customer responses, it determines if it can resolve the query itself or pass it on to a human.\\nLearn more about what is artificial intelligence (AI)\\n\\n\\n\\n\\n\\n\\n\\nWhat are the key principles that define AI agents?'),\n",
       " Document(metadata={'source': 'https://aws.amazon.com/what-is/ai-agents/', 'title': 'What are AI Agents?- Agents in Artificial Intelligence Explained - AWS', 'description': 'What is AI agents how and why businesses use AI agents, and how to use AI agents with AWS.', 'language': 'en-US'}, page_content='What are the key principles that define AI agents? \\n\\nAll software autonomously completes different tasks as determined by the software developer. So, what makes AI or intelligent agents special?\\xa0\\nAI agents are rational agents. They make rational decisions based on their perceptions and data to produce optimal performance and results. An AI agent senses its environment with physical or software interfaces.\\nFor example, a robotic agent collects sensor data, and a chatbot uses customer queries as input. Then, the AI agent applies the data to make an informed decision. It analyzes the collected data to predict the best outcomes that support predetermined goals. The agent also uses the results to formulate the next action that it should take. For example, self-driving cars navigate around obstacles on the road based on data from multiple sensors.\\n\\n\\n\\n\\n\\n\\n\\nWhat are the benefits of using AI agents?'),\n",
       " Document(metadata={'source': 'https://aws.amazon.com/what-is/ai-agents/', 'title': 'What are AI Agents?- Agents in Artificial Intelligence Explained - AWS', 'description': 'What is AI agents how and why businesses use AI agents, and how to use AI agents with AWS.', 'language': 'en-US'}, page_content=\"AI agents can improve your business operations and your customers' experiences.\\nImproved productivity\\nAI agents are autonomous intelligent systems performing specific tasks without human intervention. Organizations use AI agents to achieve specific goals and more efficient business outcomes. Business teams are more productive when they delegate repetitive tasks to AI agents. This way, they can divert their attention to mission-critical or creative activities, adding more value to their organization.\\nReduced costs\\nBusinesses can use intelligent agents to reduce unnecessary costs arising from process inefficiencies, human errors, and manual processes. You can confidently perform complex tasks because autonomous agents follow a consistent model that adapts to changing environments.\\xa0\\nInformed decision-making\"),\n",
       " Document(metadata={'source': 'https://aws.amazon.com/what-is/ai-agents/', 'title': 'What are AI Agents?- Agents in Artificial Intelligence Explained - AWS', 'description': 'What is AI agents how and why businesses use AI agents, and how to use AI agents with AWS.', 'language': 'en-US'}, page_content='Informed decision-making\\nAdvanced intelligent agents use machine learning (ML) to gather and process massive amounts of real-time data. This allows business managers to make better predictions at pace when strategizing their next move. For example, you can use AI agents to analyze product demands in different market segments when running an ad campaign.\\xa0\\nImproved customer experience\\nCustomers seek engaging and personalized experiences when interacting with businesses. Integrating AI agents allows businesses to personalize product recommendations, provide prompt responses, and innovate to improve customer engagement, conversion, and loyalty.'),\n",
       " Document(metadata={'source': 'https://aws.amazon.com/what-is/ai-agents/', 'title': 'What are AI Agents?- Agents in Artificial Intelligence Explained - AWS', 'description': 'What is AI agents how and why businesses use AI agents, and how to use AI agents with AWS.', 'language': 'en-US'}, page_content='What are the key components of AI agent architecture?'),\n",
       " Document(metadata={'source': 'https://aws.amazon.com/what-is/ai-agents/', 'title': 'What are AI Agents?- Agents in Artificial Intelligence Explained - AWS', 'description': 'What is AI agents how and why businesses use AI agents, and how to use AI agents with AWS.', 'language': 'en-US'}, page_content='Agents in artificial intelligence may operate in different environments to accomplish unique purposes. However, all functional agents share these components.\\nArchitecture\\nArchitecture is the base the agent operates from. The architecture can be a physical structure, a software program, or a combination. For example, a robotic AI agent consists of actuators, sensors, motors, and robotic arms. Meanwhile, an architecture that hosts an AI software agent may use a text prompt, API, and databases to enable autonomous operations.\\xa0\\nAgent function\\nThe agent function describes how the data collected is translated into actions that support the agent’s objective. When designing the agent function, developers consider the type of information, AI capabilities, knowledge base, feedback mechanism, and other technologies required.\\nAgent program'),\n",
       " Document(metadata={'source': 'https://aws.amazon.com/what-is/ai-agents/', 'title': 'What are AI Agents?- Agents in Artificial Intelligence Explained - AWS', 'description': 'What is AI agents how and why businesses use AI agents, and how to use AI agents with AWS.', 'language': 'en-US'}, page_content='Agent program\\nAn agent program is the implementation of the agent function. It involves developing, training, and deploying the AI agent on the designated architecture. The agent program aligns the agent’s business logic, technical requirements, and performance elements.'),\n",
       " Document(metadata={'source': 'https://aws.amazon.com/what-is/ai-agents/', 'title': 'What are AI Agents?- Agents in Artificial Intelligence Explained - AWS', 'description': 'What is AI agents how and why businesses use AI agents, and how to use AI agents with AWS.', 'language': 'en-US'}, page_content='How does an AI agent work?'),\n",
       " Document(metadata={'source': 'https://aws.amazon.com/what-is/ai-agents/', 'title': 'What are AI Agents?- Agents in Artificial Intelligence Explained - AWS', 'description': 'What is AI agents how and why businesses use AI agents, and how to use AI agents with AWS.', 'language': 'en-US'}, page_content='AI agents work by simplifying and automating complex tasks. Most autonomous agents follow a specific workflow when performing assigned tasks.\\nDetermine goals\\nThe AI agent receives a specific instruction or goal from the user. It uses the goal to plan tasks that make the final outcome relevant and useful to the user. Then, the agent breaks down the goal into several smaller actionable tasks. To achieve the goal, the agent performs those tasks based on specific orders or conditions.\\xa0\\nAcquire information\\nAI agents need information to act on tasks they have planned successfully. For example, the agent must extract conversation logs to analyze customer sentiments. As such, AI agents might access the internet to search for and retrieve the information they need. In some applications, an intelligent agent can interact with other agents or machine learning models to access or exchange information.\\xa0\\nImplement tasks'),\n",
       " Document(metadata={'source': 'https://aws.amazon.com/what-is/ai-agents/', 'title': 'What are AI Agents?- Agents in Artificial Intelligence Explained - AWS', 'description': 'What is AI agents how and why businesses use AI agents, and how to use AI agents with AWS.', 'language': 'en-US'}, page_content='Implement tasks\\nWith sufficient data, the AI agent methodically implements the task at hand. Once it accomplishes a task, the agent removes it from the list and proceeds to the next one. In between task completions, the agent evaluates if it has achieved the designated goal by seeking external feedback and inspecting its own logs. During this process, the agent might create and act on more tasks to reach the final outcome.'),\n",
       " Document(metadata={'source': 'https://aws.amazon.com/what-is/ai-agents/', 'title': 'What are AI Agents?- Agents in Artificial Intelligence Explained - AWS', 'description': 'What is AI agents how and why businesses use AI agents, and how to use AI agents with AWS.', 'language': 'en-US'}, page_content='What are the challenges of using AI agents?'),\n",
       " Document(metadata={'source': 'https://aws.amazon.com/what-is/ai-agents/', 'title': 'What are AI Agents?- Agents in Artificial Intelligence Explained - AWS', 'description': 'What is AI agents how and why businesses use AI agents, and how to use AI agents with AWS.', 'language': 'en-US'}, page_content='AI agents are helpful software technologies to automate business workflows for better outcomes. That being said, organizations should address the following concerns when deploying autonomous AI agents for business use cases.\\nData privacy concerns\\nDeveloping and operating advanced AI agents requires acquiring, storing, and moving massive volumes of data. Organizations should be aware of data privacy requirements and employ necessary measures to improve data security posture.\\xa0\\nEthical challenges\\nIn certain circumstances, deep learning models may produce unfair, biased, or inaccurate results. Applying safeguards, such as human reviews, ensures customers receive helpful and fair responses from the agents deployed.\\xa0\\nTechnical complexities'),\n",
       " Document(metadata={'source': 'https://aws.amazon.com/what-is/ai-agents/', 'title': 'What are AI Agents?- Agents in Artificial Intelligence Explained - AWS', 'description': 'What is AI agents how and why businesses use AI agents, and how to use AI agents with AWS.', 'language': 'en-US'}, page_content='Technical complexities\\xa0\\nImplementing advanced AI agents requires specialized experience and knowledge of machine learning technologies. Developers must be able to integrate machine learning libraries with software applications and train the agent with enterprise-specific data.\\xa0\\nLimited compute resources\\nTraining and deploying deep learning AI agents requires substantial computing resources. When organizations implement these agents on-premise, they must invest in and maintain costly infrastructure that is not easily scalable.'),\n",
       " Document(metadata={'source': 'https://aws.amazon.com/what-is/ai-agents/', 'title': 'What are AI Agents?- Agents in Artificial Intelligence Explained - AWS', 'description': 'What is AI agents how and why businesses use AI agents, and how to use AI agents with AWS.', 'language': 'en-US'}, page_content='What are the types of AI agents?'),\n",
       " Document(metadata={'source': 'https://aws.amazon.com/what-is/ai-agents/', 'title': 'What are AI Agents?- Agents in Artificial Intelligence Explained - AWS', 'description': 'What is AI agents how and why businesses use AI agents, and how to use AI agents with AWS.', 'language': 'en-US'}, page_content='Organizations create and deploy different types of intelligent agents. We share some examples below.\\xa0\\nSimple reflex agents\\nA simple reflex agent operates strictly based on predefined rules and its immediate data. It will not respond to situations beyond a given event condition action rule. Hence, these agents are suitable for simple tasks that don’t require extensive training. For example, you can use a simple reflex agent to reset passwords by detecting specific keywords in a user’s conversation.\\xa0\\nModel-based reflex agents\\nA model-based agent is similar to simple reflex agents, except the former has a more advanced decision-making mechanism. Rather than merely following a specific rule, a model-based agent evaluates probable outcomes and consequences before deciding. Using supporting data, it builds an internal model of the world it perceives and uses that to support its decisions.\\xa0\\nGoal-based agents'),\n",
       " Document(metadata={'source': 'https://aws.amazon.com/what-is/ai-agents/', 'title': 'What are AI Agents?- Agents in Artificial Intelligence Explained - AWS', 'description': 'What is AI agents how and why businesses use AI agents, and how to use AI agents with AWS.', 'language': 'en-US'}, page_content='Goal-based agents\\nGoal-based agents, or rule-based agents, are AI agents with more robust reasoning capabilities. Besides evaluating the environment data, the agent compares different approaches to help it achieve the desired outcome. Goal-based agents always choose the most efficient path. They are suitable for performing complex tasks, such as natural language processing (NLP) and robotics applications.\\xa0\\nUtility-based agents\\nA utility-based agent uses a complex reasoning algorithm to help users maximize the outcome they desire. The agent compares different scenarios and their respective utility values or benefits. Then, it chooses one that provides users with the most rewards. For example, customers can use a utility-based agent to search for flight tickets with minimum traveling time, irrespective of the price.\\xa0\\nLearning agents'),\n",
       " Document(metadata={'source': 'https://aws.amazon.com/what-is/ai-agents/', 'title': 'What are AI Agents?- Agents in Artificial Intelligence Explained - AWS', 'description': 'What is AI agents how and why businesses use AI agents, and how to use AI agents with AWS.', 'language': 'en-US'}, page_content='Learning agents\\nA learning agent continuously learns from previous experiences to improve its results. Using sensory input and feedback mechanisms, the agent adapts its learning element over time to meet specific standards. On top of that, it uses a problem generator to design new tasks to train itself from collected data and past results.\\xa0\\nHierarchical agents\\nHierarchical agents are an organized group of intelligent agents arranged in tiers. The higher-level agents deconstruct complex tasks into smaller ones and assign them to lower-level agents. Each agent runs independently and submits a progress report to its supervising agent. The higher-level agent collects the results and coordinates subordinate agents to ensure they collectively achieve goals.'),\n",
       " Document(metadata={'source': 'https://aws.amazon.com/what-is/ai-agents/', 'title': 'What are AI Agents?- Agents in Artificial Intelligence Explained - AWS', 'description': 'What is AI agents how and why businesses use AI agents, and how to use AI agents with AWS.', 'language': 'en-US'}, page_content=\"How can AWS help with your AI agent requirements? \\n\\nAmazon Connect Contact Lens is an autonomous AI agent your organization can use to manage and generate real-time contact center analytics. You can automatically create contact summaries and uncover customer analytics trends. Here's how:\\n\\nAmazon Connect Contact Lens automatically detects and redacts sensitive customer data in customer conversations to improve compliance efforts\\nSupervisors can automatically review human agents from the conversational analytics that Amazon Connect Contact Lens generates\\nThe agent uses NLP technologies to capture and analyze customer sentiments from the words they use\\n\\nOrganizations can also use generative artificial intelligence (generative AI) and other Amazon Web Services (AWS) AI services to build their own AI agents. AWS helps you overcome technical, infrastructure, and compliance challenges by providing you managed tools to build, integrate, and scale autonomous agents. For example:\"),\n",
       " Document(metadata={'source': 'https://aws.amazon.com/what-is/ai-agents/', 'title': 'What are AI Agents?- Agents in Artificial Intelligence Explained - AWS', 'description': 'What is AI agents how and why businesses use AI agents, and how to use AI agents with AWS.', 'language': 'en-US'}, page_content='Amazon Bedrock provides easy access to industry-leading generative AI models, such as Claude, Llama 2, and Amazon Titan\\nAmazon SageMaker allows you to experiment with, build, test, and deploy AI agents with ready-to-deploy and customizable ML algorithms\\nTrain, operate, and scale your AI agents on AWS Trainium, a purpose-built ML learning accelerator for deep learning models\\n\\nGet started with AI agents on AWS by creating an account today.\\n\\n\\n\\n\\n\\n\\n\\n\\n\\n\\n\\n\\n\\n\\n\\n Next Steps on AWS\\n\\n\\n\\n\\n\\n\\n\\n\\n           Check out additional product-related resources \\n         \\n Innovate faster with AWS generative AI services\\xa0\\n\\n\\n\\n\\n\\n\\n\\n\\n           Sign up for a free account \\n         \\n\\nInstant get access to the AWS Free Tier.\\n\\n Sign up\\xa0\\n\\n\\n\\n\\n\\n\\n\\n\\n           Start building in the console \\n         \\n\\nGet started building in the AWS management console.\\n\\n Sign in\\xa0\\n\\n\\n\\n\\n\\n\\n\\n\\n\\n\\n\\n\\n  Sign In to the Console \\n\\n Learn About AWS'),\n",
       " Document(metadata={'source': 'https://aws.amazon.com/what-is/ai-agents/', 'title': 'What are AI Agents?- Agents in Artificial Intelligence Explained - AWS', 'description': 'What is AI agents how and why businesses use AI agents, and how to use AI agents with AWS.', 'language': 'en-US'}, page_content=\"Sign up\\xa0\\n\\n\\n\\n\\n\\n\\n\\n\\n           Start building in the console \\n         \\n\\nGet started building in the AWS management console.\\n\\n Sign in\\xa0\\n\\n\\n\\n\\n\\n\\n\\n\\n\\n\\n\\n\\n  Sign In to the Console \\n\\n Learn About AWS\\n\\nWhat Is AWS?\\nWhat Is Cloud Computing?\\nAWS Accessibility\\nWhat Is DevOps?\\nWhat Is a Container?\\nWhat Is a Data Lake?\\nWhat is Artificial Intelligence (AI)?\\nWhat is Generative AI?\\nWhat is Machine Learning (ML)?\\nAWS Cloud Security\\nWhat's New\\nBlogs\\nPress Releases\\n\\n\\n\\n Resources for AWS\\n\\nGetting Started\\nTraining and Certification\\nAWS Trust Center\\nAWS Solutions Library\\nArchitecture Center\\nProduct and Technical FAQs\\nAnalyst Reports\\nAWS Partners\\n\\n\\n\\n Developers on AWS\\n\\nDeveloper Center\\nSDKs & Tools\\n.NET on AWS\\nPython on AWS\\nJava on AWS\\nPHP on AWS\\nJavaScript on AWS\\n\\n\\n\\n Help\\n\\nContact Us\\nGet Expert Help\\nFile a Support Ticket\\nAWS re:Post\\nKnowledge Center\\nAWS Support Overview\\nLegal\\nAWS Careers\\n\\n\\n\\n\\n\\n\\n\\n  Create an AWS Account\"),\n",
       " Document(metadata={'source': 'https://aws.amazon.com/what-is/ai-agents/', 'title': 'What are AI Agents?- Agents in Artificial Intelligence Explained - AWS', 'description': 'What is AI agents how and why businesses use AI agents, and how to use AI agents with AWS.', 'language': 'en-US'}, page_content='Help\\n\\nContact Us\\nGet Expert Help\\nFile a Support Ticket\\nAWS re:Post\\nKnowledge Center\\nAWS Support Overview\\nLegal\\nAWS Careers\\n\\n\\n\\n\\n\\n\\n\\n  Create an AWS Account \\n\\n\\n\\n\\n\\n \\n\\n\\n \\n\\n\\n \\n\\n\\n \\n\\n\\n\\n\\n\\n\\n \\n\\n\\n \\n\\n\\n \\n\\n\\n \\n\\n\\n\\n\\n\\n         Amazon is an Equal Opportunity Employer: \\n         Minority / Women / Disability / Veteran / Gender Identity / Sexual Orientation / Age.\\n\\n\\n\\n\\n\\n\\n\\n\\n\\nLanguage\\nعربي\\nBahasa Indonesia\\nDeutsch\\nEnglish\\nEspañol\\nFrançais\\nItaliano\\nPortuguês\\nTiếng Việt\\nTürkçe\\nΡусский\\nไทย\\n日本語\\n한국어\\n中文 (简体)\\n中文 (繁體)\\n\\n\\n\\n\\n\\n\\n\\n\\n\\nPrivacy\\n|\\nAccessibility\\n|\\nSite Terms\\n|\\n Cookie Preferences \\n|\\n© 2024, Amazon Web Services, Inc. or its affiliates. All rights reserved.\\n\\n\\n\\n\\n\\n\\n\\n\\n\\n\\n\\n\\n\\n\\n\\n Ending Support for Internet Explorer\\n Got it \\n\\n\\n       AWS support for Internet Explorer ends on 07/31/2022. Supported browsers are Chrome, Firefox, Edge, and Safari. \\n      Learn more »\\n\\n\\nGot it')]"
      ]
     },
     "execution_count": 7,
     "metadata": {},
     "output_type": "execute_result"
    }
   ],
   "source": [
    "documents"
   ]
  },
  {
   "cell_type": "code",
   "execution_count": 10,
   "metadata": {},
   "outputs": [],
   "source": [
    "embeddings = OllamaEmbeddings(model='mxbai-embed-large:335m')"
   ]
  },
  {
   "cell_type": "code",
   "execution_count": 11,
   "metadata": {},
   "outputs": [],
   "source": [
    "vectorstore = Chroma.from_documents(documents=documents, embedding=embeddings)"
   ]
  },
  {
   "cell_type": "code",
   "execution_count": 16,
   "metadata": {},
   "outputs": [
    {
     "data": {
      "text/plain": [
       "[(Document(metadata={'description': 'What is AI agents how and why businesses use AI agents, and how to use AI agents with AWS.', 'language': 'en-US', 'source': 'https://aws.amazon.com/what-is/ai-agents/', 'title': 'What are AI Agents?- Agents in Artificial Intelligence Explained - AWS'}, page_content='What are AI Agents?\\n\\nAn artificial intelligence (AI) agent is a software program that can interact with its environment, collect data, and use the data to perform self-determined tasks to meet predetermined goals. Humans set goals, but an AI agent independently chooses the best actions it needs to perform to achieve those goals. For example, consider a contact center AI agent that wants to resolves customer queries. The agent will automatically ask the customer different questions, look up information in internal documents, and respond with a solution. Based on the customer responses, it determines if it can resolve the query itself or pass it on to a human.\\nLearn more about what is artificial intelligence (AI)\\n\\n\\n\\n\\n\\n\\n\\nWhat are the key principles that define AI agents?'),\n",
       "  0.14846965670585632),\n",
       " (Document(metadata={'description': 'What is AI agents how and why businesses use AI agents, and how to use AI agents with AWS.', 'language': 'en-US', 'source': 'https://aws.amazon.com/what-is/ai-agents/', 'title': 'What are AI Agents?- Agents in Artificial Intelligence Explained - AWS'}, page_content='How does an AI agent work?'),\n",
       "  0.2359483391046524),\n",
       " (Document(metadata={'description': 'What is AI agents how and why businesses use AI agents, and how to use AI agents with AWS.', 'language': 'en-US', 'source': 'https://aws.amazon.com/what-is/ai-agents/', 'title': 'What are AI Agents?- Agents in Artificial Intelligence Explained - AWS'}, page_content='What are the types of AI agents?'),\n",
       "  0.2809099555015564),\n",
       " (Document(metadata={'description': 'What is AI agents how and why businesses use AI agents, and how to use AI agents with AWS.', 'language': 'en-US', 'source': 'https://aws.amazon.com/what-is/ai-agents/', 'title': 'What are AI Agents?- Agents in Artificial Intelligence Explained - AWS'}, page_content='What are AI Agents?- Agents in Artificial Intelligence Explained - AWS\\n\\n\\n\\n\\n\\n\\n\\n\\n\\n\\n\\n\\n\\n\\n\\n\\n\\n\\n\\n\\n\\n\\n\\n\\n\\n\\n\\n\\n\\n\\n\\n\\n\\n\\n\\n\\n\\n\\n\\n\\n\\n\\n\\n\\n\\n\\n\\n\\n\\n\\n\\n\\n\\n\\n\\n\\n\\n\\n\\n\\n\\n\\n Skip to main content\\n\\n\\n\\n\\n\\nClick here to return to Amazon Web Services homepage\\n\\n\\n\\nAbout AWS\\nContact Us\\n Support \\xa0 \\n       \\n\\n \\n English \\xa0 \\n       \\n\\n \\n My Account \\xa0 \\n       \\n\\n \\n\\n\\n\\n\\n Sign In\\n\\n\\n  Create an AWS Account \\n\\n\\n\\n\\n\\n\\n\\n   \\n\\n\\n   \\n\\n\\n\\n Close \\n\\n            Profile \\n          \\n\\n            Your profile helps improve your interactions with select AWS experiences. \\n          \\n\\n\\n\\n Login\\n\\n\\n\\n\\n\\n Close \\n\\n            Profile \\n          \\n\\n            Your profile helps improve your interactions with select AWS experiences. \\n          \\n\\n\\n\\n View profile\\n\\n\\n\\n Log out\\n\\n\\n\\n\\n\\n\\n\\n\\n\\n\\n\\nAmazon Q\\nProducts\\nSolutions\\nPricing\\nDocumentation\\nLearn\\nPartner Network\\nAWS Marketplace\\nCustomer Enablement\\nEvents\\nExplore More \\n\\n\\n\\n\\n\\n\\n\\n \\n\\n\\n\\n\\n\\n\\n\\n\\n\\n\\n\\n\\n\\n Close \\n\\n\\n\\nعربي\\nBahasa Indonesia\\nDeutsch\\nEnglish\\nEspañol\\nFrançais\\nItaliano\\nPortuguês'),\n",
       "  0.3084753453731537)]"
      ]
     },
     "execution_count": 16,
     "metadata": {},
     "output_type": "execute_result"
    }
   ],
   "source": [
    "vectorstore.similarity_search_with_score('what is ai agents')"
   ]
  },
  {
   "cell_type": "code",
   "execution_count": 23,
   "metadata": {},
   "outputs": [],
   "source": [
    "template = \"\"\"Answer the question based only on the following context:\n",
    "\n",
    "{context}\n",
    "\n",
    "Question: {input}\n",
    "\"\"\"\n",
    "\n",
    "prompt = ChatPromptTemplate.from_messages(\n",
    "    [\n",
    "        ('system', 'You are an helpful assistant'),\n",
    "        ('user', template)\n",
    "    ]\n",
    ")"
   ]
  },
  {
   "cell_type": "code",
   "execution_count": 14,
   "metadata": {},
   "outputs": [],
   "source": [
    "llm = ChatOllama(model='llama3.2:3b')"
   ]
  },
  {
   "cell_type": "code",
   "execution_count": 17,
   "metadata": {},
   "outputs": [],
   "source": [
    "retriever = vectorstore.as_retriever()"
   ]
  },
  {
   "cell_type": "code",
   "execution_count": 18,
   "metadata": {},
   "outputs": [
    {
     "data": {
      "text/plain": [
       "[Document(metadata={'description': 'What is AI agents how and why businesses use AI agents, and how to use AI agents with AWS.', 'language': 'en-US', 'source': 'https://aws.amazon.com/what-is/ai-agents/', 'title': 'What are AI Agents?- Agents in Artificial Intelligence Explained - AWS'}, page_content='What are AI Agents?\\n\\nAn artificial intelligence (AI) agent is a software program that can interact with its environment, collect data, and use the data to perform self-determined tasks to meet predetermined goals. Humans set goals, but an AI agent independently chooses the best actions it needs to perform to achieve those goals. For example, consider a contact center AI agent that wants to resolves customer queries. The agent will automatically ask the customer different questions, look up information in internal documents, and respond with a solution. Based on the customer responses, it determines if it can resolve the query itself or pass it on to a human.\\nLearn more about what is artificial intelligence (AI)\\n\\n\\n\\n\\n\\n\\n\\nWhat are the key principles that define AI agents?'),\n",
       " Document(metadata={'description': 'What is AI agents how and why businesses use AI agents, and how to use AI agents with AWS.', 'language': 'en-US', 'source': 'https://aws.amazon.com/what-is/ai-agents/', 'title': 'What are AI Agents?- Agents in Artificial Intelligence Explained - AWS'}, page_content='How does an AI agent work?'),\n",
       " Document(metadata={'description': 'What is AI agents how and why businesses use AI agents, and how to use AI agents with AWS.', 'language': 'en-US', 'source': 'https://aws.amazon.com/what-is/ai-agents/', 'title': 'What are AI Agents?- Agents in Artificial Intelligence Explained - AWS'}, page_content='What are the types of AI agents?'),\n",
       " Document(metadata={'description': 'What is AI agents how and why businesses use AI agents, and how to use AI agents with AWS.', 'language': 'en-US', 'source': 'https://aws.amazon.com/what-is/ai-agents/', 'title': 'What are AI Agents?- Agents in Artificial Intelligence Explained - AWS'}, page_content='What are AI Agents?- Agents in Artificial Intelligence Explained - AWS\\n\\n\\n\\n\\n\\n\\n\\n\\n\\n\\n\\n\\n\\n\\n\\n\\n\\n\\n\\n\\n\\n\\n\\n\\n\\n\\n\\n\\n\\n\\n\\n\\n\\n\\n\\n\\n\\n\\n\\n\\n\\n\\n\\n\\n\\n\\n\\n\\n\\n\\n\\n\\n\\n\\n\\n\\n\\n\\n\\n\\n\\n\\n Skip to main content\\n\\n\\n\\n\\n\\nClick here to return to Amazon Web Services homepage\\n\\n\\n\\nAbout AWS\\nContact Us\\n Support \\xa0 \\n       \\n\\n \\n English \\xa0 \\n       \\n\\n \\n My Account \\xa0 \\n       \\n\\n \\n\\n\\n\\n\\n Sign In\\n\\n\\n  Create an AWS Account \\n\\n\\n\\n\\n\\n\\n\\n   \\n\\n\\n   \\n\\n\\n\\n Close \\n\\n            Profile \\n          \\n\\n            Your profile helps improve your interactions with select AWS experiences. \\n          \\n\\n\\n\\n Login\\n\\n\\n\\n\\n\\n Close \\n\\n            Profile \\n          \\n\\n            Your profile helps improve your interactions with select AWS experiences. \\n          \\n\\n\\n\\n View profile\\n\\n\\n\\n Log out\\n\\n\\n\\n\\n\\n\\n\\n\\n\\n\\n\\nAmazon Q\\nProducts\\nSolutions\\nPricing\\nDocumentation\\nLearn\\nPartner Network\\nAWS Marketplace\\nCustomer Enablement\\nEvents\\nExplore More \\n\\n\\n\\n\\n\\n\\n\\n \\n\\n\\n\\n\\n\\n\\n\\n\\n\\n\\n\\n\\n\\n Close \\n\\n\\n\\nعربي\\nBahasa Indonesia\\nDeutsch\\nEnglish\\nEspañol\\nFrançais\\nItaliano\\nPortuguês')]"
      ]
     },
     "execution_count": 18,
     "metadata": {},
     "output_type": "execute_result"
    }
   ],
   "source": [
    "retriever.invoke('what is ai agents')"
   ]
  },
  {
   "cell_type": "code",
   "execution_count": 26,
   "metadata": {},
   "outputs": [
    {
     "data": {
      "text/plain": [
       "[[Document(metadata={'description': 'What is AI agents how and why businesses use AI agents, and how to use AI agents with AWS.', 'language': 'en-US', 'source': 'https://aws.amazon.com/what-is/ai-agents/', 'title': 'What are AI Agents?- Agents in Artificial Intelligence Explained - AWS'}, page_content='How does an AI agent work?'),\n",
       "  Document(metadata={'description': 'What is AI agents how and why businesses use AI agents, and how to use AI agents with AWS.', 'language': 'en-US', 'source': 'https://aws.amazon.com/what-is/ai-agents/', 'title': 'What are AI Agents?- Agents in Artificial Intelligence Explained - AWS'}, page_content='What are AI Agents?\\n\\nAn artificial intelligence (AI) agent is a software program that can interact with its environment, collect data, and use the data to perform self-determined tasks to meet predetermined goals. Humans set goals, but an AI agent independently chooses the best actions it needs to perform to achieve those goals. For example, consider a contact center AI agent that wants to resolves customer queries. The agent will automatically ask the customer different questions, look up information in internal documents, and respond with a solution. Based on the customer responses, it determines if it can resolve the query itself or pass it on to a human.\\nLearn more about what is artificial intelligence (AI)\\n\\n\\n\\n\\n\\n\\n\\nWhat are the key principles that define AI agents?'),\n",
       "  Document(metadata={'description': 'What is AI agents how and why businesses use AI agents, and how to use AI agents with AWS.', 'language': 'en-US', 'source': 'https://aws.amazon.com/what-is/ai-agents/', 'title': 'What are AI Agents?- Agents in Artificial Intelligence Explained - AWS'}, page_content='Agent program\\nAn agent program is the implementation of the agent function. It involves developing, training, and deploying the AI agent on the designated architecture. The agent program aligns the agent’s business logic, technical requirements, and performance elements.'),\n",
       "  Document(metadata={'description': 'What is AI agents how and why businesses use AI agents, and how to use AI agents with AWS.', 'language': 'en-US', 'source': 'https://aws.amazon.com/what-is/ai-agents/', 'title': 'What are AI Agents?- Agents in Artificial Intelligence Explained - AWS'}, page_content='What are the types of AI agents?')],\n",
       " [Document(metadata={'description': 'What is AI agents how and why businesses use AI agents, and how to use AI agents with AWS.', 'language': 'en-US', 'source': 'https://aws.amazon.com/what-is/ai-agents/', 'title': 'What are AI Agents?- Agents in Artificial Intelligence Explained - AWS'}, page_content='What are AI Agents?\\n\\nAn artificial intelligence (AI) agent is a software program that can interact with its environment, collect data, and use the data to perform self-determined tasks to meet predetermined goals. Humans set goals, but an AI agent independently chooses the best actions it needs to perform to achieve those goals. For example, consider a contact center AI agent that wants to resolves customer queries. The agent will automatically ask the customer different questions, look up information in internal documents, and respond with a solution. Based on the customer responses, it determines if it can resolve the query itself or pass it on to a human.\\nLearn more about what is artificial intelligence (AI)\\n\\n\\n\\n\\n\\n\\n\\nWhat are the key principles that define AI agents?'),\n",
       "  Document(metadata={'description': 'What is AI agents how and why businesses use AI agents, and how to use AI agents with AWS.', 'language': 'en-US', 'source': 'https://aws.amazon.com/what-is/ai-agents/', 'title': 'What are AI Agents?- Agents in Artificial Intelligence Explained - AWS'}, page_content='How does an AI agent work?'),\n",
       "  Document(metadata={'description': 'What is AI agents how and why businesses use AI agents, and how to use AI agents with AWS.', 'language': 'en-US', 'source': 'https://aws.amazon.com/what-is/ai-agents/', 'title': 'What are AI Agents?- Agents in Artificial Intelligence Explained - AWS'}, page_content='What are the types of AI agents?'),\n",
       "  Document(metadata={'description': 'What is AI agents how and why businesses use AI agents, and how to use AI agents with AWS.', 'language': 'en-US', 'source': 'https://aws.amazon.com/what-is/ai-agents/', 'title': 'What are AI Agents?- Agents in Artificial Intelligence Explained - AWS'}, page_content='What are the challenges of using AI agents?')]]"
      ]
     },
     "execution_count": 26,
     "metadata": {},
     "output_type": "execute_result"
    }
   ],
   "source": [
    "retriever.batch(['agent' ,'ai'])"
   ]
  },
  {
   "cell_type": "code",
   "execution_count": 20,
   "metadata": {},
   "outputs": [],
   "source": [
    "from langchain_core.runnables import RunnablePassthrough"
   ]
  },
  {
   "cell_type": "code",
   "execution_count": 24,
   "metadata": {},
   "outputs": [],
   "source": [
    "chain = (\n",
    "    {'context' : retriever, 'input' : RunnablePassthrough()}\n",
    "    | prompt\n",
    "    | llm \n",
    ")"
   ]
  },
  {
   "cell_type": "code",
   "execution_count": 25,
   "metadata": {},
   "outputs": [
    {
     "data": {
      "text/plain": [
       "AIMessage(content='According to the provided context, AI Agents are \"software programs that can interact with their environment, collect data, and use the data to perform self-determined tasks to meet predetermined goals.\" They are independent and can choose the best actions needed to achieve those goals.', additional_kwargs={}, response_metadata={'model': 'llama3.2:3b', 'created_at': '2025-02-15T20:57:46.7155712Z', 'done': True, 'done_reason': 'stop', 'total_duration': 56258223900, 'load_duration': 9008044000, 'prompt_eval_count': 865, 'prompt_eval_duration': 39395000000, 'eval_count': 53, 'eval_duration': 6963000000, 'message': Message(role='assistant', content='', images=None, tool_calls=None)}, id='run-8cecf42e-baa7-4571-8e53-fd7801589eec-0', usage_metadata={'input_tokens': 865, 'output_tokens': 53, 'total_tokens': 918})"
      ]
     },
     "execution_count": 25,
     "metadata": {},
     "output_type": "execute_result"
    }
   ],
   "source": [
    "chain.invoke('What is ai agents')"
   ]
  },
  {
   "cell_type": "code",
   "execution_count": null,
   "metadata": {},
   "outputs": [],
   "source": []
  }
 ],
 "metadata": {
  "kernelspec": {
   "display_name": "base",
   "language": "python",
   "name": "python3"
  },
  "language_info": {
   "codemirror_mode": {
    "name": "ipython",
    "version": 3
   },
   "file_extension": ".py",
   "mimetype": "text/x-python",
   "name": "python",
   "nbconvert_exporter": "python",
   "pygments_lexer": "ipython3",
   "version": "3.12.7"
  }
 },
 "nbformat": 4,
 "nbformat_minor": 2
}
