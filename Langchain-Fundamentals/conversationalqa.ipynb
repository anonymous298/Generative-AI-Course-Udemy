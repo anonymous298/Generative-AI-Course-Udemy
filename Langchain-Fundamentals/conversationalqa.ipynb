{
 "cells": [
  {
   "cell_type": "code",
   "execution_count": 8,
   "metadata": {},
   "outputs": [
    {
     "name": "stderr",
     "output_type": "stream",
     "text": [
      "USER_AGENT environment variable not set, consider setting it to identify your requests.\n"
     ]
    }
   ],
   "source": [
    "from langchain_community.document_loaders import WebBaseLoader\n",
    "from langchain.text_splitter import RecursiveCharacterTextSplitter\n",
    "from langchain_ollama import OllamaEmbeddings\n",
    "from langchain_chroma import Chroma\n",
    "from langchain.chains.combine_documents import create_stuff_documents_chain\n",
    "from langchain.chains import  create_retrieval_chain\n",
    "from langchain.prompts.chat import ChatPromptTemplate\n",
    "from langchain_ollama import ChatOllama"
   ]
  },
  {
   "cell_type": "code",
   "execution_count": 9,
   "metadata": {},
   "outputs": [],
   "source": [
    "web_paths = [\n",
    "    'https://python.langchain.com/docs/introduction/',\n",
    "    'https://docs.smith.langchain.com/',\n",
    "    'https://www.ibm.com/think/topics/ai-agents'\n",
    "]\n",
    "\n",
    "loader = WebBaseLoader(web_paths=web_paths)\n",
    "documents = loader.load()"
   ]
  },
  {
   "cell_type": "code",
   "execution_count": 10,
   "metadata": {},
   "outputs": [],
   "source": [
    "text_splitter = RecursiveCharacterTextSplitter(chunk_size=1000, chunk_overlap=200)\n",
    "documents = text_splitter.split_documents(documents)"
   ]
  },
  {
   "cell_type": "code",
   "execution_count": 15,
   "metadata": {},
   "outputs": [
    {
     "data": {
      "text/plain": [
       "[Document(metadata={'source': 'https://python.langchain.com/docs/introduction/', 'title': 'Introduction | \\uf8ffü¶úÔ∏è\\uf8ffüîó LangChain', 'description': 'LangChain is a framework for developing applications powered by large language models (LLMs).', 'language': 'en'}, page_content='Introduction | \\uf8ffü¶úÔ∏è\\uf8ffüîó LangChain'),\n",
       " Document(metadata={'source': 'https://python.langchain.com/docs/introduction/', 'title': 'Introduction | \\uf8ffü¶úÔ∏è\\uf8ffüîó LangChain', 'description': 'LangChain is a framework for developing applications powered by large language models (LLMs).', 'language': 'en'}, page_content='Skip to main contentJoin us at  Interrupt: The Agent AI Conference by LangChain on May 13 & 14 in San Francisco!IntegrationsAPI ReferenceMoreContributingPeopleError referenceLangSmithLangGraphLangChain HubLangChain JS/TSv0.3v0.3v0.2v0.1\\uf8ffüí¨SearchIntroductionTutorialsBuild a Question Answering application over a Graph DatabaseTutorialsBuild a simple LLM application with chat models and prompt templatesBuild a ChatbotBuild a Retrieval Augmented Generation (RAG) App: Part 2Build an Extraction ChainBuild an AgentTaggingBuild a Retrieval Augmented Generation (RAG) App: Part 1Build a semantic search engineBuild a Question/Answering system over SQL dataSummarize TextHow-to guidesHow-to guidesHow to use tools in a chainHow to use a vectorstore as a retrieverHow to add memory to chatbotsHow to use example selectorsHow to add a semantic layer over graph databaseHow to invoke runnables in parallelHow to stream chat model responsesHow to add default invocation args to a RunnableHow to add'),\n",
       " Document(metadata={'source': 'https://python.langchain.com/docs/introduction/', 'title': 'Introduction | \\uf8ffü¶úÔ∏è\\uf8ffüîó LangChain', 'description': 'LangChain is a framework for developing applications powered by large language models (LLMs).', 'language': 'en'}, page_content='to use example selectorsHow to add a semantic layer over graph databaseHow to invoke runnables in parallelHow to stream chat model responsesHow to add default invocation args to a RunnableHow to add retrieval to chatbotsHow to use few shot examples in chat modelsHow to do tool/function callingHow to install LangChain packagesHow to add examples to the prompt for query analysisHow to use few shot examplesHow to run custom functionsHow to use output parsers to parse an LLM response into structured formatHow to handle cases where no queries are generatedHow to route between sub-chainsHow to return structured data from a modelHow to summarize text through parallelizationHow to summarize text through iterative refinementHow to summarize text in a single LLM callHow to use toolkitsHow to add ad-hoc tool calling capability to LLMs and Chat ModelsBuild an Agent with AgentExecutor (Legacy)How to construct knowledge graphsHow to partially format prompt templatesHow to handle multiple queries'),\n",
       " Document(metadata={'source': 'https://python.langchain.com/docs/introduction/', 'title': 'Introduction | \\uf8ffü¶úÔ∏è\\uf8ffüîó LangChain', 'description': 'LangChain is a framework for developing applications powered by large language models (LLMs).', 'language': 'en'}, page_content=\"ad-hoc tool calling capability to LLMs and Chat ModelsBuild an Agent with AgentExecutor (Legacy)How to construct knowledge graphsHow to partially format prompt templatesHow to handle multiple queries when doing query analysisHow to use built-in tools and toolkitsHow to pass through arguments from one step to the nextHow to compose prompts togetherHow to handle multiple retrievers when doing query analysisHow to add values to a chain's stateHow to construct filters for query analysisHow to configure runtime chain internalsHow deal with high cardinality categoricals when doing query analysisCustom Document LoaderHow to use the MultiQueryRetrieverHow to add scores to retriever resultsCachingHow to use callbacks in async environmentsHow to attach callbacks to a runnableHow to propagate callbacks  constructorHow to dispatch custom callback eventsHow to pass callbacks in at runtimeHow to split by characterHow to cache chat model responsesHow to handle rate limitsHow to init any model in one\"),\n",
       " Document(metadata={'source': 'https://python.langchain.com/docs/introduction/', 'title': 'Introduction | \\uf8ffü¶úÔ∏è\\uf8ffüîó LangChain', 'description': 'LangChain is a framework for developing applications powered by large language models (LLMs).', 'language': 'en'}, page_content='constructorHow to dispatch custom callback eventsHow to pass callbacks in at runtimeHow to split by characterHow to cache chat model responsesHow to handle rate limitsHow to init any model in one lineHow to track token usage in ChatModelsHow to add tools to chatbotsHow to split codeHow to do retrieval with contextual compressionHow to convert Runnables to ToolsHow to create custom callback handlersHow to create a custom chat model classCustom EmbeddingsHow to create a custom LLM classCustom RetrieverHow to create toolsHow to debug your LLM appsHow to load CSVsHow to load documents from a directoryHow to load HTMLHow to load JSONHow to load MarkdownHow to load Microsoft Office filesHow to load PDFsHow to load web pagesHow to create a dynamic (self-constructing) chainText embedding modelsHow to combine results from multiple retrieversHow to select examples from a LangSmith datasetHow to select examples by lengthHow to select examples by maximal marginal relevance (MMR)How to select'),\n",
       " Document(metadata={'source': 'https://python.langchain.com/docs/introduction/', 'title': 'Introduction | \\uf8ffü¶úÔ∏è\\uf8ffüîó LangChain', 'description': 'LangChain is a framework for developing applications powered by large language models (LLMs).', 'language': 'en'}, page_content='to combine results from multiple retrieversHow to select examples from a LangSmith datasetHow to select examples by lengthHow to select examples by maximal marginal relevance (MMR)How to select examples by n-gram overlapHow to select examples by similarityHow to use reference examples when doing extractionHow to handle long text when doing extractionHow to use prompting alone (no tool calling) to do extractionHow to add fallbacks to a runnableHow to filter messagesHybrid SearchHow to use the LangChain indexing APIHow to inspect runnablesLangChain Expression Language CheatsheetHow to cache LLM responsesHow to track token usage for LLMsRun models locallyHow to get log probabilitiesHow to reorder retrieved results to mitigate the \"lost in the middle\" effectHow to split Markdown by HeadersHow to merge consecutive messages of the same typeHow to add message historyHow to migrate from legacy LangChain agents to LangGraphHow to retrieve using multiple vectors per documentHow to pass'),\n",
       " Document(metadata={'source': 'https://python.langchain.com/docs/introduction/', 'title': 'Introduction | \\uf8ffü¶úÔ∏è\\uf8ffüîó LangChain', 'description': 'LangChain is a framework for developing applications powered by large language models (LLMs).', 'language': 'en'}, page_content='to merge consecutive messages of the same typeHow to add message historyHow to migrate from legacy LangChain agents to LangGraphHow to retrieve using multiple vectors per documentHow to pass multimodal data directly to modelsHow to use multimodal promptsHow to create a custom Output ParserHow to use the output-fixing parserHow to parse JSON outputHow to retry when a parsing error occursHow to parse text from message objectsHow to parse XML outputHow to parse YAML outputHow to use the Parent Document RetrieverHow to use LangChain with different Pydantic versionsHow to add chat historyHow to get a RAG application to add citationsHow to do per-user retrievalHow to get your RAG application to return sourcesHow to stream results from your RAG applicationHow to split JSON dataHow to recursively split text by charactersResponse metadataHow to pass runtime secrets to runnablesHow to do \"self-querying\" retrievalHow to split text based on semantic similarityHow to chain runnablesHow to save and'),\n",
       " Document(metadata={'source': 'https://python.langchain.com/docs/introduction/', 'title': 'Introduction | \\uf8ffü¶úÔ∏è\\uf8ffüîó LangChain', 'description': 'LangChain is a framework for developing applications powered by large language models (LLMs).', 'language': 'en'}, page_content='split text by charactersResponse metadataHow to pass runtime secrets to runnablesHow to do \"self-querying\" retrievalHow to split text based on semantic similarityHow to chain runnablesHow to save and load LangChain objectsHow to split text by tokensHow to split HTMLHow to do question answering over CSVsHow to deal with large databases when doing SQL question-answeringHow to better prompt when doing SQL question-answeringHow to do query validation as part of SQL question-answeringHow to stream runnablesHow to stream responses from an LLMHow to use a time-weighted vector store retrieverHow to return artifacts from a toolHow to use chat models to call toolsHow to disable parallel tool callingHow to force models to call a toolHow to access the RunnableConfig from a toolHow to pass tool outputs to chat modelsHow to pass run time values to toolsHow to stream events from a toolHow to stream tool callsHow to convert tools to OpenAI FunctionsHow to handle tool errorsHow to use few-shot'),\n",
       " Document(metadata={'source': 'https://python.langchain.com/docs/introduction/', 'title': 'Introduction | \\uf8ffü¶úÔ∏è\\uf8ffüîó LangChain', 'description': 'LangChain is a framework for developing applications powered by large language models (LLMs).', 'language': 'en'}, page_content='outputs to chat modelsHow to pass run time values to toolsHow to stream events from a toolHow to stream tool callsHow to convert tools to OpenAI FunctionsHow to handle tool errorsHow to use few-shot prompting with tool callingHow to add a human-in-the-loop for toolsHow to bind model-specific toolsHow to trim messagesHow to create and query vector storesConceptual guideAgentsArchitectureAsync programming with langchainCallbacksChat historyChat modelsDocument loadersEmbedding modelsEvaluationExample selectorsFew-shot promptingConceptual guideKey-value storesLangChain Expression Language (LCEL)MessagesMultimodalityOutput parsersPrompt TemplatesRetrieval augmented generation (RAG)RetrievalRetrieversRunnable interfaceStreamingStructured outputsTestingString-in, string-out llmsText splittersTokensTool callingToolsTracingVector storesWhy LangChain?Ecosystem\\uf8ffü¶ú\\uf8ffüõ†Ô∏è LangSmith\\uf8ffü¶ú\\uf8ffüï∏Ô∏è LangGraphVersionsv0.3v0.2Pydantic compatibilityMigrating from v0.0 chainsHow to migrate from v0.0'),\n",
       " Document(metadata={'source': 'https://python.langchain.com/docs/introduction/', 'title': 'Introduction | \\uf8ffü¶úÔ∏è\\uf8ffüîó LangChain', 'description': 'LangChain is a framework for developing applications powered by large language models (LLMs).', 'language': 'en'}, page_content='callingToolsTracingVector storesWhy LangChain?Ecosystem\\uf8ffü¶ú\\uf8ffüõ†Ô∏è LangSmith\\uf8ffü¶ú\\uf8ffüï∏Ô∏è LangGraphVersionsv0.3v0.2Pydantic compatibilityMigrating from v0.0 chainsHow to migrate from v0.0 chainsMigrating from ConstitutionalChainMigrating from ConversationalChainMigrating from ConversationalRetrievalChainMigrating from LLMChainMigrating from LLMMathChainMigrating from LLMRouterChainMigrating from MapReduceDocumentsChainMigrating from MapRerankDocumentsChainMigrating from MultiPromptChainMigrating from RefineDocumentsChainMigrating from RetrievalQAMigrating from StuffDocumentsChainUpgrading to LangGraph memoryHow to migrate to LangGraph memoryHow to use BaseChatMessageHistory with LangGraphMigrating off ConversationBufferMemory or ConversationStringBufferMemoryMigrating off ConversationBufferWindowMemory or ConversationTokenBufferMemoryMigrating off ConversationSummaryMemory or ConversationSummaryBufferMemoryA Long-Term Memory AgentRelease policySecurity PolicyIntroductionOn this'),\n",
       " Document(metadata={'source': 'https://python.langchain.com/docs/introduction/', 'title': 'Introduction | \\uf8ffü¶úÔ∏è\\uf8ffüîó LangChain', 'description': 'LangChain is a framework for developing applications powered by large language models (LLMs).', 'language': 'en'}, page_content='or ConversationTokenBufferMemoryMigrating off ConversationSummaryMemory or ConversationSummaryBufferMemoryA Long-Term Memory AgentRelease policySecurity PolicyIntroductionOn this pageIntroduction'),\n",
       " Document(metadata={'source': 'https://python.langchain.com/docs/introduction/', 'title': 'Introduction | \\uf8ffü¶úÔ∏è\\uf8ffüîó LangChain', 'description': 'LangChain is a framework for developing applications powered by large language models (LLMs).', 'language': 'en'}, page_content='LangChain is a framework for developing applications powered by large language models (LLMs).\\nLangChain simplifies every stage of the LLM application lifecycle:'),\n",
       " Document(metadata={'source': 'https://python.langchain.com/docs/introduction/', 'title': 'Introduction | \\uf8ffü¶úÔ∏è\\uf8ffüîó LangChain', 'description': 'LangChain is a framework for developing applications powered by large language models (LLMs).', 'language': 'en'}, page_content=\"Development: Build your applications using LangChain's open-source components and third-party integrations.\\nUse LangGraph to build stateful agents with first-class streaming and human-in-the-loop support.\\nProductionization: Use LangSmith to inspect, monitor and evaluate your applications, so that you can continuously optimize and deploy with confidence.\\nDeployment: Turn your LangGraph applications into production-ready APIs and Assistants with LangGraph Platform.\\n\\n\\n\\nLangChain implements a standard interface for large language models and related\\ntechnologies, such as embedding models and vector stores, and integrates with\\nhundreds of providers. See the integrations page for\\nmore.\"),\n",
       " Document(metadata={'source': 'https://python.langchain.com/docs/introduction/', 'title': 'Introduction | \\uf8ffü¶úÔ∏è\\uf8ffüîó LangChain', 'description': 'LangChain is a framework for developing applications powered by large language models (LLMs).', 'language': 'en'}, page_content='Select chat model:Groq‚ñæGroqOpenAIAnthropicAzureGoogle VertexAWSCohereNVIDIAFireworks AIMistral AITogether AIIBM watsonxDatabrickspip install -qU \"langchain[groq]\"import getpassimport osif not os.environ.get(\"GROQ_API_KEY\"):  os.environ[\"GROQ_API_KEY\"] = getpass.getpass(\"Enter API key for Groq: \")from langchain.chat_models import init_chat_modelmodel = init_chat_model(\"llama3-8b-8192\", model_provider=\"groq\")\\nmodel.invoke(\"Hello, world!\")\\nnoteThese docs focus on the Python LangChain library. Head here for docs on the JavaScript LangChain library.\\nArchitecture‚Äã\\nThe LangChain framework consists of multiple open-source libraries. Read more in the\\nArchitecture page.'),\n",
       " Document(metadata={'source': 'https://python.langchain.com/docs/introduction/', 'title': 'Introduction | \\uf8ffü¶úÔ∏è\\uf8ffüîó LangChain', 'description': 'LangChain is a framework for developing applications powered by large language models (LLMs).', 'language': 'en'}, page_content=\"langchain-core: Base abstractions for chat models and other components.\\nIntegration packages (e.g. langchain-openai, langchain-anthropic, etc.): Important integrations have been split into lightweight packages that are co-maintained by the LangChain team and the integration developers.\\nlangchain: Chains, agents, and retrieval strategies that make up an application's cognitive architecture.\\nlangchain-community: Third-party integrations that are community maintained.\\nlanggraph: Orchestration framework for combining LangChain components into production-ready applications with persistence, streaming, and other key features. See LangGraph documentation.\\n\\nGuides‚Äã\\nTutorials‚Äã\\nIf you're looking to build something specific or are more of a hands-on learner, check out our tutorials section.\\nThis is the best place to get started.\\nThese are the best ones to get started with:\\n\\nBuild a Simple LLM Application\\nBuild a Chatbot\\nBuild an Agent\\nIntroduction to LangGraph\"),\n",
       " Document(metadata={'source': 'https://python.langchain.com/docs/introduction/', 'title': 'Introduction | \\uf8ffü¶úÔ∏è\\uf8ffüîó LangChain', 'description': 'LangChain is a framework for developing applications powered by large language models (LLMs).', 'language': 'en'}, page_content=\"Explore the full list of LangChain tutorials here, and check out other LangGraph tutorials here. To learn more about LangGraph, check out our first LangChain Academy course, Introduction to LangGraph, available here.\\nHow-to guides‚Äã\\nHere you‚Äôll find short answers to ‚ÄúHow do I‚Ä¶.?‚Äù types of questions.\\nThese how-to guides don‚Äôt cover topics in depth ‚Äì you‚Äôll find that material in the Tutorials and the API Reference.\\nHowever, these guides will help you quickly accomplish common tasks using chat models,\\nvector stores, and other common LangChain components.\\nCheck out LangGraph-specific how-tos here.\\nConceptual guide‚Äã\\nIntroductions to all the key parts of LangChain you‚Äôll need to know! Here you'll find high level explanations of all LangChain concepts.\\nFor a deeper dive into LangGraph concepts, check out this page.\\nIntegrations‚Äã\\nLangChain is part of a rich ecosystem of tools that integrate with our framework and build on top of it.\"),\n",
       " Document(metadata={'source': 'https://python.langchain.com/docs/introduction/', 'title': 'Introduction | \\uf8ffü¶úÔ∏è\\uf8ffüîó LangChain', 'description': 'LangChain is a framework for developing applications powered by large language models (LLMs).', 'language': 'en'}, page_content=\"For a deeper dive into LangGraph concepts, check out this page.\\nIntegrations‚Äã\\nLangChain is part of a rich ecosystem of tools that integrate with our framework and build on top of it.\\nIf you're looking to get up and running quickly with chat models, vector stores,\\nor other LangChain components from a specific provider, check out our growing list of integrations.\\nAPI reference‚Äã\\nHead to the reference section for full documentation of all classes and methods in the LangChain Python packages.\\nEcosystem‚Äã\\n\\uf8ffü¶ú\\uf8ffüõ†Ô∏è LangSmith‚Äã\\nTrace and evaluate your language model applications and intelligent agents to help you move from prototype to production.\\n\\uf8ffü¶ú\\uf8ffüï∏Ô∏è LangGraph‚Äã\\nBuild stateful, multi-actor applications with LLMs. Integrates smoothly with LangChain, but can be used without it. LangGraph powers production-grade agents, trusted by Linkedin, Uber, Klarna, GitLab, and many more.\\nAdditional resources‚Äã\\nVersions‚Äã\"),\n",
       " Document(metadata={'source': 'https://python.langchain.com/docs/introduction/', 'title': 'Introduction | \\uf8ffü¶úÔ∏è\\uf8ffüîó LangChain', 'description': 'LangChain is a framework for developing applications powered by large language models (LLMs).', 'language': 'en'}, page_content=\"Additional resources‚Äã\\nVersions‚Äã\\nSee what changed in v0.3, learn how to migrate legacy code, read up on our versioning policies, and more.\\nSecurity‚Äã\\nRead up on security best practices to make sure you're developing safely with LangChain.\\nContributing‚Äã\\nCheck out the developer's guide for guidelines on contributing and help getting your dev environment set up.Edit this pageWas this page helpful?NextTutorialsArchitectureGuidesTutorialsHow-to guidesConceptual guideIntegrationsAPI referenceEcosystem\\uf8ffü¶ú\\uf8ffüõ†Ô∏è LangSmith\\uf8ffü¶ú\\uf8ffüï∏Ô∏è LangGraphAdditional resourcesVersionsSecurityContributingCommunityTwitterGitHubOrganizationPythonJS/TSMoreHomepageBlogYouTubeCopyright ¬© 2025 LangChain, Inc.\"),\n",
       " Document(metadata={'source': 'https://docs.smith.langchain.com/', 'title': 'Get started with LangSmith | \\uf8ffü¶úÔ∏è\\uf8ffüõ†Ô∏è LangSmith', 'description': 'LangSmith is a platform for building production-grade LLM applications.', 'language': 'en'}, page_content='Get started with LangSmith | \\uf8ffü¶úÔ∏è\\uf8ffüõ†Ô∏è LangSmith'),\n",
       " Document(metadata={'source': 'https://docs.smith.langchain.com/', 'title': 'Get started with LangSmith | \\uf8ffü¶úÔ∏è\\uf8ffüõ†Ô∏è LangSmith', 'description': 'LangSmith is a platform for building production-grade LLM applications.', 'language': 'en'}, page_content='Skip to main contentJoin us at  Interrupt: The Agent AI Conference by LangChain on May 13 & 14 in San Francisco!API ReferenceRESTPythonJS/TSSearchRegionUSEUGo to AppGet StartedObservabilityEvaluationPrompt EngineeringDeployment (LangGraph Platform)AdministrationSelf-hostingPricingReferenceCloud architecture and scalabilityAuthz and AuthnAuthentication methodsdata_formatsEvaluationDataset transformationsRegions FAQsdk_referenceGet StartedOn this pageGet started with LangSmith\\nLangSmith is a platform for building production-grade LLM applications.\\nIt allows you to closely monitor and evaluate your application, so you can ship quickly and with confidence.\\nObservabilityAnalyze traces in LangSmith and configure metrics, dashboards, alerts based on these.EvalsEvaluate your application over production traffic ‚Äî score application performance and get human feedback on your data.Prompt EngineeringIterate on prompts, with automatic version control and collaboration features.'),\n",
       " Document(metadata={'source': 'https://docs.smith.langchain.com/', 'title': 'Get started with LangSmith | \\uf8ffü¶úÔ∏è\\uf8ffüõ†Ô∏è LangSmith', 'description': 'LangSmith is a platform for building production-grade LLM applications.', 'language': 'en'}, page_content=\"LangSmith + LangChain OSSLangSmith integrates seamlessly with LangChain's open source frameworks langchain and langgraph, with no extra instrumentation needed.If you're already using either of these, see the how-to guide for setting up LangSmith with LangChain or setting up LangSmith with LangGraph.\\nObservability‚Äã\\nObservability is important for any software application, but especially so for LLM applications. LLMs are non-deterministic by nature, meaning they can produce unexpected results. This makes them trickier than normal to debug.\\nThis is where LangSmith can help! LangSmith has LLM-native observability, allowing you to get meaningful insights from your application. LangSmith‚Äôs observability features have you covered throughout all stages of application development - from prototyping, to beta testing, to production.\"),\n",
       " Document(metadata={'source': 'https://docs.smith.langchain.com/', 'title': 'Get started with LangSmith | \\uf8ffü¶úÔ∏è\\uf8ffüõ†Ô∏è LangSmith', 'description': 'LangSmith is a platform for building production-grade LLM applications.', 'language': 'en'}, page_content='Get started by adding tracing to your application.\\nCreate dashboards to view key metrics like RPS, error rates and costs.\\n\\nEvals‚Äã\\nThe quality and development speed of AI applications depends on high-quality evaluation datasets and metrics to test and optimize your applications on. The LangSmith SDK and UI make building and running high-quality evaluations easy.\\n\\nGet started by creating your first evaluation.\\nQuickly assess the performance of your application using our off-the-shelf evaluators (Python only) as a starting point.\\nAnalyze results of evaluations in the LangSmith UI and compare results over time.\\nEasily collect human feedback on your data to improve your application.\\n\\nPrompt Engineering‚Äã\\nWhile traditional software applications are built by writing code, AI applications involve writing prompts to instruct the LLM on what to do. LangSmith provides a set of tools designed to enable and facilitate prompt engineering to help you find the perfect prompt for your application.'),\n",
       " Document(metadata={'source': 'https://docs.smith.langchain.com/', 'title': 'Get started with LangSmith | \\uf8ffü¶úÔ∏è\\uf8ffüõ†Ô∏è LangSmith', 'description': 'LangSmith is a platform for building production-grade LLM applications.', 'language': 'en'}, page_content='Get started by creating your first prompt.\\nIterate on models and prompts using the Playground.\\nManage prompts programmatically in your application.\\nWas this page helpful?You can leave detailed feedback on GitHub.NextQuick StartObservabilityEvalsPrompt EngineeringCommunityDiscordTwitterGitHubDocs CodeLangSmith SDKPythonJS/TSMoreHomepageBlogLangChain Python DocsLangChain JS/TS DocsCopyright ¬© 2025 LangChain, Inc.'),\n",
       " Document(metadata={'source': 'https://www.ibm.com/think/topics/ai-agents', 'title': 'What Are AI Agents? | IBM', 'description': 'An artificial intelligence (AI) agent refers to a system or program that is capable of autonomously performing tasks on behalf of a user or another system.', 'language': 'en'}, page_content='What Are AI Agents? | IBM\\n\\n\\n\\n\\n\\n\\n\\n\\n\\n\\n\\n\\n\\n\\n\\n\\n\\n\\n\\n\\n\\n\\n\\n\\n\\n\\n\\n\\n\\n\\n\\n\\n\\n\\n\\n\\n\\n\\n\\n\\n\\n\\n\\n\\n\\n\\n\\n\\n\\n\\n\\n\\n\\n\\n\\n\\n\\n\\n\\n\\n\\n\\n\\n\\n\\n\\n\\n\\n\\n\\n\\n\\n\\n\\n\\n\\n\\n                        \\n\\n\\n\\n  \\n    What are AI agents?\\n\\n\\n\\n\\n\\n\\n    \\n\\n\\n                    \\n\\n\\n\\n\\n\\n\\n\\n\\n\\n\\n\\n\\n\\n\\n\\n\\n\\n\\n\\n\\n\\n\\n\\n\\n\\n\\n                                    Artificial Intelligence\\n                                \\n\\n\\n\\n\\n\\n\\n                    \\n\\n\\n\\n  \\n    3 July 2024\\n\\n\\n\\n\\n\\n\\n    \\n\\n\\n                \\n\\n\\n\\n\\n\\n\\n\\n\\n\\n\\n\\n\\n                Link copied\\n            \\n\\n\\n\\n\\n\\n\\n\\n\\n\\n\\n\\n\\n\\n\\n\\n\\n\\n\\n\\n\\n\\n\\n\\n\\n\\n\\n\\n\\n\\n\\n\\n\\n\\n\\n\\n\\n\\n\\n\\n\\n\\n        \\n\\n\\n\\n  \\n    Authors\\n\\n\\n\\n\\n\\n\\n    \\n\\n\\n    \\n\\n\\n\\n\\n\\n\\n\\n\\n\\n\\n\\n\\n\\nAnna Gutowska\\nData Scientist, Developer Advocacy, IBM\\n\\n\\n\\n\\n\\n\\n\\r\\n        What are AI agents?\\r\\n    \\n\\n\\n\\nAn\\xa0artificial intelligence (AI)\\xa0agent refers to a system or program that is capable of autonomously performing tasks on behalf of a user or another system by designing its workflow and utilizing available tools.'),\n",
       " Document(metadata={'source': 'https://www.ibm.com/think/topics/ai-agents', 'title': 'What Are AI Agents? | IBM', 'description': 'An artificial intelligence (AI) agent refers to a system or program that is capable of autonomously performing tasks on behalf of a user or another system.', 'language': 'en'}, page_content='AI agents can encompass a wide range of functionalities beyond natural language processing including decision-making, problem-solving, interacting with external environments and executing actions.\\nThese agents can be deployed in various applications to solve complex tasks in various enterprise contexts from software design and IT automation to code-generation tools and conversational assistants. They use the advanced natural language processing techniques of large language models (LLMs) to comprehend and respond to user inputs step-by-step and determine when to call on external tools.\\n\\n\\n\\n\\n\\n\\n\\n\\n\\n\\n\\n\\n\\r\\n        How AI agents work'),\n",
       " Document(metadata={'source': 'https://www.ibm.com/think/topics/ai-agents', 'title': 'What Are AI Agents? | IBM', 'description': 'An artificial intelligence (AI) agent refers to a system or program that is capable of autonomously performing tasks on behalf of a user or another system.', 'language': 'en'}, page_content=\"How AI agents work\\r\\n    \\n\\n\\n\\nAt the core of AI agents are\\xa0large language models\\xa0(LLMs). For this reason, AI agents are often referred to as LLM agents.\\xa0Traditional\\xa0LLMs, such as\\xa0IBM®\\xa0Granite™ models,\\xa0produce their responses based on the data used to train them and are bounded by knowledge and reasoning limitations. In contrast, agentic technology uses tool calling on the backend to obtain up-to-date information, optimize workflow and create subtasks autonomously to achieve complex goals.\\nIn this process, the autonomous agent learns to adapt to user expectations over time. The agent's ability to store past interactions in memory and plan future actions encourages a personalized experience and comprehensive responses.1\\xa0This tool calling can be achieved without human intervention and broadens the possibilities for real-world applications of these AI systems.\\xa0The approach that\\xa0AI agents\\xa0take in achieving goals set by users is comprised of these three stages:\"),\n",
       " Document(metadata={'source': 'https://www.ibm.com/think/topics/ai-agents', 'title': 'What Are AI Agents? | IBM', 'description': 'An artificial intelligence (AI) agent refers to a system or program that is capable of autonomously performing tasks on behalf of a user or another system.', 'language': 'en'}, page_content=\"Goal initialization and planning\\n\\n\\nAlthough\\xa0AI agents\\xa0are autonomous in their\\xa0decision-making\\xa0processes, they require goals and environments defined by humans.2\\xa0There are three main influences on\\xa0autonomous agent\\xa0behavior:\\xa0\\nThe team of developers that design and train the agentic\\xa0AI system.\\xa0The team that deploys the agent and provides the user with access to it.The user that provides the\\xa0AI agent\\xa0with specific goals to accomplish and establishes available tools to use.\\nGiven the user's goals and the agent’s available tools, the\\xa0AI agent\\xa0then performs task decomposition to improve performance.3\\xa0Essentially, the agent creates a plan of\\xa0specific tasks\\xa0and subtasks to accomplish the complex goal. \\nFor simple tasks, planning is not a necessary step. Instead, an agent can iteratively reflect on its responses and improve them without planning its next steps.\\n\\n\\nReasoning using available tools\"),\n",
       " Document(metadata={'source': 'https://www.ibm.com/think/topics/ai-agents', 'title': 'What Are AI Agents? | IBM', 'description': 'An artificial intelligence (AI) agent refers to a system or program that is capable of autonomously performing tasks on behalf of a user or another system.', 'language': 'en'}, page_content='AI agents base their actions on the information they perceive. Often,\\xa0AI agents\\xa0do not have the full\\xa0knowledge base needed\\xa0for tackling all subtasks within a complex goal. To remedy this,\\xa0AI agents use their available tools. These tools can include external\\xa0data sets, web searches,\\xa0APIs and even other agents. After the missing information is retrieved from these tools, the agent can update its knowledge base. This means that each step of the way, the agent reassesses its plan of action and self-corrects.\\nTo help illustrate this process, imagine a user planning their vacation. The user tasks an AI agent with predicting which week in the next year would likely have the best weather for their surfing trip in Greece. Since the LLM model at the core of the agent does not specialize in weather patterns, the agent gathers information from an external database comprised of daily weather reports for Greece over the past several years.'),\n",
       " Document(metadata={'source': 'https://www.ibm.com/think/topics/ai-agents', 'title': 'What Are AI Agents? | IBM', 'description': 'An artificial intelligence (AI) agent refers to a system or program that is capable of autonomously performing tasks on behalf of a user or another system.', 'language': 'en'}, page_content='Despite acquiring this new information, the agent still cannot determine the optimal weather conditions for surfing and so, the next subtask is created. For this subtask, the agent communicates with an external agent that specializes in surfing. Let’s say that in doing so, the agent learns that high tides and sunny weather with little to no rain provide the best surfing conditions.\\nThe agent can now combine the information it has learned from its tools to identify patterns. It can predict which week next year in Greece will likely have high tides, sunny weather and a low chance of rain. These findings are then presented to the user. This sharing of information between tools is what allows\\xa0AI agents\\xa0to be more general-purpose than traditional\\xa0AI models.3'),\n",
       " Document(metadata={'source': 'https://www.ibm.com/think/topics/ai-agents', 'title': 'What Are AI Agents? | IBM', 'description': 'An artificial intelligence (AI) agent refers to a system or program that is capable of autonomously performing tasks on behalf of a user or another system.', 'language': 'en'}, page_content='Learning and reflection'),\n",
       " Document(metadata={'source': 'https://www.ibm.com/think/topics/ai-agents', 'title': 'What Are AI Agents? | IBM', 'description': 'An artificial intelligence (AI) agent refers to a system or program that is capable of autonomously performing tasks on behalf of a user or another system.', 'language': 'en'}, page_content=\"AI agents\\xa0use feedback mechanisms, such as other AI agents and human-in-the-loop (HITL), to improve the accuracy of their responses. Let’s return to our previous surfing example to highlight this. After the agent forms its response to the user, the agent stores the learned information along with the user’s feedback to improve performance and adjust to user preferences for future goals.\\nIf other agents were used to reach the goal, their feedback may also be used.\\xa0Multi-agent feedback can be especially useful in minimizing the time that human users spend providing direction. However, users can also provide feedback throughout the agent's actions and internal reasoning to better align the results with the intended goal.2\\nFeedback mechanisms improve the\\xa0AI agent's reasoning and accuracy, which is commonly referred to as iterative refinement.3\\xa0To avoid repeating the same mistakes,\\xa0AI agents\\xa0can also store data about solutions to previous obstacles in a\\xa0knowledge base.\"),\n",
       " Document(metadata={'source': 'https://www.ibm.com/think/topics/ai-agents', 'title': 'What Are AI Agents? | IBM', 'description': 'An artificial intelligence (AI) agent refers to a system or program that is capable of autonomously performing tasks on behalf of a user or another system.', 'language': 'en'}, page_content='Industry newsletter\\n\\n\\n\\nThe latest AI trends, brought to you by experts\\n\\n\\nThank you! You are subscribed.\\n\\n\\n\\nGet curated insights on the most important—and intriguing—AI news. Subscribe to our weekly Think newsletter. See the IBM Privacy Statement.\\n\\n\\n\\n\\n\\n\\n\\n\\n\\n\\n\\n\\n\\n\\n\\n\\n\\n\\n\\n\\n\\nYour subscription will be delivered in English. You will find an unsubscribe link in every newsletter. You can manage your subscriptions or unsubscribe here. Refer to our IBM Privacy Statement for more information.\\n\\n\\n\\n\\n\\n\\n\\n\\n\\n\\n\\n\\n\\n\\n\\n\\r\\n        Agentic versus non-agentic AI chatbots'),\n",
       " Document(metadata={'source': 'https://www.ibm.com/think/topics/ai-agents', 'title': 'What Are AI Agents? | IBM', 'description': 'An artificial intelligence (AI) agent refers to a system or program that is capable of autonomously performing tasks on behalf of a user or another system.', 'language': 'en'}, page_content='Agentic versus non-agentic AI chatbots\\r\\n    \\n\\n\\n\\nAI\\xa0chatbots\\xa0use\\xa0conversational AI\\xa0techniques such as\\xa0natural language processing\\xa0(NLP) to understand user questions and automate responses to them. These chatbots are a modality whereas agency is a technological framework.\\xa0\\nNon-agentic AI chatbots are ones without available tools, memory and reasoning. They can only reach short-term goals and cannot plan ahead.\\xa0As we know them, non-agentic chatbots\\xa0require continuous user input to respond.\\xa0They can produce responses to common prompts that most likely align with user expectations but perform poorly on questions unique to the user and their data. Since these chatbots do not hold memory, they cannot learn from their mistakes if their responses are unsatisfactory.'),\n",
       " Document(metadata={'source': 'https://www.ibm.com/think/topics/ai-agents', 'title': 'What Are AI Agents? | IBM', 'description': 'An artificial intelligence (AI) agent refers to a system or program that is capable of autonomously performing tasks on behalf of a user or another system.', 'language': 'en'}, page_content='In contrast,\\xa0agentic AI chatbots learn to adapt to user expectations over time, providing a more personalized experience and comprehensive responses. They can complete complex tasks by creating subtasks without\\xa0human intervention and considering different plans. These plans can also be self-corrected and updated as needed.\\xa0Agentic AI chatbots, unlike non-agentic ones, assess their tools and use their available resources to fill in information gaps.\\xa0\\n\\n\\n\\n\\n\\n\\n\\n\\n\\n\\n\\n\\n\\n  \\n  \\n      Mixture of Experts | 14 February, episode 42\\n  \\n\\n\\n\\n\\n    \\n\\n\\n\\n\\n\\n\\n\\n\\n\\n\\n            \\n\\n\\n\\n  \\n    Decoding AI: Weekly News Roundup\\n\\n\\n\\n\\n\\n\\n    \\n\\n\\n        \\n\\n\\nJoin our world-class panel of engineers, researchers, product leaders and more as they cut through the AI noise to bring you the latest in AI news and insights.\\n\\n\\n\\n\\nWatch the latest podcast episodes\\n\\n\\n\\n\\n\\n\\n\\n\\n\\n\\n\\n\\n\\n\\n\\n\\n\\n\\n\\n\\n\\r\\n        Reasoning paradigms'),\n",
       " Document(metadata={'source': 'https://www.ibm.com/think/topics/ai-agents', 'title': 'What Are AI Agents? | IBM', 'description': 'An artificial intelligence (AI) agent refers to a system or program that is capable of autonomously performing tasks on behalf of a user or another system.', 'language': 'en'}, page_content='Watch the latest podcast episodes\\n\\n\\n\\n\\n\\n\\n\\n\\n\\n\\n\\n\\n\\n\\n\\n\\n\\n\\n\\n\\n\\r\\n        Reasoning paradigms\\r\\n    \\n\\n\\n\\nThere is not one standard architecture for building AI agents. Several paradigms exist for solving multi-step problems.\\n\\n\\nReAct (Reasoning and Action)\\n\\n\\nWith this paradigm, we can instruct agents to \"think\" and plan after each action taken and with each tool response to decide which tool to use next. These Think-Act-Observe loops are used to solve problems step by step and iteratively improve upon responses.\\nThrough the prompt structure, agents can be instructed to reason slowly and to display each \"thought\".4\\xa0The agent\\'s verbal reasoning gives insight into how responses are formulated. In this framework, agents continuously update their context with new reasoning. This can be interpreted as a form of\\xa0Chain-of-Thought prompting.\\n\\n\\nReWOO (Reasoning WithOut Observation)'),\n",
       " Document(metadata={'source': 'https://www.ibm.com/think/topics/ai-agents', 'title': 'What Are AI Agents? | IBM', 'description': 'An artificial intelligence (AI) agent refers to a system or program that is capable of autonomously performing tasks on behalf of a user or another system.', 'language': 'en'}, page_content=\"ReWOO (Reasoning WithOut Observation)\\n\\n\\nThe ReWOO method, unlike ReAct, eliminates the dependence on tool outputs for action planning. Instead, agents plan upfront. Redundant tool usage is avoided by anticipating which tools to use upon receiving the initial prompt from the user. This is desirable from a human-centered perspective since the user can confirm the plan before it is executed.\\nThe ReWOO workflow is made up of three modules. In the planning module, the agent anticipates its next steps given a user's prompt. The next stage entails collecting the outputs produced by calling these tools. Lastly, the agent pairs the initial plan with the tool outputs to formulate a response. This planning ahead can greatly reduce token usage and computational complexity as well as the repercussions of intermediate tool failure.5\\n\\n\\n\\r\\n        Types of AI agents\"),\n",
       " Document(metadata={'source': 'https://www.ibm.com/think/topics/ai-agents', 'title': 'What Are AI Agents? | IBM', 'description': 'An artificial intelligence (AI) agent refers to a system or program that is capable of autonomously performing tasks on behalf of a user or another system.', 'language': 'en'}, page_content='Types of AI agents\\r\\n    \\n\\n\\n\\nAI agents can be developed to have varying levels of capabilities. A simple agent may be preferred for straightforward goals to limit unnecessary computational complexity. In order of simplest to most advanced, there are 5 main agent types:\\n\\n\\n1. Simple reflex agents'),\n",
       " Document(metadata={'source': 'https://www.ibm.com/think/topics/ai-agents', 'title': 'What Are AI Agents? | IBM', 'description': 'An artificial intelligence (AI) agent refers to a system or program that is capable of autonomously performing tasks on behalf of a user or another system.', 'language': 'en'}, page_content='1. Simple reflex agents\\n\\n\\nSimple reflex agents are the simplest agent form that grounds actions on current\\xa0perception. This agent does not hold any memory, nor does it interact with other agents if it is missing information. These\\xa0agents function\\xa0on a set of so-called reflexes or rules. This means that the agent is preprogrammed to perform actions that correspond to certain conditions being met.\\nIf the agent encounters a situation that it is not prepared for, it cannot respond appropriately. The agents are only effective in environments that are fully observable granting access to all necessary information.6\\nExample: A thermostat that turns on the heating system at a set time every night. The condition-action rule here is, for instance, if it is 8 PM, then the heating is activated.\\n\\n\\n\\n2. Model-based reflex agents'),\n",
       " Document(metadata={'source': 'https://www.ibm.com/think/topics/ai-agents', 'title': 'What Are AI Agents? | IBM', 'description': 'An artificial intelligence (AI) agent refers to a system or program that is capable of autonomously performing tasks on behalf of a user or another system.', 'language': 'en'}, page_content='2. Model-based reflex agents\\n\\n\\nModel-based reflex agents use both their current\\xa0perception\\xa0and memory to maintain an internal model of the world. As the agent continues to receive new information, the model is updated. The agent’s actions depend on its model, reflexes, previous\\xa0precepts and current state.\\nThese agents, unlike\\xa0simple reflex agents, can store information in memory and can operate in environments that are partially observable and changing. However, they are still limited by their set of rules.6\\nExample: A robot vacuum cleaner. As it cleans a dirty room, it senses obstacles such as furniture and adjusts around them. The robot also stores a model of the areas it has already cleaned to not get stuck in a loop of repeated cleaning.\\n\\n\\n3. Goal-based agents'),\n",
       " Document(metadata={'source': 'https://www.ibm.com/think/topics/ai-agents', 'title': 'What Are AI Agents? | IBM', 'description': 'An artificial intelligence (AI) agent refers to a system or program that is capable of autonomously performing tasks on behalf of a user or another system.', 'language': 'en'}, page_content='3. Goal-based agents\\n\\n\\nGoal-based agents have an internal model of the world and also a goal or set of goals. These agents search for action sequences that reach their goal and plan these actions before acting on them. This search and planning improve their effectiveness when compared to simple and\\xa0model-based reflex agents.7\\nExample: A navigation system that recommends the fastest route to your destination. The model considers various routes that reach your destination, or in other words, your goal. In this example, the agent’s condition-action rule states that if a quicker route is found, the agent recommends that one instead.\\n\\n\\n4. Utility-based agents'),\n",
       " Document(metadata={'source': 'https://www.ibm.com/think/topics/ai-agents', 'title': 'What Are AI Agents? | IBM', 'description': 'An artificial intelligence (AI) agent refers to a system or program that is capable of autonomously performing tasks on behalf of a user or another system.', 'language': 'en'}, page_content='4. Utility-based agents\\n\\n\\nUtility-based agents select the sequence of actions that reach the goal and also maximize utility or reward. Utility is calculated using a utility function. This function assigns a utility value, a metric measuring the usefulness of an action or how “happy” it will make the agent, to each scenario based on a set of fixed criteria.\\nThe criteria can include factors such as progression toward the goal, time requirements, or computational complexity. The agent then selects the actions that maximize the expected utility. Hence, these agents are useful in cases where multiple scenarios achieve a desired goal and an optimal one must be selected.7\\nExample: A navigation system that recommends the route to your destination that optimizes fuel efficiency and minimizes the time spent in traffic and the cost of tolls. This agent measures utility through this set of criteria to select the most favorable route.\\n\\n\\n5. Learning agents'),\n",
       " Document(metadata={'source': 'https://www.ibm.com/think/topics/ai-agents', 'title': 'What Are AI Agents? | IBM', 'description': 'An artificial intelligence (AI) agent refers to a system or program that is capable of autonomously performing tasks on behalf of a user or another system.', 'language': 'en'}, page_content='Learning agents hold the same capabilities as the other agent types but are unique in their ability to learn. New experiences are added to their initial\\xa0knowledge base, which occurs autonomously. This learning enhances the agent’s ability to operate in unfamiliar environments.\\xa0Learning agents\\xa0may be utility or goal-based in their reasoning and are comprised of four main elements:7\\nLearning:\\xa0This\\xa0improves the agent’s knowledge by learning from the environment through its\\xa0precepts\\xa0and sensors.Critic:\\xa0This\\xa0provides feedback to the agent on whether the quality of its responses meets the performance standard.Performance:\\xa0This element is responsible for selecting actions upon learning.Problem\\xa0generator:\\xa0This\\xa0creates various proposals for actions to be taken.'),\n",
       " Document(metadata={'source': 'https://www.ibm.com/think/topics/ai-agents', 'title': 'What Are AI Agents? | IBM', 'description': 'An artificial intelligence (AI) agent refers to a system or program that is capable of autonomously performing tasks on behalf of a user or another system.', 'language': 'en'}, page_content='Example: Personalized recommendations on e-commerce sites. These agents track user activity and preferences in their memory. This information is used to recommend certain products and services to the user. The cycle repeats each time new recommendations are made. The user’s activity is continuously stored for learning purposes. In doing so, the agent improves its accuracy over time.'),\n",
       " Document(metadata={'source': 'https://www.ibm.com/think/topics/ai-agents', 'title': 'What Are AI Agents? | IBM', 'description': 'An artificial intelligence (AI) agent refers to a system or program that is capable of autonomously performing tasks on behalf of a user or another system.', 'language': 'en'}, page_content='Use cases of AI agents\\n\\n\\n\\n\\n\\n\\n\\n\\n\\n\\n\\n\\n\\n\\n\\n\\n\\n\\n\\n\\n\\n\\n\\n\\n\\n\\n\\n\\n\\n\\n\\n\\n\\n\\n\\n\\n\\n\\n\\n\\n\\n\\n\\n\\n\\n\\n\\n\\n\\n\\n\\n\\n\\n\\n\\n\\n\\n\\n\\n        \\n\\n\\n\\n  \\n    Customer experience\\n\\n\\n\\n\\n\\n\\n    \\n\\n\\n    \\n\\n\\nAI agents can be integrated into websites and\\xa0apps\\xa0to enhance the\\xa0customer experience\\xa0by serving as a virtual assistants, providing mental health support, simulating interviews and other related tasks.8\\xa0There are many\\xa0no-code templates\\xa0for user implementation, making the process of creating these AI agents even easier.\\xa0\\n\\n\\n\\n\\n\\n\\n\\n\\n\\n\\n\\n\\n\\n\\n\\n\\n\\n\\n\\n\\n\\n\\n\\n\\n\\n\\n\\n\\n\\n\\n\\n\\n\\n\\n\\n\\n\\n\\n\\n\\n\\n\\n\\n\\n\\n\\n\\n\\n\\n\\n\\n\\n\\n\\n\\n\\n\\n\\n\\n\\n\\n\\n        \\n\\n\\n\\n  \\n    Healthcare\\n\\n\\n\\n\\n\\n\\n    \\n\\n\\n    \\n\\n\\nAI agents\\xa0can be used for various\\xa0real-world healthcare\\xa0applications. Multi-agent systems can be particularly useful for problem-solving in such settings. From treatment planning for patients in the emergency department to managing drug processes, these systems save the time and effort of medical professionals for more urgent tasks.9'),\n",
       " Document(metadata={'source': 'https://www.ibm.com/think/topics/ai-agents', 'title': 'What Are AI Agents? | IBM', 'description': 'An artificial intelligence (AI) agent refers to a system or program that is capable of autonomously performing tasks on behalf of a user or another system.', 'language': 'en'}, page_content='Emergency response\\n\\n\\n\\n\\n\\n\\n    \\n\\n\\n    \\n\\n\\nIn case of natural disasters,\\xa0AI agents\\xa0can use\\xa0deep learning\\xa0algorithms\\xa0to retrieve the information of users on social media sites that need rescue. The locations of these users can be mapped to assist rescue services in saving more people in less time. Therefore,\\xa0AI agents\\xa0can greatly benefit human life in both mundane tasks and life-saving situations.10\\n\\n\\n\\n\\n\\n\\r\\n        Benefits of AI agents\\r\\n    \\n\\n\\n\\nTask automation\\n\\n\\nWith the ongoing\\xa0advancements\\xa0in\\xa0generative AI, there is a growing interest in workflow\\xa0optimization using AI, or intelligent automation.\\xa0AI agents\\xa0are\\xa0AI tools\\xa0that can\\xa0automate\\xa0complex tasks\\xa0that would otherwise require human resources. This translates to goals being reached inexpensively, rapidly and at scale. In turn, these\\xa0advancements\\xa0mean\\xa0human agents\\xa0do not need to provide direction to the\\xa0AI assistant\\xa0for creating and navigating its tasks.'),\n",
       " Document(metadata={'source': 'https://www.ibm.com/think/topics/ai-agents', 'title': 'What Are AI Agents? | IBM', 'description': 'An artificial intelligence (AI) agent refers to a system or program that is capable of autonomously performing tasks on behalf of a user or another system.', 'language': 'en'}, page_content='Greater performance\\n\\n\\nMulti-agent\\xa0frameworks\\xa0tend to outperform singular agents.11\\xa0This is because the more plans of action are available to an agent, the more learning and reflection occur. An AI agent incorporating knowledge and feedback from other\\xa0AI agents\\xa0specializing in related areas can be useful for information synthesis. This\\xa0backend\\xa0collaboration of AI agents and the ability to fill information gaps are unique to agentic frameworks, making them a powerful tool and a meaningful advancement in artificial intelligence.\\n\\n\\nQuality of responses'),\n",
       " Document(metadata={'source': 'https://www.ibm.com/think/topics/ai-agents', 'title': 'What Are AI Agents? | IBM', 'description': 'An artificial intelligence (AI) agent refers to a system or program that is capable of autonomously performing tasks on behalf of a user or another system.', 'language': 'en'}, page_content='Quality of responses\\n\\n\\nAI agents\\xa0provide responses that are more comprehensive, accurate and personalized to the user than traditional\\xa0AI models. This is extremely important to us as users since higher-quality responses typically yield a better customer experience. As previously described, this is made possible through exchanging information with other agents, using external tools and updating their memory stream. These behaviors emerge on their own and are not preprogrammed.12\\n\\n\\n\\r\\n        Risks and limitations\\r\\n    \\n\\n\\n\\nMulti-agent dependencies'),\n",
       " Document(metadata={'source': 'https://www.ibm.com/think/topics/ai-agents', 'title': 'What Are AI Agents? | IBM', 'description': 'An artificial intelligence (AI) agent refers to a system or program that is capable of autonomously performing tasks on behalf of a user or another system.', 'language': 'en'}, page_content='Risks and limitations\\r\\n    \\n\\n\\n\\nMulti-agent dependencies\\n\\n\\nCertain complex tasks require the knowledge of multiple AI agents. When implementing these multi-agent frameworks, there is a risk of malfunction. Multi-agent systems built on the same\\xa0foundation models\\xa0may experience shared pitfalls. Such weaknesses could cause a system-wide failure of all involved agents or expose vulnerability to adverse attacks.13\\xa0This highlights the importance of data governance in building foundation models and thorough training and testing processes.\\n\\n\\nInfinite feedback loops\\n\\n\\nThe convenience of the hands-off\\xa0reasoning for human users using\\xa0AI agents\\xa0also comes with its risks. Agents that are unable to create a comprehensive plan or reflect on their findings, may find themselves repeatedly calling the same tools, invoking infinite feedback loops. To avoid these redundancies, some level of\\xa0real-time\\xa0human monitoring may be used.13\\n\\n\\nComputational complexity'),\n",
       " Document(metadata={'source': 'https://www.ibm.com/think/topics/ai-agents', 'title': 'What Are AI Agents? | IBM', 'description': 'An artificial intelligence (AI) agent refers to a system or program that is capable of autonomously performing tasks on behalf of a user or another system.', 'language': 'en'}, page_content='Computational complexity\\n\\n\\nBuilding\\xa0AI agents\\xa0from scratch is both time-consuming and can also be very computationally expensive. The resources required for training a high-performance agent can be extensive. Additionally, depending on the complexity of the task, agents can take several days to complete tasks.12\\n\\n\\n\\r\\n        Best practices\\r\\n    \\n\\n\\n\\nActivity logs\\xa0\\n\\n\\nTo address the concerns of multi-agent dependencies, developers can provide users with access to a log of agent actions.14\\xa0The actions can include the use of external tools and describe the external agents utilized to reach the goal. This transparency grants users insight into the iterative\\xa0decision-making\\xa0process, provides the opportunity to\\xa0discover\\xa0errors and builds trust.\\n\\n\\nInterruption'),\n",
       " Document(metadata={'source': 'https://www.ibm.com/think/topics/ai-agents', 'title': 'What Are AI Agents? | IBM', 'description': 'An artificial intelligence (AI) agent refers to a system or program that is capable of autonomously performing tasks on behalf of a user or another system.', 'language': 'en'}, page_content='Interruption\\n\\n\\nPreventing\\xa0AI agents\\xa0from running for overly long periods of time is recommended. Particularly, in cases of unintended infinite feedback loops, changes in access to certain tools, or malfunctioning due to design flaws. One way to accomplish this is by implementing interruptibility.\\nMaintaining control of this involves allowing human users the option to gracefully interrupt a sequence of actions or the entire operation. Choosing if and when to interrupt an\\xa0AI agent\\xa0requires some thoughtfulness as some terminations can cause more harm than good. For instance, it may be safer to allow a faulty agent to continue assisting in a life-threatening emergency than to completely shut it down.5\\n\\n\\nUnique agent identifiers'),\n",
       " Document(metadata={'source': 'https://www.ibm.com/think/topics/ai-agents', 'title': 'What Are AI Agents? | IBM', 'description': 'An artificial intelligence (AI) agent refers to a system or program that is capable of autonomously performing tasks on behalf of a user or another system.', 'language': 'en'}, page_content=\"Unique agent identifiers\\n\\n\\nTo mitigate the risk of agentic systems being used for malicious use, unique identifiers can be used.14\\xa0If these identifiers were to be required for agents to access external systems, there would be greater ease in tracing the origin of the agent's developers, deployers and its user. This would be particularly helpful in case of any malicious use or unintended harm done by the agent. This level of accountability would provide a safer environment for these\\xa0AI agents\\xa0to operate.\\n\\n\\nHuman supervision\"),\n",
       " Document(metadata={'source': 'https://www.ibm.com/think/topics/ai-agents', 'title': 'What Are AI Agents? | IBM', 'description': 'An artificial intelligence (AI) agent refers to a system or program that is capable of autonomously performing tasks on behalf of a user or another system.', 'language': 'en'}, page_content='Human supervision\\n\\n\\nTo assist in the learning process for\\xa0AI agents, especially in their early stages in a new environment, it can be helpful to provide occasional human feedback. This allows the\\xa0AI agent\\xa0to compare its performance to the expected standard and adjust accordingly. This form of feedback is helpful in improving the agent’s adaptability to user preferences.5\\nApart from this, it is best practice to require human approval before an\\xa0AI agent\\xa0takes highly impactful actions. For instance, actions ranging from sending mass emails to financial trading should require human confirmation.7\\xa0Some level of human monitoring is recommended for such high-risk domains.\\n\\n\\n\\n\\n\\n\\n\\n\\n\\n\\n\\n\\n\\n            Ebook\\n        \\n\\n            How to choose the right foundation model\\n        \\nLearn how to choose the right approach in preparing datasets and employing foundation models.\\n\\nRead the ebook\\n\\n\\n\\n\\n\\n\\n\\n\\n\\n\\n\\n\\n\\n\\n\\n\\n\\n\\n            \\n\\n\\n  \\n  \\n      Related content'),\n",
       " Document(metadata={'source': 'https://www.ibm.com/think/topics/ai-agents', 'title': 'What Are AI Agents? | IBM', 'description': 'An artificial intelligence (AI) agent refers to a system or program that is capable of autonomously performing tasks on behalf of a user or another system.', 'language': 'en'}, page_content=\"Read the ebook\\n\\n\\n\\n\\n\\n\\n\\n\\n\\n\\n\\n\\n\\n\\n\\n\\n\\n\\n            \\n\\n\\n  \\n  \\n      Related content\\n\\n  \\n\\n\\n\\n\\n    \\n\\n\\n        \\n\\n\\n\\n            Read: DeepSeek’s reasoning AI shows power of small models, efficiently trained\\n            \\n        \\n\\n\\n\\n\\n\\n\\n\\n\\n\\n\\n\\n\\n\\n\\n\\n\\n\\n\\n\\n\\n\\n\\n\\n\\n\\n\\n\\n\\n\\n\\n\\n\\n\\n\\n\\n\\n\\n            \\n\\n\\n\\n  \\n    Resources\\n\\n\\n\\n\\n\\n\\n    \\n\\n\\n        \\n\\n\\n\\n\\n\\n\\n\\n\\n\\n\\n\\n\\n\\n\\n            Report\\n        \\n\\n            AI in Action 2024\\n        \\nWe surveyed 2,000 organizations about their AI initiatives to discover what's working, what's not and how you can get ahead.\\n\\nRead the report\\n\\n\\n\\n\\n\\n\\n\\n            AI models\\n        \\n\\n            Explore IBM Granite\\n        \\nIBM® Granite™ is our family of open, performant and trusted AI models, tailored for business and optimized to scale your AI applications. Explore language, code, time series and guardrail options.\\n\\nMeet Granite\\n\\n\\n\\n\\n\\n\\n\\n            Training\"),\n",
       " Document(metadata={'source': 'https://www.ibm.com/think/topics/ai-agents', 'title': 'What Are AI Agents? | IBM', 'description': 'An artificial intelligence (AI) agent refers to a system or program that is capable of autonomously performing tasks on behalf of a user or another system.', 'language': 'en'}, page_content='Meet Granite\\n\\n\\n\\n\\n\\n\\n\\n            Training\\n        \\n\\n            Level up your AI expertise\\n        \\nAccess our full catalog of over 100 online courses by purchasing an individual or multi-user subscription today, enabling you to expand your skills across a range of our products at one low price.\\n\\nStart learning\\n\\n\\n\\n\\n\\n\\n\\n            Video\\n        \\n\\n            IBM AI Academy\\n        \\nLed by top IBM thought leaders, the curriculum is designed to help business leaders gain the knowledge needed to prioritize the AI investments that can drive growth.\\n\\nExplore the series\\n\\n\\n\\n\\n\\n\\n\\n            Guide\\n        \\n\\n            Put AI to work: Driving ROI with gen AI\\n        \\nWant to get a better return on your AI investments? Learn how scaling gen AI in key areas drives change by helping your best minds build and deliver innovative new solutions.\\n\\nRead the guide\\n\\n\\n\\n\\n\\n\\n\\n            Ebook'),\n",
       " Document(metadata={'source': 'https://www.ibm.com/think/topics/ai-agents', 'title': 'What Are AI Agents? | IBM', 'description': 'An artificial intelligence (AI) agent refers to a system or program that is capable of autonomously performing tasks on behalf of a user or another system.', 'language': 'en'}, page_content=\"Read the guide\\n\\n\\n\\n\\n\\n\\n\\n            Ebook\\n        \\n\\n            Unlock the power of generative AI + ML\\n        \\nLearn how to confidently incorporate generative AI and machine learning into your business.\\n\\nRead the ebook\\n\\n\\n\\n\\n\\n\\n\\n            Guide\\n        \\n\\n            How to thrive in this new era of AI with trust and confidence\\n        \\nDive into the 3 critical elements of a strong AI strategy: creating a competitive edge, scaling AI across the business and advancing trustworthy AI.\\n\\nRead the guide\\n\\n\\n\\n\\n\\n\\n\\n\\n\\n\\n\\n\\n\\n\\n\\n\\n\\n\\n\\n\\n\\n\\n\\n\\n\\n\\n            \\n            \\n\\n     \\n    Related AI topics\\n\\n\\n\\n\\n    \\n\\n\\n        \\n\\n\\n\\n\\n\\n\\n\\n\\n\\n\\n\\n\\n\\n\\n\\n\\n\\n\\n\\n\\n\\n\\n\\n\\n\\n\\n\\n\\n\\n\\n\\n\\n\\n\\n\\n\\n\\n\\n\\n\\n\\n\\n\\n\\n\\n\\n\\n\\n\\n\\n\\n\\n\\n\\n\\n\\n\\n\\n        \\n\\n\\n\\n  \\n    Mixture of Experts podcast\\n\\n\\n\\n\\n\\n\\n\\n    \\n\\n\\n    \\n\\n\\n\\nLet’s bust some early myths about DeepSeek! In\\r\\nMixture of Experts' episode 40, the panel tackles DeepSeek R1 misconceptions, explains\\r\\nmodel distillation, and dissects the open-source competition landscape.\"),\n",
       " Document(metadata={'source': 'https://www.ibm.com/think/topics/ai-agents', 'title': 'What Are AI Agents? | IBM', 'description': 'An artificial intelligence (AI) agent refers to a system or program that is capable of autonomously performing tasks on behalf of a user or another system.', 'language': 'en'}, page_content=\"DeepSeek facts vs hype, model distillation, and open source competition\\n            \\n        \\n\\n\\n\\n\\n\\n\\n\\n\\n\\n\\n\\n\\n\\n\\n\\n\\n\\n\\n\\n\\n\\n\\n\\n\\n\\n\\n\\n\\n\\n\\n\\n\\n\\n\\n\\n\\n\\n\\n\\n\\n\\n\\n\\n\\n\\n\\n\\n\\n\\n\\n\\n\\n\\n\\n\\n\\n\\n\\n\\n        \\n\\n\\n\\n  \\n    Artificial intelligence solutions\\n\\n\\n\\n\\n\\n\\n    \\n\\n\\n    \\n\\n\\n\\nPut AI to work in your business with IBM's industry-leading AI expertise and portfolio of solutions at your side.\\n\\n\\n\\nExplore AI solutions\\n            \\n        \\n\\n\\n\\n\\n\\n\\n\\n\\n\\n\\n\\n\\n\\n\\n\\n\\n\\n\\n\\n\\n\\n\\n\\n\\n\\n\\n\\n\\n\\n\\n\\n\\n\\n\\n\\n\\n\\n\\n\\n\\n\\n\\n\\n\\n\\n\\n\\n\\n\\n\\n\\n\\n\\n\\n\\n\\n\\n\\n        \\n\\n\\n\\n  \\n    AI consulting and services\\n\\n\\n\\n\\n\\n\\n    \\n\\n\\n    \\n\\n\\n\\nReinvent critical workflows and operations by adding AI to maximize experiences, real-time decision-making and business value.\\n\\n\\n\\nExplore AI services\\n            \\n        \\n\\n\\n\\n\\n\\n\\n\\n\\n\\n\\n\\n\\n\\n\\n\\n\\n\\n\\n\\n\\nTake the next step\\n\\n\\n\\n\\nGet one-stop access to capabilities that span the AI development lifecycle. Produce powerful AI solutions with user-friendly interfaces, workflows and access to industry-standard APIs and SDKs.\\n\\n\\n\\n\\n\\nExplore watsonx.ai\\n\\n\\n\\nBook a live demo\"),\n",
       " Document(metadata={'source': 'https://www.ibm.com/think/topics/ai-agents', 'title': 'What Are AI Agents? | IBM', 'description': 'An artificial intelligence (AI) agent refers to a system or program that is capable of autonomously performing tasks on behalf of a user or another system.', 'language': 'en'}, page_content='Explore watsonx.ai\\n\\n\\n\\nBook a live demo\\n\\n\\n\\n\\n\\n\\n\\n\\n\\n\\n\\n\\n\\n\\n\\n\\n\\n\\n\\n\\n                            \\n\\n\\n\\n  \\n    Footnotes'),\n",
       " Document(metadata={'source': 'https://www.ibm.com/think/topics/ai-agents', 'title': 'What Are AI Agents? | IBM', 'description': 'An artificial intelligence (AI) agent refers to a system or program that is capable of autonomously performing tasks on behalf of a user or another system.', 'language': 'en'}, page_content='1\\xa0Andrew Zhao, Daniel Huang, Quentin Xu, Matthieu Lin, Yong-Jin Liu, and Gao Huang, \"Expel:\\xa0Llm\\xa0agents are experiential learners,\"\\xa0Proceedings of the AAAI Conference on\\xa0Artificial Intelligence, Vol. 38, No. 17, pp. 19632-19642, 2024,\\xa0https://ojs.aaai.org/index.php/AAAI/article/view/29936\\xa0(link resides outside of ibm.com).\\n2\\xa0Yonadov Shavit, Sandhini Agarwal, Miles Brundage, Steven Adler, Cullen O’Keefe, Rosie Campbell, Teddy Lee, Pamela Mishkin, Tyna Eloundou, Alan Hickey, Katarina Slama, Lama Ahmad, Paul McMillan, Alex Beutel, Alexandre Passos and David G. Robinson, “Practices for Governing Agentic\\xa0AI Systems,”\\xa0OpenAI, 2023,\\xa0https://arxiv.org/pdf/2401.13138v3\\xa0(link resides outside of ibm.com).\\n3\\xa0Tula Masterman, Sandi Besen, Mason Sawtell, Alex Chao, “The Landscape of Emerging\\xa0AI AgentArchitectures for Reasoning, Planning, and Tool Calling: A Survey,”\\xa0arXiv preprint, 2024,\\xa0https://arxiv.org/abs/2404.11584\\xa0(link resides outside of ibm.com).'),\n",
       " Document(metadata={'source': 'https://www.ibm.com/think/topics/ai-agents', 'title': 'What Are AI Agents? | IBM', 'description': 'An artificial intelligence (AI) agent refers to a system or program that is capable of autonomously performing tasks on behalf of a user or another system.', 'language': 'en'}, page_content='4\\xa0Gautier Dagan, Frank Keller, and Alex Lascarides, \"Dynamic Planning with a LLM,\" arXiv preprint,\\xa02023.\\xa0https://arxiv.org/abs/2308.06391\\xa0(link resides outside of ibm.com).\\n5\\xa0Binfeng Xu, Zhiyuan Peng, Bowen Lei, Subhabrata Mukherjee, Yuchen Liu, and Dongkuan Xu, \"ReWOO: Decoupling Reasoning from Observations for Efficient Augmented Language Models,\" arXiv preprint, 2023,\\xa0https://arxiv.org/abs/2305.18323\\xa0(link resides outside of ibm.com).\\n6\\xa0Sebastian Schmid, Daniel Schraudner, and Andreas Harth, \"Performance comparison of\\xa0simple reflex agents using stigmergy with model-based agents in self-organizing transportation.\"\\xa0IEEE International Conference on Autonomic Computing and Self-Organizing Systems Companion, pp. 93-98, 2021,\\xa0https://ieeexplore.ieee.org/document/9599196\\xa0(link resides outside of ibm.com).\\n7\\xa0Veselka Sasheva Petrova-Dimitrova, “Classifications of intelligence agents and their applications,”\\xa0Fundamental Sciences and Applications, Vol. 28, No. 1, 2022.'),\n",
       " Document(metadata={'source': 'https://www.ibm.com/think/topics/ai-agents', 'title': 'What Are AI Agents? | IBM', 'description': 'An artificial intelligence (AI) agent refers to a system or program that is capable of autonomously performing tasks on behalf of a user or another system.', 'language': 'en'}, page_content='7\\xa0Veselka Sasheva Petrova-Dimitrova, “Classifications of intelligence agents and their applications,”\\xa0Fundamental Sciences and Applications, Vol. 28, No. 1, 2022.\\n8\\xa0Lei Wang, Chen Ma, Xueyang Feng, Zeyu Zhang, Hao Yang, Jingsen Zhang, Zhiyuan Chen, Jiakai Tang, Xu Chen, Yankai Lin, Wayne Xin Zhao, Zhewei Wei, and Jirong Wen, “A survey on\\xa0large language model\\xa0based\\xa0autonomous agents,”\\xa0Frontiers of Computer Science, Vol. 18, No. 6, 2024,\\xa0https://link.springer.com/article/10.1007/s11704-024-40231-1\\xa0(link resides outside of ibm.com).\\n9\\xa0Jaya R. Haleema, Haleema, N. C. S. N. Narayana, “Enhancing a Traditional Health Care System of an Organization for Better Service with Agent Technology by Ensuring Confidentiality of Patients’ Medical Information,”\\xa0Cybernetics and Information Technologies, Vol. 12, No. 3, pp.140-156, 2013,\\xa0https://sciendo.com/article/10.2478/cait-2013-0031.'),\n",
       " Document(metadata={'source': 'https://www.ibm.com/think/topics/ai-agents', 'title': 'What Are AI Agents? | IBM', 'description': 'An artificial intelligence (AI) agent refers to a system or program that is capable of autonomously performing tasks on behalf of a user or another system.', 'language': 'en'}, page_content='10\\xa0Jingwei Huang, Wael Khallouli, Ghaith Rabadi, Mamadou Seck, “Intelligent Agent for Hurricane Emergency Identification and Text Information Extraction from Streaming Social Media Big Data,”\\xa0International Journal of Critical Infrastructures, Vol. 19, No. 2, pp. 124-139, 2023,\\xa0https://arxiv.org/abs/2106.07114.\\n11\\xa0Junyou Li, Qin Zhang, Yangbin Yu, Qiang Fu, and Deheng Ye. \"More agents is all you need.\"\\xa0arXiv preprint, 2024,\\xa0https://arxiv.org/abs/2402.05120.\\n12\\xa0Joon Sung Park, Joseph O\\'Brien, Carrie Jun Cai, Meredith Ringel Morris, Percy Liang, and Michael S. Bernstein, \"Generative\\xa0agents: Interactive simulacra of human behavior,\"\\xa0Proceedings of the 36th Annual ACM Symposium on User Interface software and Technology, pp. 1-22, 2023,\\xa0https://dl.acm.org/doi/10.1145/3586183.3606763.'),\n",
       " Document(metadata={'source': 'https://www.ibm.com/think/topics/ai-agents', 'title': 'What Are AI Agents? | IBM', 'description': 'An artificial intelligence (AI) agent refers to a system or program that is capable of autonomously performing tasks on behalf of a user or another system.', 'language': 'en'}, page_content='13\\xa0Alan Chan, Carson Ezell, Max Kaufmann, Kevin Wei, Lewis Hammond, Herbie Bradley, Emma Bluemke, Nitarshan Rajkumar, David Krueger, Noam Kolt, Lennart Heim and Markus Anderljung, “Visibility into\\xa0AI Agents,”\\xa0The 2024 ACM Conference on Fairness, Accountability, and Transparency, pp. 958-973, 2024,\\xa0https://arxiv.org/abs/2401.13138.\\n14\\xa0Devjeet Roy, Xuchao Zhang, Rashi Bhave, Chetan Bansal, Pedro Las-Casas, Rodrigo Fonseca, and Saravan Rajmohan, \"Exploring LLM-based Agents for Root Cause Analysis,\" arXiv preprint, 2024, https://arxiv.org/abs/2403.04123.')]"
      ]
     },
     "execution_count": 15,
     "metadata": {},
     "output_type": "execute_result"
    }
   ],
   "source": [
    "documents"
   ]
  },
  {
   "cell_type": "code",
   "execution_count": 16,
   "metadata": {},
   "outputs": [],
   "source": [
    "embedding = OllamaEmbeddings(model='mxbai-embed-large:335m')"
   ]
  },
  {
   "cell_type": "code",
   "execution_count": 17,
   "metadata": {},
   "outputs": [],
   "source": [
    "vectordb = Chroma.from_documents(documents=documents, embedding=embedding)"
   ]
  },
  {
   "cell_type": "code",
   "execution_count": 18,
   "metadata": {},
   "outputs": [
    {
     "data": {
      "text/plain": [
       "[Document(metadata={'description': 'LangSmith is a platform for building production-grade LLM applications.', 'language': 'en', 'source': 'https://docs.smith.langchain.com/', 'title': 'Get started with LangSmith | \\uf8ffü¶úÔ∏è\\uf8ffüõ†Ô∏è LangSmith'}, page_content='Get started with LangSmith | \\uf8ffü¶úÔ∏è\\uf8ffüõ†Ô∏è LangSmith'),\n",
       " Document(metadata={'description': 'LangSmith is a platform for building production-grade LLM applications.', 'language': 'en', 'source': 'https://docs.smith.langchain.com/', 'title': 'Get started with LangSmith | \\uf8ffü¶úÔ∏è\\uf8ffüõ†Ô∏è LangSmith'}, page_content=\"LangSmith + LangChain OSSLangSmith integrates seamlessly with LangChain's open source frameworks langchain and langgraph, with no extra instrumentation needed.If you're already using either of these, see the how-to guide for setting up LangSmith with LangChain or setting up LangSmith with LangGraph.\\nObservability‚Äã\\nObservability is important for any software application, but especially so for LLM applications. LLMs are non-deterministic by nature, meaning they can produce unexpected results. This makes them trickier than normal to debug.\\nThis is where LangSmith can help! LangSmith has LLM-native observability, allowing you to get meaningful insights from your application. LangSmith‚Äôs observability features have you covered throughout all stages of application development - from prototyping, to beta testing, to production.\"),\n",
       " Document(metadata={'description': 'LangSmith is a platform for building production-grade LLM applications.', 'language': 'en', 'source': 'https://docs.smith.langchain.com/', 'title': 'Get started with LangSmith | \\uf8ffü¶úÔ∏è\\uf8ffüõ†Ô∏è LangSmith'}, page_content='Skip to main contentJoin us at  Interrupt: The Agent AI Conference by LangChain on May 13 & 14 in San Francisco!API ReferenceRESTPythonJS/TSSearchRegionUSEUGo to AppGet StartedObservabilityEvaluationPrompt EngineeringDeployment (LangGraph Platform)AdministrationSelf-hostingPricingReferenceCloud architecture and scalabilityAuthz and AuthnAuthentication methodsdata_formatsEvaluationDataset transformationsRegions FAQsdk_referenceGet StartedOn this pageGet started with LangSmith\\nLangSmith is a platform for building production-grade LLM applications.\\nIt allows you to closely monitor and evaluate your application, so you can ship quickly and with confidence.\\nObservabilityAnalyze traces in LangSmith and configure metrics, dashboards, alerts based on these.EvalsEvaluate your application over production traffic ‚Äî score application performance and get human feedback on your data.Prompt EngineeringIterate on prompts, with automatic version control and collaboration features.'),\n",
       " Document(metadata={'description': 'LangChain is a framework for developing applications powered by large language models (LLMs).', 'language': 'en', 'source': 'https://python.langchain.com/docs/introduction/', 'title': 'Introduction | \\uf8ffü¶úÔ∏è\\uf8ffüîó LangChain'}, page_content=\"Development: Build your applications using LangChain's open-source components and third-party integrations.\\nUse LangGraph to build stateful agents with first-class streaming and human-in-the-loop support.\\nProductionization: Use LangSmith to inspect, monitor and evaluate your applications, so that you can continuously optimize and deploy with confidence.\\nDeployment: Turn your LangGraph applications into production-ready APIs and Assistants with LangGraph Platform.\\n\\n\\n\\nLangChain implements a standard interface for large language models and related\\ntechnologies, such as embedding models and vector stores, and integrates with\\nhundreds of providers. See the integrations page for\\nmore.\")]"
      ]
     },
     "execution_count": 18,
     "metadata": {},
     "output_type": "execute_result"
    }
   ],
   "source": [
    "vectordb.similarity_search('what is langsmith')"
   ]
  },
  {
   "cell_type": "code",
   "execution_count": 24,
   "metadata": {},
   "outputs": [],
   "source": [
    "template = \"\"\"Answer the question based only on the following context:\n",
    "\n",
    "{context}\n",
    "\n",
    "Question: {input}\n",
    "\"\"\"\n",
    "\n",
    "prompt = ChatPromptTemplate.from_messages(\n",
    "    [\n",
    "        ('system', 'You are an helpful assistant'),\n",
    "        ('user', template)\n",
    "    ]\n",
    ")"
   ]
  },
  {
   "cell_type": "code",
   "execution_count": 29,
   "metadata": {},
   "outputs": [],
   "source": [
    "relevant_docs = retriever.invoke('what is agent')"
   ]
  },
  {
   "cell_type": "code",
   "execution_count": 30,
   "metadata": {},
   "outputs": [
    {
     "data": {
      "text/plain": [
       "ChatPromptValue(messages=[SystemMessage(content='You are an helpful assistant', additional_kwargs={}, response_metadata={}), HumanMessage(content=\"Answer the question based only on the following context:\\n\\n[Document(metadata={'description': 'An artificial intelligence (AI) agent refers to a system or program that is capable of autonomously performing tasks on behalf of a user or another system.', 'language': 'en', 'source': 'https://www.ibm.com/think/topics/ai-agents', 'title': 'What Are AI Agents? | IBM'}, page_content='What Are AI Agents? | IBM\\\\n\\\\n\\\\n\\\\n\\\\n\\\\n\\\\n\\\\n\\\\n\\\\n\\\\n\\\\n\\\\n\\\\n\\\\n\\\\n\\\\n\\\\n\\\\n\\\\n\\\\n\\\\n\\\\n\\\\n\\\\n\\\\n\\\\n\\\\n\\\\n\\\\n\\\\n\\\\n\\\\n\\\\n\\\\n\\\\n\\\\n\\\\n\\\\n\\\\n\\\\n\\\\n\\\\n\\\\n\\\\n\\\\n\\\\n\\\\n\\\\n\\\\n\\\\n\\\\n\\\\n\\\\n\\\\n\\\\n\\\\n\\\\n\\\\n\\\\n\\\\n\\\\n\\\\n\\\\n\\\\n\\\\n\\\\n\\\\n\\\\n\\\\n\\\\n\\\\n\\\\n\\\\n\\\\n\\\\n\\\\n\\\\n                        \\\\n\\\\n\\\\n\\\\n  \\\\n    What are AI agents?\\\\n\\\\n\\\\n\\\\n\\\\n\\\\n\\\\n    \\\\n\\\\n\\\\n                    \\\\n\\\\n\\\\n\\\\n\\\\n\\\\n\\\\n\\\\n\\\\n\\\\n\\\\n\\\\n\\\\n\\\\n\\\\n\\\\n\\\\n\\\\n\\\\n\\\\n\\\\n\\\\n\\\\n\\\\n\\\\n\\\\n\\\\n                                    Artificial Intelligence\\\\n                                \\\\n\\\\n\\\\n\\\\n\\\\n\\\\n\\\\n                    \\\\n\\\\n\\\\n\\\\n  \\\\n    3 July 2024\\\\n\\\\n\\\\n\\\\n\\\\n\\\\n\\\\n    \\\\n\\\\n\\\\n                \\\\n\\\\n\\\\n\\\\n\\\\n\\\\n\\\\n\\\\n\\\\n\\\\n\\\\n\\\\n\\\\n                Link copied\\\\n            \\\\n\\\\n\\\\n\\\\n\\\\n\\\\n\\\\n\\\\n\\\\n\\\\n\\\\n\\\\n\\\\n\\\\n\\\\n\\\\n\\\\n\\\\n\\\\n\\\\n\\\\n\\\\n\\\\n\\\\n\\\\n\\\\n\\\\n\\\\n\\\\n\\\\n\\\\n\\\\n\\\\n\\\\n\\\\n\\\\n\\\\n\\\\n\\\\n\\\\n\\\\n\\\\n        \\\\n\\\\n\\\\n\\\\n  \\\\n    Authors\\\\n\\\\n\\\\n\\\\n\\\\n\\\\n\\\\n    \\\\n\\\\n\\\\n    \\\\n\\\\n\\\\n\\\\n\\\\n\\\\n\\\\n\\\\n\\\\n\\\\n\\\\n\\\\n\\\\n\\\\nAnna Gutowska\\\\nData Scientist, Developer Advocacy, IBM\\\\n\\\\n\\\\n\\\\n\\\\n\\\\n\\\\n\\\\r\\\\n        What are AI agents?\\\\r\\\\n    \\\\n\\\\n\\\\n\\\\nAn\\\\xa0artificial intelligence (AI)\\\\xa0agent refers to a system or program that is capable of autonomously performing tasks on behalf of a user or another system by designing its workflow and utilizing available tools.'), Document(metadata={'description': 'An artificial intelligence (AI) agent refers to a system or program that is capable of autonomously performing tasks on behalf of a user or another system.', 'language': 'en', 'source': 'https://www.ibm.com/think/topics/ai-agents', 'title': 'What Are AI Agents? | IBM'}, page_content='AI agents can encompass a wide range of functionalities beyond natural language processing including decision-making, problem-solving, interacting with external environments and executing actions.\\\\nThese agents can be deployed in various applications to solve complex tasks in various enterprise contexts from software design and IT automation to code-generation tools and conversational assistants. They use the advanced natural language processing techniques of large language models (LLMs) to comprehend and respond to user inputs step-by-step and determine when to call on external tools.\\\\n\\\\n\\\\n\\\\n\\\\n\\\\n\\\\n\\\\n\\\\n\\\\n\\\\n\\\\n\\\\n\\\\r\\\\n        How AI agents work'), Document(metadata={'description': 'An artificial intelligence (AI) agent refers to a system or program that is capable of autonomously performing tasks on behalf of a user or another system.', 'language': 'en', 'source': 'https://www.ibm.com/think/topics/ai-agents', 'title': 'What Are AI Agents? | IBM'}, page_content='Quality of responses\\\\n\\\\n\\\\nAI agents\\\\xa0provide responses that are more comprehensive, accurate and personalized to the user than traditional\\\\xa0AI models. This is extremely important to us as users since higher-quality responses typically yield a better customer experience. As previously described, this is made possible through exchanging information with other agents, using external tools and updating their memory stream. These behaviors emerge on their own and are not preprogrammed.12\\\\n\\\\n\\\\n\\\\r\\\\n        Risks and limitations\\\\r\\\\n    \\\\n\\\\n\\\\n\\\\nMulti-agent dependencies'), Document(metadata={'description': 'An artificial intelligence (AI) agent refers to a system or program that is capable of autonomously performing tasks on behalf of a user or another system.', 'language': 'en', 'source': 'https://www.ibm.com/think/topics/ai-agents', 'title': 'What Are AI Agents? | IBM'}, page_content='Learning agents hold the same capabilities as the other agent types but are unique in their ability to learn. New experiences are added to their initial\\\\xa0knowledge base, which occurs autonomously. This learning enhances the agent’s ability to operate in unfamiliar environments.\\\\xa0Learning agents\\\\xa0may be utility or goal-based in their reasoning and are comprised of four main elements:7\\\\nLearning:\\\\xa0This\\\\xa0improves the agent’s knowledge by learning from the environment through its\\\\xa0precepts\\\\xa0and sensors.Critic:\\\\xa0This\\\\xa0provides feedback to the agent on whether the quality of its responses meets the performance standard.Performance:\\\\xa0This element is responsible for selecting actions upon learning.Problem\\\\xa0generator:\\\\xa0This\\\\xa0creates various proposals for actions to be taken.')]\\n\\nQuestion: what is ai\\n\", additional_kwargs={}, response_metadata={})])"
      ]
     },
     "execution_count": 30,
     "metadata": {},
     "output_type": "execute_result"
    }
   ],
   "source": [
    "prompt.invoke({'input' : 'what is ai', 'context' : relevant_docs})"
   ]
  },
  {
   "cell_type": "code",
   "execution_count": 19,
   "metadata": {},
   "outputs": [],
   "source": [
    "retriever = vectordb.as_retriever()"
   ]
  },
  {
   "cell_type": "code",
   "execution_count": 20,
   "metadata": {},
   "outputs": [],
   "source": [
    "llm = ChatOllama(model='llama3.2:3b')"
   ]
  },
  {
   "cell_type": "code",
   "execution_count": 20,
   "metadata": {},
   "outputs": [],
   "source": [
    "document_chain = create_stuff_documents_chain(llm, prompt)"
   ]
  },
  {
   "cell_type": "code",
   "execution_count": 21,
   "metadata": {},
   "outputs": [],
   "source": [
    "retrieval_chain = create_retrieval_chain(retriever, document_chain)"
   ]
  },
  {
   "cell_type": "code",
   "execution_count": 23,
   "metadata": {},
   "outputs": [
    {
     "data": {
      "text/plain": [
       "{'input': 'what is ai agents',\n",
       " 'context': [Document(metadata={'description': 'An artificial intelligence (AI) agent refers to a system or program that is capable of autonomously performing tasks on behalf of a user or another system.', 'language': 'en', 'source': 'https://www.ibm.com/think/topics/ai-agents', 'title': 'What Are AI Agents? | IBM'}, page_content='What Are AI Agents? | IBM\\n\\n\\n\\n\\n\\n\\n\\n\\n\\n\\n\\n\\n\\n\\n\\n\\n\\n\\n\\n\\n\\n\\n\\n\\n\\n\\n\\n\\n\\n\\n\\n\\n\\n\\n\\n\\n\\n\\n\\n\\n\\n\\n\\n\\n\\n\\n\\n\\n\\n\\n\\n\\n\\n\\n\\n\\n\\n\\n\\n\\n\\n\\n\\n\\n\\n\\n\\n\\n\\n\\n\\n\\n\\n\\n\\n\\n\\n                        \\n\\n\\n\\n  \\n    What are AI agents?\\n\\n\\n\\n\\n\\n\\n    \\n\\n\\n                    \\n\\n\\n\\n\\n\\n\\n\\n\\n\\n\\n\\n\\n\\n\\n\\n\\n\\n\\n\\n\\n\\n\\n\\n\\n\\n\\n                                    Artificial Intelligence\\n                                \\n\\n\\n\\n\\n\\n\\n                    \\n\\n\\n\\n  \\n    3 July 2024\\n\\n\\n\\n\\n\\n\\n    \\n\\n\\n                \\n\\n\\n\\n\\n\\n\\n\\n\\n\\n\\n\\n\\n                Link copied\\n            \\n\\n\\n\\n\\n\\n\\n\\n\\n\\n\\n\\n\\n\\n\\n\\n\\n\\n\\n\\n\\n\\n\\n\\n\\n\\n\\n\\n\\n\\n\\n\\n\\n\\n\\n\\n\\n\\n\\n\\n\\n\\n        \\n\\n\\n\\n  \\n    Authors\\n\\n\\n\\n\\n\\n\\n    \\n\\n\\n    \\n\\n\\n\\n\\n\\n\\n\\n\\n\\n\\n\\n\\n\\nAnna Gutowska\\nData Scientist, Developer Advocacy, IBM\\n\\n\\n\\n\\n\\n\\n\\r\\n        What are AI agents?\\r\\n    \\n\\n\\n\\nAn\\xa0artificial intelligence (AI)\\xa0agent refers to a system or program that is capable of autonomously performing tasks on behalf of a user or another system by designing its workflow and utilizing available tools.'),\n",
       "  Document(metadata={'description': 'An artificial intelligence (AI) agent refers to a system or program that is capable of autonomously performing tasks on behalf of a user or another system.', 'language': 'en', 'source': 'https://www.ibm.com/think/topics/ai-agents', 'title': 'What Are AI Agents? | IBM'}, page_content='AI agents can encompass a wide range of functionalities beyond natural language processing including decision-making, problem-solving, interacting with external environments and executing actions.\\nThese agents can be deployed in various applications to solve complex tasks in various enterprise contexts from software design and IT automation to code-generation tools and conversational assistants. They use the advanced natural language processing techniques of large language models (LLMs) to comprehend and respond to user inputs step-by-step and determine when to call on external tools.\\n\\n\\n\\n\\n\\n\\n\\n\\n\\n\\n\\n\\n\\r\\n        How AI agents work'),\n",
       "  Document(metadata={'description': 'An artificial intelligence (AI) agent refers to a system or program that is capable of autonomously performing tasks on behalf of a user or another system.', 'language': 'en', 'source': 'https://www.ibm.com/think/topics/ai-agents', 'title': 'What Are AI Agents? | IBM'}, page_content=\"How AI agents work\\r\\n    \\n\\n\\n\\nAt the core of AI agents are\\xa0large language models\\xa0(LLMs). For this reason, AI agents are often referred to as LLM agents.\\xa0Traditional\\xa0LLMs, such as\\xa0IBM®\\xa0Granite™ models,\\xa0produce their responses based on the data used to train them and are bounded by knowledge and reasoning limitations. In contrast, agentic technology uses tool calling on the backend to obtain up-to-date information, optimize workflow and create subtasks autonomously to achieve complex goals.\\nIn this process, the autonomous agent learns to adapt to user expectations over time. The agent's ability to store past interactions in memory and plan future actions encourages a personalized experience and comprehensive responses.1\\xa0This tool calling can be achieved without human intervention and broadens the possibilities for real-world applications of these AI systems.\\xa0The approach that\\xa0AI agents\\xa0take in achieving goals set by users is comprised of these three stages:\"),\n",
       "  Document(metadata={'description': 'An artificial intelligence (AI) agent refers to a system or program that is capable of autonomously performing tasks on behalf of a user or another system.', 'language': 'en', 'source': 'https://www.ibm.com/think/topics/ai-agents', 'title': 'What Are AI Agents? | IBM'}, page_content='Emergency response\\n\\n\\n\\n\\n\\n\\n    \\n\\n\\n    \\n\\n\\nIn case of natural disasters,\\xa0AI agents\\xa0can use\\xa0deep learning\\xa0algorithms\\xa0to retrieve the information of users on social media sites that need rescue. The locations of these users can be mapped to assist rescue services in saving more people in less time. Therefore,\\xa0AI agents\\xa0can greatly benefit human life in both mundane tasks and life-saving situations.10\\n\\n\\n\\n\\n\\n\\r\\n        Benefits of AI agents\\r\\n    \\n\\n\\n\\nTask automation\\n\\n\\nWith the ongoing\\xa0advancements\\xa0in\\xa0generative AI, there is a growing interest in workflow\\xa0optimization using AI, or intelligent automation.\\xa0AI agents\\xa0are\\xa0AI tools\\xa0that can\\xa0automate\\xa0complex tasks\\xa0that would otherwise require human resources. This translates to goals being reached inexpensively, rapidly and at scale. In turn, these\\xa0advancements\\xa0mean\\xa0human agents\\xa0do not need to provide direction to the\\xa0AI assistant\\xa0for creating and navigating its tasks.')],\n",
       " 'answer': 'According to the context, AI agents are systems or programs that can autonomously perform tasks on behalf of a user or another system by designing their workflow and utilizing available tools. They use large language models (LLMs) to comprehend and respond to user inputs step-by-step and determine when to call on external tools.'}"
      ]
     },
     "execution_count": 23,
     "metadata": {},
     "output_type": "execute_result"
    }
   ],
   "source": [
    "retrieval_chain.invoke({'input' : 'what is ai agents'})"
   ]
  },
  {
   "cell_type": "markdown",
   "metadata": {},
   "source": [
    "### Adding Chat History"
   ]
  },
  {
   "cell_type": "code",
   "execution_count": 60,
   "metadata": {},
   "outputs": [],
   "source": [
    "from langchain.memory import ConversationBufferMemory\n",
    "from langchain.prompts import ChatPromptTemplate, MessagesPlaceholder\n",
    "from langchain.chains import LLMChain, RetrievalQA\n",
    "from langchain.embeddings import OpenAIEmbeddings"
   ]
  },
  {
   "cell_type": "code",
   "execution_count": 61,
   "metadata": {},
   "outputs": [],
   "source": [
    "memory = ConversationBufferMemory()"
   ]
  },
  {
   "cell_type": "code",
   "execution_count": 62,
   "metadata": {},
   "outputs": [],
   "source": [
    "prompt = ChatPromptTemplate.from_messages([\n",
    "    MessagesPlaceholder(variable_name=\"chat_history\"),  # 👈 Keeps past conversations\n",
    "    (\"human\", \"{question}\"),  # 👈 Takes new user input\n",
    "])"
   ]
  },
  {
   "cell_type": "code",
   "execution_count": 63,
   "metadata": {},
   "outputs": [],
   "source": [
    "rag_chain = RetrievalQA.from_chain_type(\n",
    "    llm=llm,\n",
    "    chain_type=\"stuff\",  # Uses simple document stuffing method\n",
    "    retriever=retriever,\n",
    "    memory=memory\n",
    ")"
   ]
  },
  {
   "cell_type": "code",
   "execution_count": 64,
   "metadata": {},
   "outputs": [
    {
     "name": "stderr",
     "output_type": "stream",
     "text": [
      "C:\\Users\\TALHA PC\\AppData\\Local\\Temp\\ipykernel_11780\\3011989571.py:3: LangChainDeprecationWarning: The method `Chain.run` was deprecated in langchain 0.1.0 and will be removed in 1.0. Use :meth:`~invoke` instead.\n",
      "  response = rag_chain.run(user_input)\n"
     ]
    },
    {
     "name": "stdout",
     "output_type": "stream",
     "text": [
      "LangChain is a framework for developing applications powered by large language models (LLMs). It simplifies every stage of the LLM application lifecycle, making it easier to build and deploy complex applications using these powerful AI tools.\n",
      "\n",
      "LangChain aims to provide a comprehensive platform for developers to create, train, and run large language model-based applications. By providing a range of resources, guides, and pre-built components, LangChain makes it easier for users to get started with building their own LLM-powered applications.\n",
      "\n",
      "Some key aspects of LangChain include:\n",
      "\n",
      "*   A set of pre-built components that can be easily integrated into applications\n",
      "*   A framework for building cognitive architectures using chains, agents, and retrieval strategies\n",
      "*   Integration packages for popular LLMs like OpenAI and Anthropic\n",
      "*   Documentation and tutorials to help users get started\n",
      "\n",
      "Overall, LangChain is designed to make it easier for developers to build and deploy complex language model-based applications.\n"
     ]
    }
   ],
   "source": [
    "# First question\n",
    "user_input = \"Tell me about LangChain.\"\n",
    "response = rag_chain.run(user_input)\n",
    "print(response)  # ✅ AI fetches info & answers"
   ]
  },
  {
   "cell_type": "code",
   "execution_count": 65,
   "metadata": {},
   "outputs": [
    {
     "name": "stdout",
     "output_type": "stream",
     "text": [
      "AI agents have a wide range of applications across various industries. Here are some common use cases:\n",
      "\n",
      "1. **Virtual Assistants**: AI agents can be integrated into websites and apps to serve as virtual assistants, providing customer support, answering frequently asked questions, and helping users with tasks.\n",
      "2. **Conversational Interfaces**: AI agents can power conversational interfaces for chatbots, voice assistants, and other human-computer interactions, enabling businesses to provide 24/7 support and engage with customers more effectively.\n",
      "3. **Customer Experience**: AI agents can be used to personalize customer experiences, offer product recommendations, and provide personalized content based on user behavior and preferences.\n",
      "4. **Healthcare**: AI agents can assist in medical diagnosis, treatment planning, and patient care, freeing up healthcare professionals to focus on high-value tasks.\n",
      "5. **Automation and Process Optimization**: AI agents can automate repetitive tasks, optimize business processes, and improve supply chain management by making predictions and recommendations based on data analytics.\n",
      "6. **Code Generation and Writing Assistance**: AI agents can generate code, assist with writing tasks, and provide suggestions for improvement, helping developers to work more efficiently.\n",
      "7. **Content Creation and Editing**: AI agents can assist with content creation, editing, and proofreading, enabling writers and editors to focus on high-level creative tasks.\n",
      "8. **Marketing and Advertising**: AI agents can help with lead generation, campaign optimization, and personalized advertising, allowing businesses to reach their target audience more effectively.\n",
      "9. **Security and Threat Detection**: AI agents can detect anomalies and threats in real-time, providing early warning systems for security breaches and data protection.\n",
      "10. **Education and Learning**: AI agents can create personalized learning plans, provide adaptive feedback, and assist teachers with grading and student assessment.\n",
      "\n",
      "These are just a few examples of the many use cases for AI agents. As the technology continues to evolve, we can expect to see even more innovative applications across various industries.\n"
     ]
    }
   ],
   "source": [
    "# Follow-up question (AI should remember context)\n",
    "user_input2 = \"Can you explain its use cases?\"\n",
    "response2 = rag_chain.run(user_input2)\n",
    "print(response2)"
   ]
  },
  {
   "cell_type": "markdown",
   "metadata": {},
   "source": [
    "### Using another technique"
   ]
  },
  {
   "cell_type": "code",
   "execution_count": 45,
   "metadata": {},
   "outputs": [],
   "source": [
    "from langchain.chains import create_history_aware_retriever\n",
    "from langchain_core.prompts import MessagesPlaceholder\n",
    "from langchain.prompts.chat import ChatPromptTemplate"
   ]
  },
  {
   "cell_type": "code",
   "execution_count": 38,
   "metadata": {},
   "outputs": [],
   "source": [
    "system_prompt = (\n",
    "    \"Give a chat history and the latest user question\"\n",
    "    \"which might reference context in the chat history,\"\n",
    "    \"formulate a stadalone question which can be understood\"\n",
    "    \"without the chat history. Do Not answer the question\"\n",
    "    'just reformulate it if needed and otherwise return it as is.'\n",
    ")"
   ]
  },
  {
   "cell_type": "code",
   "execution_count": 39,
   "metadata": {},
   "outputs": [],
   "source": [
    "contextualize_q_prompt = ChatPromptTemplate.from_messages(\n",
    "    [\n",
    "        ('system', system_prompt),\n",
    "        MessagesPlaceholder('chat_history'),\n",
    "        ('human', '{input}')\n",
    "    ]\n",
    ")"
   ]
  },
  {
   "cell_type": "code",
   "execution_count": 40,
   "metadata": {},
   "outputs": [],
   "source": [
    "memory = []"
   ]
  },
  {
   "cell_type": "code",
   "execution_count": 41,
   "metadata": {},
   "outputs": [],
   "source": [
    "history_aware_retriever = create_history_aware_retriever(llm, retriever, contextualize_q_prompt)"
   ]
  },
  {
   "cell_type": "code",
   "execution_count": 42,
   "metadata": {},
   "outputs": [
    {
     "data": {
      "text/plain": [
       "[Document(metadata={'description': 'An artificial intelligence (AI) agent refers to a system or program that is capable of autonomously performing tasks on behalf of a user or another system.', 'language': 'en', 'source': 'https://www.ibm.com/think/topics/ai-agents', 'title': 'What Are AI Agents? | IBM'}, page_content='What Are AI Agents? | IBM\\n\\n\\n\\n\\n\\n\\n\\n\\n\\n\\n\\n\\n\\n\\n\\n\\n\\n\\n\\n\\n\\n\\n\\n\\n\\n\\n\\n\\n\\n\\n\\n\\n\\n\\n\\n\\n\\n\\n\\n\\n\\n\\n\\n\\n\\n\\n\\n\\n\\n\\n\\n\\n\\n\\n\\n\\n\\n\\n\\n\\n\\n\\n\\n\\n\\n\\n\\n\\n\\n\\n\\n\\n\\n\\n\\n\\n\\n                        \\n\\n\\n\\n  \\n    What are AI agents?\\n\\n\\n\\n\\n\\n\\n    \\n\\n\\n                    \\n\\n\\n\\n\\n\\n\\n\\n\\n\\n\\n\\n\\n\\n\\n\\n\\n\\n\\n\\n\\n\\n\\n\\n\\n\\n\\n                                    Artificial Intelligence\\n                                \\n\\n\\n\\n\\n\\n\\n                    \\n\\n\\n\\n  \\n    3 July 2024\\n\\n\\n\\n\\n\\n\\n    \\n\\n\\n                \\n\\n\\n\\n\\n\\n\\n\\n\\n\\n\\n\\n\\n                Link copied\\n            \\n\\n\\n\\n\\n\\n\\n\\n\\n\\n\\n\\n\\n\\n\\n\\n\\n\\n\\n\\n\\n\\n\\n\\n\\n\\n\\n\\n\\n\\n\\n\\n\\n\\n\\n\\n\\n\\n\\n\\n\\n\\n        \\n\\n\\n\\n  \\n    Authors\\n\\n\\n\\n\\n\\n\\n    \\n\\n\\n    \\n\\n\\n\\n\\n\\n\\n\\n\\n\\n\\n\\n\\n\\nAnna Gutowska\\nData Scientist, Developer Advocacy, IBM\\n\\n\\n\\n\\n\\n\\n\\r\\n        What are AI agents?\\r\\n    \\n\\n\\n\\nAn\\xa0artificial intelligence (AI)\\xa0agent refers to a system or program that is capable of autonomously performing tasks on behalf of a user or another system by designing its workflow and utilizing available tools.'),\n",
       " Document(metadata={'description': 'An artificial intelligence (AI) agent refers to a system or program that is capable of autonomously performing tasks on behalf of a user or another system.', 'language': 'en', 'source': 'https://www.ibm.com/think/topics/ai-agents', 'title': 'What Are AI Agents? | IBM'}, page_content='AI agents can encompass a wide range of functionalities beyond natural language processing including decision-making, problem-solving, interacting with external environments and executing actions.\\nThese agents can be deployed in various applications to solve complex tasks in various enterprise contexts from software design and IT automation to code-generation tools and conversational assistants. They use the advanced natural language processing techniques of large language models (LLMs) to comprehend and respond to user inputs step-by-step and determine when to call on external tools.\\n\\n\\n\\n\\n\\n\\n\\n\\n\\n\\n\\n\\n\\r\\n        How AI agents work'),\n",
       " Document(metadata={'description': 'An artificial intelligence (AI) agent refers to a system or program that is capable of autonomously performing tasks on behalf of a user or another system.', 'language': 'en', 'source': 'https://www.ibm.com/think/topics/ai-agents', 'title': 'What Are AI Agents? | IBM'}, page_content=\"How AI agents work\\r\\n    \\n\\n\\n\\nAt the core of AI agents are\\xa0large language models\\xa0(LLMs). For this reason, AI agents are often referred to as LLM agents.\\xa0Traditional\\xa0LLMs, such as\\xa0IBM®\\xa0Granite™ models,\\xa0produce their responses based on the data used to train them and are bounded by knowledge and reasoning limitations. In contrast, agentic technology uses tool calling on the backend to obtain up-to-date information, optimize workflow and create subtasks autonomously to achieve complex goals.\\nIn this process, the autonomous agent learns to adapt to user expectations over time. The agent's ability to store past interactions in memory and plan future actions encourages a personalized experience and comprehensive responses.1\\xa0This tool calling can be achieved without human intervention and broadens the possibilities for real-world applications of these AI systems.\\xa0The approach that\\xa0AI agents\\xa0take in achieving goals set by users is comprised of these three stages:\"),\n",
       " Document(metadata={'description': 'An artificial intelligence (AI) agent refers to a system or program that is capable of autonomously performing tasks on behalf of a user or another system.', 'language': 'en', 'source': 'https://www.ibm.com/think/topics/ai-agents', 'title': 'What Are AI Agents? | IBM'}, page_content='Emergency response\\n\\n\\n\\n\\n\\n\\n    \\n\\n\\n    \\n\\n\\nIn case of natural disasters,\\xa0AI agents\\xa0can use\\xa0deep learning\\xa0algorithms\\xa0to retrieve the information of users on social media sites that need rescue. The locations of these users can be mapped to assist rescue services in saving more people in less time. Therefore,\\xa0AI agents\\xa0can greatly benefit human life in both mundane tasks and life-saving situations.10\\n\\n\\n\\n\\n\\n\\r\\n        Benefits of AI agents\\r\\n    \\n\\n\\n\\nTask automation\\n\\n\\nWith the ongoing\\xa0advancements\\xa0in\\xa0generative AI, there is a growing interest in workflow\\xa0optimization using AI, or intelligent automation.\\xa0AI agents\\xa0are\\xa0AI tools\\xa0that can\\xa0automate\\xa0complex tasks\\xa0that would otherwise require human resources. This translates to goals being reached inexpensively, rapidly and at scale. In turn, these\\xa0advancements\\xa0mean\\xa0human agents\\xa0do not need to provide direction to the\\xa0AI assistant\\xa0for creating and navigating its tasks.')]"
      ]
     },
     "execution_count": 42,
     "metadata": {},
     "output_type": "execute_result"
    }
   ],
   "source": [
    "history_aware_retriever.invoke({'input' : 'what is ai agents', 'chat_history' : memory})"
   ]
  },
  {
   "cell_type": "code",
   "execution_count": 43,
   "metadata": {},
   "outputs": [
    {
     "data": {
      "text/plain": [
       "RunnableBinding(bound=RunnableBranch(branches=[(RunnableLambda(lambda x: not x.get('chat_history', False)), RunnableLambda(lambda x: x['input'])\n",
       "| VectorStoreRetriever(tags=['Chroma', 'OllamaEmbeddings'], vectorstore=<langchain_chroma.vectorstores.Chroma object at 0x0000021D4095EF30>, search_kwargs={}))], default=ChatPromptTemplate(input_variables=['chat_history', 'input'], input_types={'chat_history': list[typing.Annotated[typing.Union[typing.Annotated[langchain_core.messages.ai.AIMessage, Tag(tag='ai')], typing.Annotated[langchain_core.messages.human.HumanMessage, Tag(tag='human')], typing.Annotated[langchain_core.messages.chat.ChatMessage, Tag(tag='chat')], typing.Annotated[langchain_core.messages.system.SystemMessage, Tag(tag='system')], typing.Annotated[langchain_core.messages.function.FunctionMessage, Tag(tag='function')], typing.Annotated[langchain_core.messages.tool.ToolMessage, Tag(tag='tool')], typing.Annotated[langchain_core.messages.ai.AIMessageChunk, Tag(tag='AIMessageChunk')], typing.Annotated[langchain_core.messages.human.HumanMessageChunk, Tag(tag='HumanMessageChunk')], typing.Annotated[langchain_core.messages.chat.ChatMessageChunk, Tag(tag='ChatMessageChunk')], typing.Annotated[langchain_core.messages.system.SystemMessageChunk, Tag(tag='SystemMessageChunk')], typing.Annotated[langchain_core.messages.function.FunctionMessageChunk, Tag(tag='FunctionMessageChunk')], typing.Annotated[langchain_core.messages.tool.ToolMessageChunk, Tag(tag='ToolMessageChunk')]], FieldInfo(annotation=NoneType, required=True, discriminator=Discriminator(discriminator=<function _get_type at 0x0000021D40B66F20>, custom_error_type=None, custom_error_message=None, custom_error_context=None))]]}, partial_variables={}, messages=[SystemMessagePromptTemplate(prompt=PromptTemplate(input_variables=[], input_types={}, partial_variables={}, template='Give a chat history and the latest user questionwhich might reference context in the chat history,formulate a stadalone question which can be understoodwithout the chat history. Do Not answer the questionjust reformulate it if needed and otherwise return it as is.'), additional_kwargs={}), MessagesPlaceholder(variable_name='chat_history'), HumanMessagePromptTemplate(prompt=PromptTemplate(input_variables=['input'], input_types={}, partial_variables={}, template='{input}'), additional_kwargs={})])\n",
       "| ChatOllama(model='llama3.2:3b')\n",
       "| StrOutputParser()\n",
       "| VectorStoreRetriever(tags=['Chroma', 'OllamaEmbeddings'], vectorstore=<langchain_chroma.vectorstores.Chroma object at 0x0000021D4095EF30>, search_kwargs={})), kwargs={}, config={'run_name': 'chat_retriever_chain'}, config_factories=[])"
      ]
     },
     "execution_count": 43,
     "metadata": {},
     "output_type": "execute_result"
    }
   ],
   "source": [
    "history_aware_retriever"
   ]
  },
  {
   "cell_type": "code",
   "execution_count": 54,
   "metadata": {},
   "outputs": [],
   "source": [
    "template = \"\"\"Answer the question based only on the following context:\n",
    "\n",
    "{context}\n",
    "\n",
    "Question: {input}\n",
    "\"\"\"\n",
    "\n",
    "qa_prompt = ChatPromptTemplate.from_messages(\n",
    "    [\n",
    "        ('system', system_prompt),\n",
    "        MessagesPlaceholder('chat_history'),\n",
    "        ('human', template)\n",
    "    ]\n",
    ")"
   ]
  },
  {
   "cell_type": "code",
   "execution_count": 55,
   "metadata": {},
   "outputs": [],
   "source": [
    "document_chain = create_stuff_documents_chain(llm, qa_prompt)"
   ]
  },
  {
   "cell_type": "code",
   "execution_count": 56,
   "metadata": {},
   "outputs": [],
   "source": [
    "rag_chain = create_retrieval_chain(history_aware_retriever, document_chain)"
   ]
  },
  {
   "cell_type": "code",
   "execution_count": 62,
   "metadata": {},
   "outputs": [],
   "source": [
    "from langchain_core.messages import HumanMessage, AIMessage"
   ]
  },
  {
   "cell_type": "code",
   "execution_count": 63,
   "metadata": {},
   "outputs": [],
   "source": [
    "chat_history = []\n",
    "\n",
    "question = 'what is ai agents'\n",
    "\n",
    "response = rag_chain.invoke({'input' : question, 'chat_history' : chat_history})\n",
    "\n",
    "chat_history.extend(\n",
    "    [\n",
    "        HumanMessage(content=question),\n",
    "        AIMessage(content=response['answer'])\n",
    "    ]\n",
    ")"
   ]
  },
  {
   "cell_type": "code",
   "execution_count": 65,
   "metadata": {},
   "outputs": [],
   "source": [
    "question = 'what is ai'\n",
    "\n",
    "response = rag_chain.invoke({'input' : question, 'chat_history' : chat_history})\n",
    "\n",
    "chat_history.extend(\n",
    "    [\n",
    "        HumanMessage(content=question),\n",
    "        AIMessage(content=response['answer'])\n",
    "    ]\n",
    ")"
   ]
  },
  {
   "cell_type": "code",
   "execution_count": 66,
   "metadata": {},
   "outputs": [
    {
     "data": {
      "text/plain": [
       "[HumanMessage(content='what is ai agents', additional_kwargs={}, response_metadata={}),\n",
       " AIMessage(content='Here\\'s a reformulated version of the question that can be understood without referencing the chat history:\\n\\n\"What are AI agents?\"', additional_kwargs={}, response_metadata={}),\n",
       " HumanMessage(content='what is ai', additional_kwargs={}, response_metadata={}),\n",
       " AIMessage(content='According to the context provided by the industry newsletter, an AI agent refers to a system or program that autonomously performs tasks on behalf of a user or another system, designed to utilize available tools and workflow to complete complex tasks.', additional_kwargs={}, response_metadata={})]"
      ]
     },
     "execution_count": 66,
     "metadata": {},
     "output_type": "execute_result"
    }
   ],
   "source": [
    "chat_history"
   ]
  },
  {
   "cell_type": "code",
   "execution_count": 68,
   "metadata": {},
   "outputs": [],
   "source": [
    "from langchain_community.chat_message_histories import ChatMessageHistory\n",
    "from langchain_core.chat_history import BaseChatMessageHistory\n",
    "from langchain_core.runnables.history import RunnableWithMessageHistory"
   ]
  },
  {
   "cell_type": "code",
   "execution_count": 69,
   "metadata": {},
   "outputs": [],
   "source": [
    "store = {}\n",
    "\n",
    "def get_session_memory(session_id: str) -> BaseChatMessageHistory:\n",
    "    if session_id not in store:\n",
    "        store[session_id] = ChatMessageHistory()\n",
    "\n",
    "    else:\n",
    "        return store[session_id]"
   ]
  },
  {
   "cell_type": "code",
   "execution_count": 70,
   "metadata": {},
   "outputs": [],
   "source": [
    "runnable = RunnableWithMessageHistory(\n",
    "    rag_chain,\n",
    "    get_session_memory,\n",
    "    input_messages_key='input',\n",
    "    history_messages_key='chat_history',\n",
    "    output_messages_key='answer'\n",
    ")"
   ]
  },
  {
   "cell_type": "code",
   "execution_count": 73,
   "metadata": {},
   "outputs": [
    {
     "data": {
      "text/plain": [
       "{'input': 'what is ai agents',\n",
       " 'chat_history': [],\n",
       " 'context': [Document(metadata={'description': 'An artificial intelligence (AI) agent refers to a system or program that is capable of autonomously performing tasks on behalf of a user or another system.', 'language': 'en', 'source': 'https://www.ibm.com/think/topics/ai-agents', 'title': 'What Are AI Agents? | IBM'}, page_content='What Are AI Agents? | IBM\\n\\n\\n\\n\\n\\n\\n\\n\\n\\n\\n\\n\\n\\n\\n\\n\\n\\n\\n\\n\\n\\n\\n\\n\\n\\n\\n\\n\\n\\n\\n\\n\\n\\n\\n\\n\\n\\n\\n\\n\\n\\n\\n\\n\\n\\n\\n\\n\\n\\n\\n\\n\\n\\n\\n\\n\\n\\n\\n\\n\\n\\n\\n\\n\\n\\n\\n\\n\\n\\n\\n\\n\\n\\n\\n\\n\\n\\n                        \\n\\n\\n\\n  \\n    What are AI agents?\\n\\n\\n\\n\\n\\n\\n    \\n\\n\\n                    \\n\\n\\n\\n\\n\\n\\n\\n\\n\\n\\n\\n\\n\\n\\n\\n\\n\\n\\n\\n\\n\\n\\n\\n\\n\\n\\n                                    Artificial Intelligence\\n                                \\n\\n\\n\\n\\n\\n\\n                    \\n\\n\\n\\n  \\n    3 July 2024\\n\\n\\n\\n\\n\\n\\n    \\n\\n\\n                \\n\\n\\n\\n\\n\\n\\n\\n\\n\\n\\n\\n\\n                Link copied\\n            \\n\\n\\n\\n\\n\\n\\n\\n\\n\\n\\n\\n\\n\\n\\n\\n\\n\\n\\n\\n\\n\\n\\n\\n\\n\\n\\n\\n\\n\\n\\n\\n\\n\\n\\n\\n\\n\\n\\n\\n\\n\\n        \\n\\n\\n\\n  \\n    Authors\\n\\n\\n\\n\\n\\n\\n    \\n\\n\\n    \\n\\n\\n\\n\\n\\n\\n\\n\\n\\n\\n\\n\\n\\nAnna Gutowska\\nData Scientist, Developer Advocacy, IBM\\n\\n\\n\\n\\n\\n\\n\\r\\n        What are AI agents?\\r\\n    \\n\\n\\n\\nAn\\xa0artificial intelligence (AI)\\xa0agent refers to a system or program that is capable of autonomously performing tasks on behalf of a user or another system by designing its workflow and utilizing available tools.'),\n",
       "  Document(metadata={'description': 'An artificial intelligence (AI) agent refers to a system or program that is capable of autonomously performing tasks on behalf of a user or another system.', 'language': 'en', 'source': 'https://www.ibm.com/think/topics/ai-agents', 'title': 'What Are AI Agents? | IBM'}, page_content='AI agents can encompass a wide range of functionalities beyond natural language processing including decision-making, problem-solving, interacting with external environments and executing actions.\\nThese agents can be deployed in various applications to solve complex tasks in various enterprise contexts from software design and IT automation to code-generation tools and conversational assistants. They use the advanced natural language processing techniques of large language models (LLMs) to comprehend and respond to user inputs step-by-step and determine when to call on external tools.\\n\\n\\n\\n\\n\\n\\n\\n\\n\\n\\n\\n\\n\\r\\n        How AI agents work'),\n",
       "  Document(metadata={'description': 'An artificial intelligence (AI) agent refers to a system or program that is capable of autonomously performing tasks on behalf of a user or another system.', 'language': 'en', 'source': 'https://www.ibm.com/think/topics/ai-agents', 'title': 'What Are AI Agents? | IBM'}, page_content=\"How AI agents work\\r\\n    \\n\\n\\n\\nAt the core of AI agents are\\xa0large language models\\xa0(LLMs). For this reason, AI agents are often referred to as LLM agents.\\xa0Traditional\\xa0LLMs, such as\\xa0IBM®\\xa0Granite™ models,\\xa0produce their responses based on the data used to train them and are bounded by knowledge and reasoning limitations. In contrast, agentic technology uses tool calling on the backend to obtain up-to-date information, optimize workflow and create subtasks autonomously to achieve complex goals.\\nIn this process, the autonomous agent learns to adapt to user expectations over time. The agent's ability to store past interactions in memory and plan future actions encourages a personalized experience and comprehensive responses.1\\xa0This tool calling can be achieved without human intervention and broadens the possibilities for real-world applications of these AI systems.\\xa0The approach that\\xa0AI agents\\xa0take in achieving goals set by users is comprised of these three stages:\"),\n",
       "  Document(metadata={'description': 'An artificial intelligence (AI) agent refers to a system or program that is capable of autonomously performing tasks on behalf of a user or another system.', 'language': 'en', 'source': 'https://www.ibm.com/think/topics/ai-agents', 'title': 'What Are AI Agents? | IBM'}, page_content='Emergency response\\n\\n\\n\\n\\n\\n\\n    \\n\\n\\n    \\n\\n\\nIn case of natural disasters,\\xa0AI agents\\xa0can use\\xa0deep learning\\xa0algorithms\\xa0to retrieve the information of users on social media sites that need rescue. The locations of these users can be mapped to assist rescue services in saving more people in less time. Therefore,\\xa0AI agents\\xa0can greatly benefit human life in both mundane tasks and life-saving situations.10\\n\\n\\n\\n\\n\\n\\r\\n        Benefits of AI agents\\r\\n    \\n\\n\\n\\nTask automation\\n\\n\\nWith the ongoing\\xa0advancements\\xa0in\\xa0generative AI, there is a growing interest in workflow\\xa0optimization using AI, or intelligent automation.\\xa0AI agents\\xa0are\\xa0AI tools\\xa0that can\\xa0automate\\xa0complex tasks\\xa0that would otherwise require human resources. This translates to goals being reached inexpensively, rapidly and at scale. In turn, these\\xa0advancements\\xa0mean\\xa0human agents\\xa0do not need to provide direction to the\\xa0AI assistant\\xa0for creating and navigating its tasks.')],\n",
       " 'answer': 'Is an AI agent a system that can autonomously perform tasks on behalf of a user or another system by designing its workflow and utilizing available tools?'}"
      ]
     },
     "execution_count": 73,
     "metadata": {},
     "output_type": "execute_result"
    }
   ],
   "source": [
    "runnable.invoke(\n",
    "    {\"input\" : \"what is ai agents\"},\n",
    "    config = {'configurable' : {'session_id' : 'chat1'}}\n",
    ")"
   ]
  },
  {
   "cell_type": "code",
   "execution_count": 75,
   "metadata": {},
   "outputs": [
    {
     "data": {
      "text/plain": [
       "{'input': 'and what are its usecases',\n",
       " 'chat_history': [HumanMessage(content='what is ai agents', additional_kwargs={}, response_metadata={}),\n",
       "  AIMessage(content='Is an AI agent a system that can autonomously perform tasks on behalf of a user or another system by designing its workflow and utilizing available tools?', additional_kwargs={}, response_metadata={})],\n",
       " 'context': [Document(metadata={'description': 'An artificial intelligence (AI) agent refers to a system or program that is capable of autonomously performing tasks on behalf of a user or another system.', 'language': 'en', 'source': 'https://www.ibm.com/think/topics/ai-agents', 'title': 'What Are AI Agents? | IBM'}, page_content='AI agents can encompass a wide range of functionalities beyond natural language processing including decision-making, problem-solving, interacting with external environments and executing actions.\\nThese agents can be deployed in various applications to solve complex tasks in various enterprise contexts from software design and IT automation to code-generation tools and conversational assistants. They use the advanced natural language processing techniques of large language models (LLMs) to comprehend and respond to user inputs step-by-step and determine when to call on external tools.\\n\\n\\n\\n\\n\\n\\n\\n\\n\\n\\n\\n\\n\\r\\n        How AI agents work'),\n",
       "  Document(metadata={'description': 'An artificial intelligence (AI) agent refers to a system or program that is capable of autonomously performing tasks on behalf of a user or another system.', 'language': 'en', 'source': 'https://www.ibm.com/think/topics/ai-agents', 'title': 'What Are AI Agents? | IBM'}, page_content='In contrast,\\xa0agentic AI chatbots learn to adapt to user expectations over time, providing a more personalized experience and comprehensive responses. They can complete complex tasks by creating subtasks without\\xa0human intervention and considering different plans. These plans can also be self-corrected and updated as needed.\\xa0Agentic AI chatbots, unlike non-agentic ones, assess their tools and use their available resources to fill in information gaps.\\xa0\\n\\n\\n\\n\\n\\n\\n\\n\\n\\n\\n\\n\\n\\n  \\n  \\n      Mixture of Experts | 14 February, episode 42\\n  \\n\\n\\n\\n\\n    \\n\\n\\n\\n\\n\\n\\n\\n\\n\\n\\n            \\n\\n\\n\\n  \\n    Decoding AI: Weekly News Roundup\\n\\n\\n\\n\\n\\n\\n    \\n\\n\\n        \\n\\n\\nJoin our world-class panel of engineers, researchers, product leaders and more as they cut through the AI noise to bring you the latest in AI news and insights.\\n\\n\\n\\n\\nWatch the latest podcast episodes\\n\\n\\n\\n\\n\\n\\n\\n\\n\\n\\n\\n\\n\\n\\n\\n\\n\\n\\n\\n\\n\\r\\n        Reasoning paradigms'),\n",
       "  Document(metadata={'description': 'An artificial intelligence (AI) agent refers to a system or program that is capable of autonomously performing tasks on behalf of a user or another system.', 'language': 'en', 'source': 'https://www.ibm.com/think/topics/ai-agents', 'title': 'What Are AI Agents? | IBM'}, page_content='Agentic versus non-agentic AI chatbots\\r\\n    \\n\\n\\n\\nAI\\xa0chatbots\\xa0use\\xa0conversational AI\\xa0techniques such as\\xa0natural language processing\\xa0(NLP) to understand user questions and automate responses to them. These chatbots are a modality whereas agency is a technological framework.\\xa0\\nNon-agentic AI chatbots are ones without available tools, memory and reasoning. They can only reach short-term goals and cannot plan ahead.\\xa0As we know them, non-agentic chatbots\\xa0require continuous user input to respond.\\xa0They can produce responses to common prompts that most likely align with user expectations but perform poorly on questions unique to the user and their data. Since these chatbots do not hold memory, they cannot learn from their mistakes if their responses are unsatisfactory.'),\n",
       "  Document(metadata={'description': 'An artificial intelligence (AI) agent refers to a system or program that is capable of autonomously performing tasks on behalf of a user or another system.', 'language': 'en', 'source': 'https://www.ibm.com/think/topics/ai-agents', 'title': 'What Are AI Agents? | IBM'}, page_content='Industry newsletter\\n\\n\\n\\nThe latest AI trends, brought to you by experts\\n\\n\\nThank you! You are subscribed.\\n\\n\\n\\nGet curated insights on the most important—and intriguing—AI news. Subscribe to our weekly Think newsletter. See the IBM Privacy Statement.\\n\\n\\n\\n\\n\\n\\n\\n\\n\\n\\n\\n\\n\\n\\n\\n\\n\\n\\n\\n\\n\\nYour subscription will be delivered in English. You will find an unsubscribe link in every newsletter. You can manage your subscriptions or unsubscribe here. Refer to our IBM Privacy Statement for more information.\\n\\n\\n\\n\\n\\n\\n\\n\\n\\n\\n\\n\\n\\n\\n\\n\\r\\n        Agentic versus non-agentic AI chatbots')],\n",
       " 'answer': 'According to the provided context, AI agents are systems that can autonomously perform tasks on behalf of a user or another system, using advanced natural language processing techniques. They can be deployed in various applications to solve complex tasks in enterprise contexts, such as software design, IT automation, and code-generation tools.\\n\\nThe use cases for AI agents include:\\n\\n1. Software design\\n2. IT automation\\n3. Code-generation tools\\n4. Conversational assistants\\n\\nThese systems can provide a more personalized experience and comprehensive responses by learning to adapt to user expectations over time, providing agentic capabilities.'}"
      ]
     },
     "execution_count": 75,
     "metadata": {},
     "output_type": "execute_result"
    }
   ],
   "source": [
    "runnable.invoke(\n",
    "    {\"input\" : \"and what are its usecases\"},\n",
    "    config = {'configurable' : {'session_id' : 'chat1'}}\n",
    ")"
   ]
  },
  {
   "cell_type": "code",
   "execution_count": null,
   "metadata": {},
   "outputs": [],
   "source": [
    "    "
   ]
  }
 ],
 "metadata": {
  "kernelspec": {
   "display_name": "base",
   "language": "python",
   "name": "python3"
  },
  "language_info": {
   "codemirror_mode": {
    "name": "ipython",
    "version": 3
   },
   "file_extension": ".py",
   "mimetype": "text/x-python",
   "name": "python",
   "nbconvert_exporter": "python",
   "pygments_lexer": "ipython3",
   "version": "3.12.7"
  }
 },
 "nbformat": 4,
 "nbformat_minor": 2
}
