{
 "cells": [
  {
   "cell_type": "markdown",
   "metadata": {},
   "source": [
    "### Webscrapping with Python\n",
    "- Goal: Scraping data from a website and converting it into a Pandas DataFrame to train a Machine Learning Model\n"
   ]
  },
  {
   "cell_type": "code",
   "execution_count": 17,
   "metadata": {},
   "outputs": [],
   "source": [
    "import os\n",
    "from dotenv import load_dotenv\n",
    "import requests\n",
    "import bs4"
   ]
  },
  {
   "cell_type": "code",
   "execution_count": 18,
   "metadata": {},
   "outputs": [
    {
     "data": {
      "text/plain": [
       "True"
      ]
     },
     "execution_count": 18,
     "metadata": {},
     "output_type": "execute_result"
    }
   ],
   "source": [
    "load_dotenv()"
   ]
  },
  {
   "cell_type": "markdown",
   "metadata": {},
   "source": [
    "### Scrapping from API"
   ]
  },
  {
   "cell_type": "code",
   "execution_count": 19,
   "metadata": {},
   "outputs": [],
   "source": [
    "os.environ['OPENWEATHER_API'] = os.getenv('OPENWEATHER_API')"
   ]
  },
  {
   "cell_type": "code",
   "execution_count": 24,
   "metadata": {},
   "outputs": [],
   "source": [
    "api_key = os.getenv('OPENWEATHER_API')\n",
    "city = 'karachi'\n",
    "url = f\"https://api.openweathermap.org/data/2.5/weather?appid={api_key}&q={city}&units=metric\"\n",
    "\n",
    "response = requests.get(url=url)"
   ]
  },
  {
   "cell_type": "code",
   "execution_count": 25,
   "metadata": {},
   "outputs": [
    {
     "data": {
      "text/plain": [
       "200"
      ]
     },
     "execution_count": 25,
     "metadata": {},
     "output_type": "execute_result"
    }
   ],
   "source": [
    "response.status_code"
   ]
  },
  {
   "cell_type": "code",
   "execution_count": 29,
   "metadata": {},
   "outputs": [],
   "source": [
    "json_response = response.json()"
   ]
  },
  {
   "cell_type": "code",
   "execution_count": 30,
   "metadata": {},
   "outputs": [
    {
     "data": {
      "text/plain": [
       "{'coord': {'lon': 67.0822, 'lat': 24.9056},\n",
       " 'weather': [{'id': 800,\n",
       "   'main': 'Clear',\n",
       "   'description': 'clear sky',\n",
       "   'icon': '01d'}],\n",
       " 'base': 'stations',\n",
       " 'main': {'temp': 35.9,\n",
       "  'feels_like': 33.31,\n",
       "  'temp_min': 35.9,\n",
       "  'temp_max': 35.9,\n",
       "  'pressure': 1011,\n",
       "  'humidity': 13,\n",
       "  'sea_level': 1011,\n",
       "  'grnd_level': 1008},\n",
       " 'visibility': 6000,\n",
       " 'wind': {'speed': 5.14, 'deg': 250},\n",
       " 'clouds': {'all': 0},\n",
       " 'dt': 1741611963,\n",
       " 'sys': {'type': 1,\n",
       "  'id': 7576,\n",
       "  'country': 'PK',\n",
       "  'sunrise': 1741571164,\n",
       "  'sunset': 1741613887},\n",
       " 'timezone': 18000,\n",
       " 'id': 1174872,\n",
       " 'name': 'Karachi',\n",
       " 'cod': 200}"
      ]
     },
     "execution_count": 30,
     "metadata": {},
     "output_type": "execute_result"
    }
   ],
   "source": [
    "json_response"
   ]
  },
  {
   "cell_type": "markdown",
   "metadata": {},
   "source": [
    "### Scrapping from Web"
   ]
  },
  {
   "cell_type": "code",
   "execution_count": 31,
   "metadata": {},
   "outputs": [],
   "source": [
    "url = \"http://books.toscrape.com/\"\n",
    "\n",
    "response = requests.get(url=url)"
   ]
  },
  {
   "cell_type": "code",
   "execution_count": 34,
   "metadata": {},
   "outputs": [],
   "source": [
    "soup = bs4.BeautifulSoup(response.text, 'html.parser')"
   ]
  },
  {
   "cell_type": "code",
   "execution_count": 35,
   "metadata": {},
   "outputs": [],
   "source": [
    "# Extract book titles and prices\n",
    "books = soup.find_all('article', class_='product_pod')"
   ]
  },
  {
   "cell_type": "code",
   "execution_count": 38,
   "metadata": {},
   "outputs": [],
   "source": [
    "book_data = []\n",
    "for book in books:\n",
    "    title = book.h3.a['title']\n",
    "    price = book.find('p', class_='price_color').text.strip()\n",
    "    book_data.append([title, price])"
   ]
  },
  {
   "cell_type": "code",
   "execution_count": 39,
   "metadata": {},
   "outputs": [
    {
     "data": {
      "text/plain": [
       "[['A Light in the Attic', 'Â£51.77'],\n",
       " ['Tipping the Velvet', 'Â£53.74'],\n",
       " ['Soumission', 'Â£50.10'],\n",
       " ['Sharp Objects', 'Â£47.82'],\n",
       " ['Sapiens: A Brief History of Humankind', 'Â£54.23'],\n",
       " ['The Requiem Red', 'Â£22.65'],\n",
       " ['The Dirty Little Secrets of Getting Your Dream Job', 'Â£33.34'],\n",
       " ['The Coming Woman: A Novel Based on the Life of the Infamous Feminist, Victoria Woodhull',\n",
       "  'Â£17.93'],\n",
       " ['The Boys in the Boat: Nine Americans and Their Epic Quest for Gold at the 1936 Berlin Olympics',\n",
       "  'Â£22.60'],\n",
       " ['The Black Maria', 'Â£52.15'],\n",
       " ['Starving Hearts (Triangular Trade Trilogy, #1)', 'Â£13.99'],\n",
       " [\"Shakespeare's Sonnets\", 'Â£20.66'],\n",
       " ['Set Me Free', 'Â£17.46'],\n",
       " [\"Scott Pilgrim's Precious Little Life (Scott Pilgrim #1)\", 'Â£52.29'],\n",
       " ['Rip it Up and Start Again', 'Â£35.02'],\n",
       " ['Our Band Could Be Your Life: Scenes from the American Indie Underground, 1981-1991',\n",
       "  'Â£57.25'],\n",
       " ['Olio', 'Â£23.88'],\n",
       " ['Mesaerion: The Best Science Fiction Stories 1800-1849', 'Â£37.59'],\n",
       " ['Libertarianism for Beginners', 'Â£51.33'],\n",
       " [\"It's Only the Himalayas\", 'Â£45.17']]"
      ]
     },
     "execution_count": 39,
     "metadata": {},
     "output_type": "execute_result"
    }
   ],
   "source": [
    "book_data"
   ]
  },
  {
   "cell_type": "code",
   "execution_count": 52,
   "metadata": {},
   "outputs": [],
   "source": [
    "import pandas as pd\n",
    "import numpy as np"
   ]
  },
  {
   "cell_type": "code",
   "execution_count": 45,
   "metadata": {},
   "outputs": [],
   "source": [
    "df = pd.DataFrame(book_data, columns=['A', 'B'])"
   ]
  },
  {
   "cell_type": "code",
   "execution_count": 46,
   "metadata": {},
   "outputs": [
    {
     "data": {
      "text/html": [
       "<div>\n",
       "<style scoped>\n",
       "    .dataframe tbody tr th:only-of-type {\n",
       "        vertical-align: middle;\n",
       "    }\n",
       "\n",
       "    .dataframe tbody tr th {\n",
       "        vertical-align: top;\n",
       "    }\n",
       "\n",
       "    .dataframe thead th {\n",
       "        text-align: right;\n",
       "    }\n",
       "</style>\n",
       "<table border=\"1\" class=\"dataframe\">\n",
       "  <thead>\n",
       "    <tr style=\"text-align: right;\">\n",
       "      <th></th>\n",
       "      <th>A</th>\n",
       "      <th>B</th>\n",
       "    </tr>\n",
       "  </thead>\n",
       "  <tbody>\n",
       "    <tr>\n",
       "      <th>0</th>\n",
       "      <td>A Light in the Attic</td>\n",
       "      <td>Â£51.77</td>\n",
       "    </tr>\n",
       "    <tr>\n",
       "      <th>1</th>\n",
       "      <td>Tipping the Velvet</td>\n",
       "      <td>Â£53.74</td>\n",
       "    </tr>\n",
       "    <tr>\n",
       "      <th>2</th>\n",
       "      <td>Soumission</td>\n",
       "      <td>Â£50.10</td>\n",
       "    </tr>\n",
       "    <tr>\n",
       "      <th>3</th>\n",
       "      <td>Sharp Objects</td>\n",
       "      <td>Â£47.82</td>\n",
       "    </tr>\n",
       "    <tr>\n",
       "      <th>4</th>\n",
       "      <td>Sapiens: A Brief History of Humankind</td>\n",
       "      <td>Â£54.23</td>\n",
       "    </tr>\n",
       "    <tr>\n",
       "      <th>5</th>\n",
       "      <td>The Requiem Red</td>\n",
       "      <td>Â£22.65</td>\n",
       "    </tr>\n",
       "    <tr>\n",
       "      <th>6</th>\n",
       "      <td>The Dirty Little Secrets of Getting Your Dream...</td>\n",
       "      <td>Â£33.34</td>\n",
       "    </tr>\n",
       "    <tr>\n",
       "      <th>7</th>\n",
       "      <td>The Coming Woman: A Novel Based on the Life of...</td>\n",
       "      <td>Â£17.93</td>\n",
       "    </tr>\n",
       "    <tr>\n",
       "      <th>8</th>\n",
       "      <td>The Boys in the Boat: Nine Americans and Their...</td>\n",
       "      <td>Â£22.60</td>\n",
       "    </tr>\n",
       "    <tr>\n",
       "      <th>9</th>\n",
       "      <td>The Black Maria</td>\n",
       "      <td>Â£52.15</td>\n",
       "    </tr>\n",
       "    <tr>\n",
       "      <th>10</th>\n",
       "      <td>Starving Hearts (Triangular Trade Trilogy, #1)</td>\n",
       "      <td>Â£13.99</td>\n",
       "    </tr>\n",
       "    <tr>\n",
       "      <th>11</th>\n",
       "      <td>Shakespeare's Sonnets</td>\n",
       "      <td>Â£20.66</td>\n",
       "    </tr>\n",
       "    <tr>\n",
       "      <th>12</th>\n",
       "      <td>Set Me Free</td>\n",
       "      <td>Â£17.46</td>\n",
       "    </tr>\n",
       "    <tr>\n",
       "      <th>13</th>\n",
       "      <td>Scott Pilgrim's Precious Little Life (Scott Pi...</td>\n",
       "      <td>Â£52.29</td>\n",
       "    </tr>\n",
       "    <tr>\n",
       "      <th>14</th>\n",
       "      <td>Rip it Up and Start Again</td>\n",
       "      <td>Â£35.02</td>\n",
       "    </tr>\n",
       "    <tr>\n",
       "      <th>15</th>\n",
       "      <td>Our Band Could Be Your Life: Scenes from the A...</td>\n",
       "      <td>Â£57.25</td>\n",
       "    </tr>\n",
       "    <tr>\n",
       "      <th>16</th>\n",
       "      <td>Olio</td>\n",
       "      <td>Â£23.88</td>\n",
       "    </tr>\n",
       "    <tr>\n",
       "      <th>17</th>\n",
       "      <td>Mesaerion: The Best Science Fiction Stories 18...</td>\n",
       "      <td>Â£37.59</td>\n",
       "    </tr>\n",
       "    <tr>\n",
       "      <th>18</th>\n",
       "      <td>Libertarianism for Beginners</td>\n",
       "      <td>Â£51.33</td>\n",
       "    </tr>\n",
       "    <tr>\n",
       "      <th>19</th>\n",
       "      <td>It's Only the Himalayas</td>\n",
       "      <td>Â£45.17</td>\n",
       "    </tr>\n",
       "  </tbody>\n",
       "</table>\n",
       "</div>"
      ],
      "text/plain": [
       "                                                    A        B\n",
       "0                                A Light in the Attic  Â£51.77\n",
       "1                                  Tipping the Velvet  Â£53.74\n",
       "2                                          Soumission  Â£50.10\n",
       "3                                       Sharp Objects  Â£47.82\n",
       "4               Sapiens: A Brief History of Humankind  Â£54.23\n",
       "5                                     The Requiem Red  Â£22.65\n",
       "6   The Dirty Little Secrets of Getting Your Dream...  Â£33.34\n",
       "7   The Coming Woman: A Novel Based on the Life of...  Â£17.93\n",
       "8   The Boys in the Boat: Nine Americans and Their...  Â£22.60\n",
       "9                                     The Black Maria  Â£52.15\n",
       "10     Starving Hearts (Triangular Trade Trilogy, #1)  Â£13.99\n",
       "11                              Shakespeare's Sonnets  Â£20.66\n",
       "12                                        Set Me Free  Â£17.46\n",
       "13  Scott Pilgrim's Precious Little Life (Scott Pi...  Â£52.29\n",
       "14                          Rip it Up and Start Again  Â£35.02\n",
       "15  Our Band Could Be Your Life: Scenes from the A...  Â£57.25\n",
       "16                                               Olio  Â£23.88\n",
       "17  Mesaerion: The Best Science Fiction Stories 18...  Â£37.59\n",
       "18                       Libertarianism for Beginners  Â£51.33\n",
       "19                            It's Only the Himalayas  Â£45.17"
      ]
     },
     "execution_count": 46,
     "metadata": {},
     "output_type": "execute_result"
    }
   ],
   "source": [
    "df"
   ]
  },
  {
   "cell_type": "code",
   "execution_count": 53,
   "metadata": {},
   "outputs": [],
   "source": [
    "df['B'] = df.B.str.split('£').str[1].astype(np.float64)"
   ]
  },
  {
   "cell_type": "code",
   "execution_count": 54,
   "metadata": {},
   "outputs": [
    {
     "data": {
      "text/html": [
       "<div>\n",
       "<style scoped>\n",
       "    .dataframe tbody tr th:only-of-type {\n",
       "        vertical-align: middle;\n",
       "    }\n",
       "\n",
       "    .dataframe tbody tr th {\n",
       "        vertical-align: top;\n",
       "    }\n",
       "\n",
       "    .dataframe thead th {\n",
       "        text-align: right;\n",
       "    }\n",
       "</style>\n",
       "<table border=\"1\" class=\"dataframe\">\n",
       "  <thead>\n",
       "    <tr style=\"text-align: right;\">\n",
       "      <th></th>\n",
       "      <th>A</th>\n",
       "      <th>B</th>\n",
       "    </tr>\n",
       "  </thead>\n",
       "  <tbody>\n",
       "    <tr>\n",
       "      <th>0</th>\n",
       "      <td>A Light in the Attic</td>\n",
       "      <td>51.77</td>\n",
       "    </tr>\n",
       "    <tr>\n",
       "      <th>1</th>\n",
       "      <td>Tipping the Velvet</td>\n",
       "      <td>53.74</td>\n",
       "    </tr>\n",
       "    <tr>\n",
       "      <th>2</th>\n",
       "      <td>Soumission</td>\n",
       "      <td>50.10</td>\n",
       "    </tr>\n",
       "    <tr>\n",
       "      <th>3</th>\n",
       "      <td>Sharp Objects</td>\n",
       "      <td>47.82</td>\n",
       "    </tr>\n",
       "    <tr>\n",
       "      <th>4</th>\n",
       "      <td>Sapiens: A Brief History of Humankind</td>\n",
       "      <td>54.23</td>\n",
       "    </tr>\n",
       "    <tr>\n",
       "      <th>5</th>\n",
       "      <td>The Requiem Red</td>\n",
       "      <td>22.65</td>\n",
       "    </tr>\n",
       "    <tr>\n",
       "      <th>6</th>\n",
       "      <td>The Dirty Little Secrets of Getting Your Dream...</td>\n",
       "      <td>33.34</td>\n",
       "    </tr>\n",
       "    <tr>\n",
       "      <th>7</th>\n",
       "      <td>The Coming Woman: A Novel Based on the Life of...</td>\n",
       "      <td>17.93</td>\n",
       "    </tr>\n",
       "    <tr>\n",
       "      <th>8</th>\n",
       "      <td>The Boys in the Boat: Nine Americans and Their...</td>\n",
       "      <td>22.60</td>\n",
       "    </tr>\n",
       "    <tr>\n",
       "      <th>9</th>\n",
       "      <td>The Black Maria</td>\n",
       "      <td>52.15</td>\n",
       "    </tr>\n",
       "    <tr>\n",
       "      <th>10</th>\n",
       "      <td>Starving Hearts (Triangular Trade Trilogy, #1)</td>\n",
       "      <td>13.99</td>\n",
       "    </tr>\n",
       "    <tr>\n",
       "      <th>11</th>\n",
       "      <td>Shakespeare's Sonnets</td>\n",
       "      <td>20.66</td>\n",
       "    </tr>\n",
       "    <tr>\n",
       "      <th>12</th>\n",
       "      <td>Set Me Free</td>\n",
       "      <td>17.46</td>\n",
       "    </tr>\n",
       "    <tr>\n",
       "      <th>13</th>\n",
       "      <td>Scott Pilgrim's Precious Little Life (Scott Pi...</td>\n",
       "      <td>52.29</td>\n",
       "    </tr>\n",
       "    <tr>\n",
       "      <th>14</th>\n",
       "      <td>Rip it Up and Start Again</td>\n",
       "      <td>35.02</td>\n",
       "    </tr>\n",
       "    <tr>\n",
       "      <th>15</th>\n",
       "      <td>Our Band Could Be Your Life: Scenes from the A...</td>\n",
       "      <td>57.25</td>\n",
       "    </tr>\n",
       "    <tr>\n",
       "      <th>16</th>\n",
       "      <td>Olio</td>\n",
       "      <td>23.88</td>\n",
       "    </tr>\n",
       "    <tr>\n",
       "      <th>17</th>\n",
       "      <td>Mesaerion: The Best Science Fiction Stories 18...</td>\n",
       "      <td>37.59</td>\n",
       "    </tr>\n",
       "    <tr>\n",
       "      <th>18</th>\n",
       "      <td>Libertarianism for Beginners</td>\n",
       "      <td>51.33</td>\n",
       "    </tr>\n",
       "    <tr>\n",
       "      <th>19</th>\n",
       "      <td>It's Only the Himalayas</td>\n",
       "      <td>45.17</td>\n",
       "    </tr>\n",
       "  </tbody>\n",
       "</table>\n",
       "</div>"
      ],
      "text/plain": [
       "                                                    A      B\n",
       "0                                A Light in the Attic  51.77\n",
       "1                                  Tipping the Velvet  53.74\n",
       "2                                          Soumission  50.10\n",
       "3                                       Sharp Objects  47.82\n",
       "4               Sapiens: A Brief History of Humankind  54.23\n",
       "5                                     The Requiem Red  22.65\n",
       "6   The Dirty Little Secrets of Getting Your Dream...  33.34\n",
       "7   The Coming Woman: A Novel Based on the Life of...  17.93\n",
       "8   The Boys in the Boat: Nine Americans and Their...  22.60\n",
       "9                                     The Black Maria  52.15\n",
       "10     Starving Hearts (Triangular Trade Trilogy, #1)  13.99\n",
       "11                              Shakespeare's Sonnets  20.66\n",
       "12                                        Set Me Free  17.46\n",
       "13  Scott Pilgrim's Precious Little Life (Scott Pi...  52.29\n",
       "14                          Rip it Up and Start Again  35.02\n",
       "15  Our Band Could Be Your Life: Scenes from the A...  57.25\n",
       "16                                               Olio  23.88\n",
       "17  Mesaerion: The Best Science Fiction Stories 18...  37.59\n",
       "18                       Libertarianism for Beginners  51.33\n",
       "19                            It's Only the Himalayas  45.17"
      ]
     },
     "execution_count": 54,
     "metadata": {},
     "output_type": "execute_result"
    }
   ],
   "source": [
    "df"
   ]
  },
  {
   "cell_type": "code",
   "execution_count": 57,
   "metadata": {},
   "outputs": [],
   "source": [
    "df['A'] = df.A.str.lower()"
   ]
  },
  {
   "cell_type": "code",
   "execution_count": 58,
   "metadata": {},
   "outputs": [
    {
     "data": {
      "text/html": [
       "<div>\n",
       "<style scoped>\n",
       "    .dataframe tbody tr th:only-of-type {\n",
       "        vertical-align: middle;\n",
       "    }\n",
       "\n",
       "    .dataframe tbody tr th {\n",
       "        vertical-align: top;\n",
       "    }\n",
       "\n",
       "    .dataframe thead th {\n",
       "        text-align: right;\n",
       "    }\n",
       "</style>\n",
       "<table border=\"1\" class=\"dataframe\">\n",
       "  <thead>\n",
       "    <tr style=\"text-align: right;\">\n",
       "      <th></th>\n",
       "      <th>A</th>\n",
       "      <th>B</th>\n",
       "    </tr>\n",
       "  </thead>\n",
       "  <tbody>\n",
       "    <tr>\n",
       "      <th>0</th>\n",
       "      <td>a light in the attic</td>\n",
       "      <td>51.77</td>\n",
       "    </tr>\n",
       "    <tr>\n",
       "      <th>1</th>\n",
       "      <td>tipping the velvet</td>\n",
       "      <td>53.74</td>\n",
       "    </tr>\n",
       "    <tr>\n",
       "      <th>2</th>\n",
       "      <td>soumission</td>\n",
       "      <td>50.10</td>\n",
       "    </tr>\n",
       "    <tr>\n",
       "      <th>3</th>\n",
       "      <td>sharp objects</td>\n",
       "      <td>47.82</td>\n",
       "    </tr>\n",
       "    <tr>\n",
       "      <th>4</th>\n",
       "      <td>sapiens: a brief history of humankind</td>\n",
       "      <td>54.23</td>\n",
       "    </tr>\n",
       "    <tr>\n",
       "      <th>5</th>\n",
       "      <td>the requiem red</td>\n",
       "      <td>22.65</td>\n",
       "    </tr>\n",
       "    <tr>\n",
       "      <th>6</th>\n",
       "      <td>the dirty little secrets of getting your dream...</td>\n",
       "      <td>33.34</td>\n",
       "    </tr>\n",
       "    <tr>\n",
       "      <th>7</th>\n",
       "      <td>the coming woman: a novel based on the life of...</td>\n",
       "      <td>17.93</td>\n",
       "    </tr>\n",
       "    <tr>\n",
       "      <th>8</th>\n",
       "      <td>the boys in the boat: nine americans and their...</td>\n",
       "      <td>22.60</td>\n",
       "    </tr>\n",
       "    <tr>\n",
       "      <th>9</th>\n",
       "      <td>the black maria</td>\n",
       "      <td>52.15</td>\n",
       "    </tr>\n",
       "    <tr>\n",
       "      <th>10</th>\n",
       "      <td>starving hearts (triangular trade trilogy, #1)</td>\n",
       "      <td>13.99</td>\n",
       "    </tr>\n",
       "    <tr>\n",
       "      <th>11</th>\n",
       "      <td>shakespeare's sonnets</td>\n",
       "      <td>20.66</td>\n",
       "    </tr>\n",
       "    <tr>\n",
       "      <th>12</th>\n",
       "      <td>set me free</td>\n",
       "      <td>17.46</td>\n",
       "    </tr>\n",
       "    <tr>\n",
       "      <th>13</th>\n",
       "      <td>scott pilgrim's precious little life (scott pi...</td>\n",
       "      <td>52.29</td>\n",
       "    </tr>\n",
       "    <tr>\n",
       "      <th>14</th>\n",
       "      <td>rip it up and start again</td>\n",
       "      <td>35.02</td>\n",
       "    </tr>\n",
       "    <tr>\n",
       "      <th>15</th>\n",
       "      <td>our band could be your life: scenes from the a...</td>\n",
       "      <td>57.25</td>\n",
       "    </tr>\n",
       "    <tr>\n",
       "      <th>16</th>\n",
       "      <td>olio</td>\n",
       "      <td>23.88</td>\n",
       "    </tr>\n",
       "    <tr>\n",
       "      <th>17</th>\n",
       "      <td>mesaerion: the best science fiction stories 18...</td>\n",
       "      <td>37.59</td>\n",
       "    </tr>\n",
       "    <tr>\n",
       "      <th>18</th>\n",
       "      <td>libertarianism for beginners</td>\n",
       "      <td>51.33</td>\n",
       "    </tr>\n",
       "    <tr>\n",
       "      <th>19</th>\n",
       "      <td>it's only the himalayas</td>\n",
       "      <td>45.17</td>\n",
       "    </tr>\n",
       "  </tbody>\n",
       "</table>\n",
       "</div>"
      ],
      "text/plain": [
       "                                                    A      B\n",
       "0                                a light in the attic  51.77\n",
       "1                                  tipping the velvet  53.74\n",
       "2                                          soumission  50.10\n",
       "3                                       sharp objects  47.82\n",
       "4               sapiens: a brief history of humankind  54.23\n",
       "5                                     the requiem red  22.65\n",
       "6   the dirty little secrets of getting your dream...  33.34\n",
       "7   the coming woman: a novel based on the life of...  17.93\n",
       "8   the boys in the boat: nine americans and their...  22.60\n",
       "9                                     the black maria  52.15\n",
       "10     starving hearts (triangular trade trilogy, #1)  13.99\n",
       "11                              shakespeare's sonnets  20.66\n",
       "12                                        set me free  17.46\n",
       "13  scott pilgrim's precious little life (scott pi...  52.29\n",
       "14                          rip it up and start again  35.02\n",
       "15  our band could be your life: scenes from the a...  57.25\n",
       "16                                               olio  23.88\n",
       "17  mesaerion: the best science fiction stories 18...  37.59\n",
       "18                       libertarianism for beginners  51.33\n",
       "19                            it's only the himalayas  45.17"
      ]
     },
     "execution_count": 58,
     "metadata": {},
     "output_type": "execute_result"
    }
   ],
   "source": [
    "df"
   ]
  },
  {
   "cell_type": "code",
   "execution_count": null,
   "metadata": {},
   "outputs": [],
   "source": []
  }
 ],
 "metadata": {
  "kernelspec": {
   "display_name": "Python 3",
   "language": "python",
   "name": "python3"
  },
  "language_info": {
   "codemirror_mode": {
    "name": "ipython",
    "version": 3
   },
   "file_extension": ".py",
   "mimetype": "text/x-python",
   "name": "python",
   "nbconvert_exporter": "python",
   "pygments_lexer": "ipython3",
   "version": "3.12.6"
  }
 },
 "nbformat": 4,
 "nbformat_minor": 2
}
